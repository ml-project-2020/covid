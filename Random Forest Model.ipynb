{
 "cells": [
  {
   "cell_type": "markdown",
   "metadata": {},
   "source": [
    "# Random Forest Model"
   ]
  },
  {
   "cell_type": "markdown",
   "metadata": {},
   "source": [
    "RF is one of the models we applied to predict deaths for COVID-patients in Mexico.\n",
    "It is worth noting that the data is highly imbalanced, and Random Forest doesn't work well with imbalanced data because it aims to minimize the overall error rate, rather than paying special attention to the positive class.\n",
    "To alleviate the problem, we follow two proposed models by [Chen et al (2004)](https://statistics.berkeley.edu/sites/default/files/tech-reports/666.pdf): balanced random forest (BRF) and weighted random forest (WRF)."
   ]
  },
  {
   "cell_type": "code",
   "execution_count": 16,
   "metadata": {},
   "outputs": [],
   "source": [
    "import pre_ml\n",
    "import mlpipeline\n",
    "import pandas as pd\n",
    "import numpy as np\n",
    "import seaborn as sns\n",
    "import matplotlib.pyplot as plt\n",
    "#!pip install -U imbalanced-learn\n",
    "from imblearn.ensemble import BalancedRandomForestClassifier\n",
    "from sklearn.metrics import accuracy_score, recall_score, precision_score, f1_score, plot_confusion_matrix"
   ]
  },
  {
   "cell_type": "code",
   "execution_count": null,
   "metadata": {},
   "outputs": [],
   "source": [
    "df = pre_ml.data(False)\n",
    "df.head(10)"
   ]
  },
  {
   "cell_type": "markdown",
   "metadata": {},
   "source": [
    "## 1. Pre-process"
   ]
  },
  {
   "cell_type": "markdown",
   "metadata": {},
   "source": [
    "### 1.1 Split data and define features/target variables"
   ]
  },
  {
   "cell_type": "code",
   "execution_count": 82,
   "metadata": {},
   "outputs": [
    {
     "name": "stdout",
     "output_type": "stream",
     "text": [
      "Training data observations:67701\n",
      "Testing data observations:16926\n",
      "Training observations of Deaths=1 and no Deaths=0\n",
      "0    60209\n",
      "1     7492\n",
      "Name: muertos, dtype: int64\n"
     ]
    }
   ],
   "source": [
    "#1st Step: Split\n",
    "train, test = mlpipeline.split_data(df, test_size=0.2, seed=0)\n",
    "print('Training data observations:{}'.format(train.shape[0]))\n",
    "print('Testing data observations:{}'.format(test.shape[0]))\n",
    "print('Training observations of Deaths=1 and no Deaths=0')\n",
    "print(train['muertos'].value_counts())"
   ]
  },
  {
   "cell_type": "markdown",
   "metadata": {},
   "source": [
    "_As seen in the data, only 11% corresponds to one label. When doing Cross Validation, some samples may not have the label = 1 in their data. So, we must take into account some balance techniques._"
   ]
  },
  {
   "cell_type": "code",
   "execution_count": 83,
   "metadata": {},
   "outputs": [],
   "source": [
    "features = ['edad', 'diabetes', 'epoc', 'asma', 'inmusupr', 'hipertension', 'cardiovascular',\n",
    "            'obesidad', 'tabaquismo', 'pobreza', 'medicos', 'camas_hosp', 'enfermeras']\n",
    "target = ['muertos']"
   ]
  },
  {
   "cell_type": "markdown",
   "metadata": {},
   "source": [
    "## 2. Model Learning and Evaluation: Random Forest"
   ]
  },
  {
   "cell_type": "markdown",
   "metadata": {},
   "source": [
    "### 2.2 Balanced Random Forest Classifier\n",
    "From [Chen et al (2004)](https://statistics.berkeley.edu/sites/default/files/tech-reports/666.pdf), \n",
    "the BRF algorithm works as follows:  \n",
    "1. For each iteration in random forest, draw a bootstrap sample from the minority class. Randomly draw the same number of cases, with replacement, from the majority class.\n",
    "2. Induce a classification tree from the data to maximum size, without pruning. The tree is induced with the CART algorithm, with the following modification: At each node, instead of searching through all variables for the optimal split, only search through a set of m randomly selected variables.\n",
    "3. Repeat the two steps above for the number of times desired. Aggregate the predictions of the ensemble and make the final prediction."
   ]
  },
  {
   "cell_type": "code",
   "execution_count": 263,
   "metadata": {},
   "outputs": [],
   "source": [
    "from sklearn.model_selection import GridSearchCV\n",
    "params = {'criterion':['gini', 'entropy'], 'max_depth':[10, 15],\n",
    "         'min_samples_split':[10, 15]}       \n",
    "grid_brf = GridSearchCV(estimator=BalancedRandomForestClassifier(random_state=0), \n",
    "                          param_grid=params, \n",
    "                          cv=5,\n",
    "                          return_train_score=True,\n",
    "                          scoring=['recall', 'precision'],\n",
    "                           refit = 'recall')"
   ]
  },
  {
   "cell_type": "code",
   "execution_count": 264,
   "metadata": {},
   "outputs": [],
   "source": [
    "grid_brf.fit(train[features],train[target].values.ravel())\n",
    "brf_results = pd.DataFrame(grid_brf.cv_results_)"
   ]
  },
  {
   "cell_type": "code",
   "execution_count": 265,
   "metadata": {},
   "outputs": [
    {
     "data": {
      "text/html": [
       "<div>\n",
       "<style scoped>\n",
       "    .dataframe tbody tr th:only-of-type {\n",
       "        vertical-align: middle;\n",
       "    }\n",
       "\n",
       "    .dataframe tbody tr th {\n",
       "        vertical-align: top;\n",
       "    }\n",
       "\n",
       "    .dataframe thead th {\n",
       "        text-align: right;\n",
       "    }\n",
       "</style>\n",
       "<table border=\"1\" class=\"dataframe\">\n",
       "  <thead>\n",
       "    <tr style=\"text-align: right;\">\n",
       "      <th></th>\n",
       "      <th>criterion</th>\n",
       "      <th>depth</th>\n",
       "      <th>min_samples_split</th>\n",
       "      <th>rank_test_recall</th>\n",
       "      <th>mean_test_recall</th>\n",
       "      <th>mean_train_recall</th>\n",
       "      <th>mean_test_precision</th>\n",
       "      <th>mean_train_precision</th>\n",
       "    </tr>\n",
       "  </thead>\n",
       "  <tbody>\n",
       "    <tr>\n",
       "      <th>1</th>\n",
       "      <td>gini</td>\n",
       "      <td>10</td>\n",
       "      <td>15</td>\n",
       "      <td>1</td>\n",
       "      <td>0.802455</td>\n",
       "      <td>0.830119</td>\n",
       "      <td>0.226901</td>\n",
       "      <td>0.235009</td>\n",
       "    </tr>\n",
       "    <tr>\n",
       "      <th>4</th>\n",
       "      <td>entropy</td>\n",
       "      <td>10</td>\n",
       "      <td>10</td>\n",
       "      <td>2</td>\n",
       "      <td>0.802054</td>\n",
       "      <td>0.831320</td>\n",
       "      <td>0.226984</td>\n",
       "      <td>0.235324</td>\n",
       "    </tr>\n",
       "    <tr>\n",
       "      <th>5</th>\n",
       "      <td>entropy</td>\n",
       "      <td>10</td>\n",
       "      <td>15</td>\n",
       "      <td>3</td>\n",
       "      <td>0.800988</td>\n",
       "      <td>0.828684</td>\n",
       "      <td>0.227073</td>\n",
       "      <td>0.234925</td>\n",
       "    </tr>\n",
       "    <tr>\n",
       "      <th>0</th>\n",
       "      <td>gini</td>\n",
       "      <td>10</td>\n",
       "      <td>10</td>\n",
       "      <td>4</td>\n",
       "      <td>0.800186</td>\n",
       "      <td>0.831987</td>\n",
       "      <td>0.226963</td>\n",
       "      <td>0.235581</td>\n",
       "    </tr>\n",
       "    <tr>\n",
       "      <th>2</th>\n",
       "      <td>gini</td>\n",
       "      <td>15</td>\n",
       "      <td>10</td>\n",
       "      <td>5</td>\n",
       "      <td>0.794581</td>\n",
       "      <td>0.863588</td>\n",
       "      <td>0.229724</td>\n",
       "      <td>0.250105</td>\n",
       "    </tr>\n",
       "    <tr>\n",
       "      <th>3</th>\n",
       "      <td>gini</td>\n",
       "      <td>15</td>\n",
       "      <td>15</td>\n",
       "      <td>6</td>\n",
       "      <td>0.794181</td>\n",
       "      <td>0.854611</td>\n",
       "      <td>0.230207</td>\n",
       "      <td>0.247562</td>\n",
       "    </tr>\n",
       "    <tr>\n",
       "      <th>7</th>\n",
       "      <td>entropy</td>\n",
       "      <td>15</td>\n",
       "      <td>15</td>\n",
       "      <td>7</td>\n",
       "      <td>0.792845</td>\n",
       "      <td>0.852543</td>\n",
       "      <td>0.229686</td>\n",
       "      <td>0.246950</td>\n",
       "    </tr>\n",
       "    <tr>\n",
       "      <th>6</th>\n",
       "      <td>entropy</td>\n",
       "      <td>15</td>\n",
       "      <td>10</td>\n",
       "      <td>8</td>\n",
       "      <td>0.792713</td>\n",
       "      <td>0.861018</td>\n",
       "      <td>0.229824</td>\n",
       "      <td>0.249269</td>\n",
       "    </tr>\n",
       "  </tbody>\n",
       "</table>\n",
       "</div>"
      ],
      "text/plain": [
       "  criterion depth min_samples_split  rank_test_recall  mean_test_recall  \\\n",
       "1      gini    10                15                 1          0.802455   \n",
       "4   entropy    10                10                 2          0.802054   \n",
       "5   entropy    10                15                 3          0.800988   \n",
       "0      gini    10                10                 4          0.800186   \n",
       "2      gini    15                10                 5          0.794581   \n",
       "3      gini    15                15                 6          0.794181   \n",
       "7   entropy    15                15                 7          0.792845   \n",
       "6   entropy    15                10                 8          0.792713   \n",
       "\n",
       "   mean_train_recall  mean_test_precision  mean_train_precision  \n",
       "1           0.830119             0.226901              0.235009  \n",
       "4           0.831320             0.226984              0.235324  \n",
       "5           0.828684             0.227073              0.234925  \n",
       "0           0.831987             0.226963              0.235581  \n",
       "2           0.863588             0.229724              0.250105  \n",
       "3           0.854611             0.230207              0.247562  \n",
       "7           0.852543             0.229686              0.246950  \n",
       "6           0.861018             0.229824              0.249269  "
      ]
     },
     "execution_count": 265,
     "metadata": {},
     "output_type": "execute_result"
    }
   ],
   "source": [
    "pd.set_option('mode.chained_assignment', None)\n",
    "cols_to_keep = ['param_criterion','param_max_depth', 'param_min_samples_split', 'rank_test_recall'\n",
    "                ,'mean_test_recall','mean_train_recall', 'mean_test_precision','mean_train_precision']\n",
    "brf_results = brf_results[cols_to_keep]\n",
    "brf_results.rename(columns = {'param_criterion':'criterion',\n",
    "                             'param_max_depth': 'depth', \n",
    "                             'param_min_samples_split': 'min_samples_split'}, inplace=True)\n",
    "brf_results.sort_values(by='rank_test_recall')"
   ]
  },
  {
   "cell_type": "code",
   "execution_count": 266,
   "metadata": {},
   "outputs": [
    {
     "name": "stdout",
     "output_type": "stream",
     "text": [
      "Best Balanced Random Forest Model: {'criterion': 'gini', 'max_depth': 10, 'min_samples_split': 15}\n",
      "Model's Accuracy on test data: 0.67\n",
      "Model's Precision on test data: 0.23\n",
      "Model's Recall on test data: 0.81\n",
      "Model's F1 Score: 0.359\n"
     ]
    },
    {
     "data": {
      "image/png": "[encoded data removed]",
      "text/plain": [
       "<Figure size 432x288 with 2 Axes>"
      ]
     },
     "metadata": {
      "needs_background": "light"
     },
     "output_type": "display_data"
    }
   ],
   "source": [
    "print('Best Balanced Random Forest Model: {}'.format(grid_brf.best_params_))\n",
    "y_pred = grid_brf.predict(test[features])\n",
    "plot_confusion_matrix(grid_brf.best_estimator_, test[features],test[target])\n",
    "print(\"Model's Accuracy on test data: {}\".format(round(accuracy_score(test[target], y_pred),2)))\n",
    "print(\"Model's Precision on test data: {}\".format(round(precision_score(test[target], y_pred),2)))\n",
    "print(\"Model's Recall on test data: {}\".format(round(recall_score(test[target], y_pred),2)))\n",
    "print(\"Model's F1 Score: {}\".format(round(f1_score(test[target], y_pred),3)))"
   ]
  },
  {
   "cell_type": "markdown",
   "metadata": {},
   "source": [
    "### 2.2 Weighted Random Forest Classifier\n",
    "\n",
    "The regular RF classifier tends to be biased towards the majority class, so the weighted random forest places a heavier penalty on misclassifying the minority class (i.e. the minority class is given a larger weight). \n",
    "The weights are used in the tree induction procedure (the splits) and in the terminal nodes (class determined by weighted majority vote).\n",
    "\n",
    "For more applied models for imbalanced data: [link](https://machinelearningmastery.com/bagging-and-random-forest-for-imbalanced-classification/)"
   ]
  },
  {
   "cell_type": "code",
   "execution_count": 213,
   "metadata": {},
   "outputs": [],
   "source": [
    "params = {'criterion':['gini', 'entropy'], 'max_depth':[10, 15],'class_weight':['balanced', 'balanced_subsample'],\n",
    "         'min_samples_split':[10, 15]}       \n",
    "grid_wrf = GridSearchCV(estimator=RandomForestClassifier(random_state=0), \n",
    "                          param_grid=params, \n",
    "                          cv=5,\n",
    "                          return_train_score=True,\n",
    "                          scoring=['recall', 'precision'],\n",
    "                           refit = 'recall')"
   ]
  },
  {
   "cell_type": "code",
   "execution_count": 216,
   "metadata": {},
   "outputs": [],
   "source": [
    "grid_wrf.fit(train[features],train[target].values.ravel())\n",
    "wrf_results = pd.DataFrame(grid_wrf.cv_results_)"
   ]
  },
  {
   "cell_type": "code",
   "execution_count": 219,
   "metadata": {},
   "outputs": [
    {
     "data": {
      "text/html": [
       "<div>\n",
       "<style scoped>\n",
       "    .dataframe tbody tr th:only-of-type {\n",
       "        vertical-align: middle;\n",
       "    }\n",
       "\n",
       "    .dataframe tbody tr th {\n",
       "        vertical-align: top;\n",
       "    }\n",
       "\n",
       "    .dataframe thead th {\n",
       "        text-align: right;\n",
       "    }\n",
       "</style>\n",
       "<table border=\"1\" class=\"dataframe\">\n",
       "  <thead>\n",
       "    <tr style=\"text-align: right;\">\n",
       "      <th></th>\n",
       "      <th>class_weight</th>\n",
       "      <th>criterion</th>\n",
       "      <th>depth</th>\n",
       "      <th>min_samples_split</th>\n",
       "      <th>rank_test_recall</th>\n",
       "      <th>mean_test_recall</th>\n",
       "      <th>mean_train_recall</th>\n",
       "      <th>mean_test_precision</th>\n",
       "      <th>mean_train_precision</th>\n",
       "    </tr>\n",
       "  </thead>\n",
       "  <tbody>\n",
       "    <tr>\n",
       "      <th>5</th>\n",
       "      <td>balanced</td>\n",
       "      <td>entropy</td>\n",
       "      <td>10</td>\n",
       "      <td>15</td>\n",
       "      <td>1</td>\n",
       "      <td>0.758010</td>\n",
       "      <td>0.812633</td>\n",
       "      <td>0.236640</td>\n",
       "      <td>0.253787</td>\n",
       "    </tr>\n",
       "    <tr>\n",
       "      <th>9</th>\n",
       "      <td>balanced_subsample</td>\n",
       "      <td>gini</td>\n",
       "      <td>10</td>\n",
       "      <td>15</td>\n",
       "      <td>2</td>\n",
       "      <td>0.757476</td>\n",
       "      <td>0.819174</td>\n",
       "      <td>0.235732</td>\n",
       "      <td>0.254543</td>\n",
       "    </tr>\n",
       "    <tr>\n",
       "      <th>1</th>\n",
       "      <td>balanced</td>\n",
       "      <td>gini</td>\n",
       "      <td>10</td>\n",
       "      <td>15</td>\n",
       "      <td>3</td>\n",
       "      <td>0.756274</td>\n",
       "      <td>0.816738</td>\n",
       "      <td>0.235872</td>\n",
       "      <td>0.254505</td>\n",
       "    </tr>\n",
       "    <tr>\n",
       "      <th>8</th>\n",
       "      <td>balanced_subsample</td>\n",
       "      <td>gini</td>\n",
       "      <td>10</td>\n",
       "      <td>10</td>\n",
       "      <td>4</td>\n",
       "      <td>0.756141</td>\n",
       "      <td>0.819774</td>\n",
       "      <td>0.235950</td>\n",
       "      <td>0.254906</td>\n",
       "    </tr>\n",
       "    <tr>\n",
       "      <th>13</th>\n",
       "      <td>balanced_subsample</td>\n",
       "      <td>entropy</td>\n",
       "      <td>10</td>\n",
       "      <td>15</td>\n",
       "      <td>5</td>\n",
       "      <td>0.756008</td>\n",
       "      <td>0.813868</td>\n",
       "      <td>0.235541</td>\n",
       "      <td>0.253879</td>\n",
       "    </tr>\n",
       "    <tr>\n",
       "      <th>0</th>\n",
       "      <td>balanced</td>\n",
       "      <td>gini</td>\n",
       "      <td>10</td>\n",
       "      <td>10</td>\n",
       "      <td>6</td>\n",
       "      <td>0.754138</td>\n",
       "      <td>0.818006</td>\n",
       "      <td>0.236863</td>\n",
       "      <td>0.256333</td>\n",
       "    </tr>\n",
       "    <tr>\n",
       "      <th>12</th>\n",
       "      <td>balanced_subsample</td>\n",
       "      <td>entropy</td>\n",
       "      <td>10</td>\n",
       "      <td>10</td>\n",
       "      <td>7</td>\n",
       "      <td>0.752270</td>\n",
       "      <td>0.815536</td>\n",
       "      <td>0.235578</td>\n",
       "      <td>0.255030</td>\n",
       "    </tr>\n",
       "    <tr>\n",
       "      <th>4</th>\n",
       "      <td>balanced</td>\n",
       "      <td>entropy</td>\n",
       "      <td>10</td>\n",
       "      <td>10</td>\n",
       "      <td>8</td>\n",
       "      <td>0.750401</td>\n",
       "      <td>0.814268</td>\n",
       "      <td>0.235853</td>\n",
       "      <td>0.255639</td>\n",
       "    </tr>\n",
       "    <tr>\n",
       "      <th>15</th>\n",
       "      <td>balanced_subsample</td>\n",
       "      <td>entropy</td>\n",
       "      <td>15</td>\n",
       "      <td>15</td>\n",
       "      <td>9</td>\n",
       "      <td>0.656033</td>\n",
       "      <td>0.828984</td>\n",
       "      <td>0.257537</td>\n",
       "      <td>0.323686</td>\n",
       "    </tr>\n",
       "    <tr>\n",
       "      <th>7</th>\n",
       "      <td>balanced</td>\n",
       "      <td>entropy</td>\n",
       "      <td>15</td>\n",
       "      <td>15</td>\n",
       "      <td>10</td>\n",
       "      <td>0.655366</td>\n",
       "      <td>0.829485</td>\n",
       "      <td>0.257999</td>\n",
       "      <td>0.324130</td>\n",
       "    </tr>\n",
       "    <tr>\n",
       "      <th>3</th>\n",
       "      <td>balanced</td>\n",
       "      <td>gini</td>\n",
       "      <td>15</td>\n",
       "      <td>15</td>\n",
       "      <td>11</td>\n",
       "      <td>0.648291</td>\n",
       "      <td>0.832721</td>\n",
       "      <td>0.259509</td>\n",
       "      <td>0.329365</td>\n",
       "    </tr>\n",
       "    <tr>\n",
       "      <th>11</th>\n",
       "      <td>balanced_subsample</td>\n",
       "      <td>gini</td>\n",
       "      <td>15</td>\n",
       "      <td>15</td>\n",
       "      <td>12</td>\n",
       "      <td>0.647624</td>\n",
       "      <td>0.832588</td>\n",
       "      <td>0.260128</td>\n",
       "      <td>0.329838</td>\n",
       "    </tr>\n",
       "    <tr>\n",
       "      <th>6</th>\n",
       "      <td>balanced</td>\n",
       "      <td>entropy</td>\n",
       "      <td>15</td>\n",
       "      <td>10</td>\n",
       "      <td>13</td>\n",
       "      <td>0.638949</td>\n",
       "      <td>0.835091</td>\n",
       "      <td>0.259176</td>\n",
       "      <td>0.335779</td>\n",
       "    </tr>\n",
       "    <tr>\n",
       "      <th>14</th>\n",
       "      <td>balanced_subsample</td>\n",
       "      <td>entropy</td>\n",
       "      <td>15</td>\n",
       "      <td>10</td>\n",
       "      <td>14</td>\n",
       "      <td>0.638014</td>\n",
       "      <td>0.833756</td>\n",
       "      <td>0.259838</td>\n",
       "      <td>0.336409</td>\n",
       "    </tr>\n",
       "    <tr>\n",
       "      <th>10</th>\n",
       "      <td>balanced_subsample</td>\n",
       "      <td>gini</td>\n",
       "      <td>15</td>\n",
       "      <td>10</td>\n",
       "      <td>15</td>\n",
       "      <td>0.630406</td>\n",
       "      <td>0.837927</td>\n",
       "      <td>0.261374</td>\n",
       "      <td>0.343320</td>\n",
       "    </tr>\n",
       "    <tr>\n",
       "      <th>2</th>\n",
       "      <td>balanced</td>\n",
       "      <td>gini</td>\n",
       "      <td>15</td>\n",
       "      <td>10</td>\n",
       "      <td>16</td>\n",
       "      <td>0.627069</td>\n",
       "      <td>0.838795</td>\n",
       "      <td>0.261061</td>\n",
       "      <td>0.343279</td>\n",
       "    </tr>\n",
       "  </tbody>\n",
       "</table>\n",
       "</div>"
      ],
      "text/plain": [
       "          class_weight criterion depth min_samples_split  rank_test_recall  \\\n",
       "5             balanced   entropy    10                15                 1   \n",
       "9   balanced_subsample      gini    10                15                 2   \n",
       "1             balanced      gini    10                15                 3   \n",
       "8   balanced_subsample      gini    10                10                 4   \n",
       "13  balanced_subsample   entropy    10                15                 5   \n",
       "0             balanced      gini    10                10                 6   \n",
       "12  balanced_subsample   entropy    10                10                 7   \n",
       "4             balanced   entropy    10                10                 8   \n",
       "15  balanced_subsample   entropy    15                15                 9   \n",
       "7             balanced   entropy    15                15                10   \n",
       "3             balanced      gini    15                15                11   \n",
       "11  balanced_subsample      gini    15                15                12   \n",
       "6             balanced   entropy    15                10                13   \n",
       "14  balanced_subsample   entropy    15                10                14   \n",
       "10  balanced_subsample      gini    15                10                15   \n",
       "2             balanced      gini    15                10                16   \n",
       "\n",
       "    mean_test_recall  mean_train_recall  mean_test_precision  \\\n",
       "5           0.758010           0.812633             0.236640   \n",
       "9           0.757476           0.819174             0.235732   \n",
       "1           0.756274           0.816738             0.235872   \n",
       "8           0.756141           0.819774             0.235950   \n",
       "13          0.756008           0.813868             0.235541   \n",
       "0           0.754138           0.818006             0.236863   \n",
       "12          0.752270           0.815536             0.235578   \n",
       "4           0.750401           0.814268             0.235853   \n",
       "15          0.656033           0.828984             0.257537   \n",
       "7           0.655366           0.829485             0.257999   \n",
       "3           0.648291           0.832721             0.259509   \n",
       "11          0.647624           0.832588             0.260128   \n",
       "6           0.638949           0.835091             0.259176   \n",
       "14          0.638014           0.833756             0.259838   \n",
       "10          0.630406           0.837927             0.261374   \n",
       "2           0.627069           0.838795             0.261061   \n",
       "\n",
       "    mean_train_precision  \n",
       "5               0.253787  \n",
       "9               0.254543  \n",
       "1               0.254505  \n",
       "8               0.254906  \n",
       "13              0.253879  \n",
       "0               0.256333  \n",
       "12              0.255030  \n",
       "4               0.255639  \n",
       "15              0.323686  \n",
       "7               0.324130  \n",
       "3               0.329365  \n",
       "11              0.329838  \n",
       "6               0.335779  \n",
       "14              0.336409  \n",
       "10              0.343320  \n",
       "2               0.343279  "
      ]
     },
     "execution_count": 219,
     "metadata": {},
     "output_type": "execute_result"
    }
   ],
   "source": [
    "cols_to_keep = ['param_class_weight','param_criterion','param_max_depth', 'param_min_samples_split', \n",
    "                'rank_test_recall','mean_test_recall','mean_train_recall', \n",
    "                'mean_test_precision','mean_train_precision']\n",
    "wrf_results = wrf_results[cols_to_keep]\n",
    "wrf_results.rename(columns = {'param_class_weight':'class_weight',\n",
    "                            'param_criterion':'criterion',\n",
    "                             'param_max_depth': 'depth', \n",
    "                             'param_min_samples_split': 'min_samples_split'}, inplace=True)\n",
    "wrf_results.sort_values(by='rank_test_recall')"
   ]
  },
  {
   "cell_type": "code",
   "execution_count": 225,
   "metadata": {},
   "outputs": [
    {
     "name": "stdout",
     "output_type": "stream",
     "text": [
      "Best Balanced Random Forest Model: {'class_weight': 'balanced', 'criterion': 'entropy', 'max_depth': 10, 'min_samples_split': 15}\n",
      "Model's Accuracy on test data: 0.7\n",
      "Model's Precision on test data: 0.24\n",
      "Model's Recall on test data: 0.77\n",
      "Model's F1 Score: 0.366\n"
     ]
    },
    {
     "data": {
      "image/png": "[encoded data removed]",
      "text/plain": [
       "<Figure size 432x288 with 2 Axes>"
      ]
     },
     "metadata": {
      "needs_background": "light"
     },
     "output_type": "display_data"
    }
   ],
   "source": [
    "print('Best Balanced Random Forest Model: {}'.format(grid_wrf.best_params_))\n",
    "y_pred = grid_wrf.predict(test[features])\n",
    "plot_confusion_matrix(grid_wrf.best_estimator_,test[features],test[target])\n",
    "print(\"Model's Accuracy on test data: {}\".format(round(accuracy_score(test[target], y_pred),2)))\n",
    "print(\"Model's Precision on test data: {}\".format(round(precision_score(test[target], y_pred),2)))\n",
    "print(\"Model's Recall on test data: {}\".format(round(recall_score(test[target], y_pred),2)))\n",
    "print(\"Model's F1 Score: {}\".format(round(f1_score(test[target], y_pred),3)))"
   ]
  },
  {
   "cell_type": "markdown",
   "metadata": {},
   "source": [
    "## 3. Feature Importance\n",
    "\n",
    "From BalanceRF and Weighted RF models, we show the features' importances to predict deaths for COVID-19 patients."
   ]
  },
  {
   "cell_type": "code",
   "execution_count": 291,
   "metadata": {},
   "outputs": [
    {
     "data": {
      "image/png": "[encoded data removed]",
      "text/plain": [
       "<Figure size 1296x720 with 2 Axes>"
      ]
     },
     "metadata": {
      "needs_background": "light"
     },
     "output_type": "display_data"
    }
   ],
   "source": [
    "fig, (ax1, ax2) = plt.subplots(1, 2, figsize=(18, 10))\n",
    "for model, subplot in [(grid_brf.best_estimator_, ax1), (grid_wrf.best_estimator_, ax2)]:\n",
    "    importances = model.feature_importances_\n",
    "    fi = pd.DataFrame(data={'Features': features, \n",
    "                        'Importance': importances}).sort_values(by='Importance', ascending=False)\n",
    "    sns.barplot(x='Importance', y='Features', data=fi, palette=\"RdPu_d\", ax=subplot)\n",
    "    subplot.set_xlabel('Importance')\n",
    "    subplot.set_ylabel('')\n",
    "    if subplot == ax1:\n",
    "        subplot.set_title('Balance Random Forest Feature Importance')\n",
    "    else:\n",
    "        subplot.set_title('Weighted Random Forest Feature Importance')\n"
   ]
  },
  {
   "cell_type": "code",
   "execution_count": null,
   "metadata": {},
   "outputs": [],
   "source": []
  }
 ],
 "metadata": {
  "kernelspec": {
   "display_name": "Python 3",
   "language": "python",
   "name": "python3"
  },
  "language_info": {
   "codemirror_mode": {
    "name": "ipython",
    "version": 3
   },
   "file_extension": ".py",
   "mimetype": "text/x-python",
   "name": "python",
   "nbconvert_exporter": "python",
   "pygments_lexer": "ipython3",
   "version": "3.7.6"
  }
 },
 "nbformat": 4,
 "nbformat_minor": 4
}
