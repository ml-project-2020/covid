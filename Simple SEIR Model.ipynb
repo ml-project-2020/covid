{
 "cells": [
  {
   "cell_type": "markdown",
   "metadata": {},
   "source": [
    "# Simple SEIR Model for COVID-19 death toll prediction\n",
    "Model design inspired by Henri Froese's [article](https://towardsdatascience.com/infectious-disease-modelling-beyond-the-basic-sir-model-216369c584c4)"
   ]
  },
  {
   "cell_type": "code",
   "execution_count": 1,
   "metadata": {},
   "outputs": [],
   "source": [
    "import numpy as np\n",
    "import pandas as pd\n",
    "import matplotlib.pyplot as plt\n",
    "from scipy.integrate import odeint"
   ]
  },
  {
   "cell_type": "markdown",
   "metadata": {},
   "source": [
    "## Design Ordinary differential equations (ODEs) for SEIR"
   ]
  },
  {
   "cell_type": "code",
   "execution_count": 19,
   "metadata": {},
   "outputs": [],
   "source": [
    "def beta(t, R_0_start, R_0_end, t_lock, gamma, k=0.5):\n",
    "    '''\n",
    "    Expected amount of people an infected person infects per day\n",
    "    Inputs:\n",
    "        -t: point in time\n",
    "        -R_0_start : R_0 at the start of epidemic\n",
    "        -R_0_end: R_0 at the end of epidemic\n",
    "        -t_lock: is the t-value of the inflection point (i.e.this could be thought of as the main “lockdown” date)\n",
    "        -gamma:rate of recovery (1/Days the infection lasts)\n",
    "        -k: how quickly R_0 declines\n",
    "    \n",
    "    Note: R_o(the total number of people an infected person infects (R₀ = β / γ))\n",
    "    '''\n",
    "    log_r_0 = (R_0_start-R_0_end) / (1 + np.exp(-k*(-t+t_lock))) + R_0_end\n",
    "    return log_r_0 * gamma\n",
    "\n",
    "def odes_seir(pop, t, N, R_0_start, R_0_end, t_lock, gamma, delta, alpha, rho):\n",
    "    '''\n",
    "    Compute the ODE for Susceptible, Exposed, Infected, Recovered and Death with respect time(t)\n",
    "    \n",
    "    Inputs:\n",
    "        -pop (list): includes susceptible, exposed, infected, and death populations\n",
    "        -t: point in time (interger)\n",
    "        -N: total population(fixed)\n",
    "        -R_0_start : R_0 at the start of epidemic\n",
    "        -R_0_end: R_0 at the end of epidemic\n",
    "        -t_lock: is the t-value of the inflection point (i.e.this could be thought of as the main “lockdown” date)\n",
    "        -gamma:rate of recovery (1/Days the infection lasts)\n",
    "        -delta: length of incubation period\n",
    "        -alpha: fatality rate\n",
    "        -rho: rate at which people die (= 1/days from infected until death)\n",
    "    \n",
    "    '''\n",
    "    S, E, I, R, D = pop\n",
    "    dSusceptible_dt = -beta(t, R_0_start, R_0_end, t_lock, gamma)*S*I/N\n",
    "    dExposed_dt = beta(t, R_0_start, R_0_end, t_lock, gamma)*S*I/N - delta*E\n",
    "    dInfected_dt = delta * E- (1 - alpha) * gamma *I- alpha * rho *I\n",
    "    dRecovered_dt = (1 - alpha) * gamma *I\n",
    "    dDeath_dt = alpha * rho *I\n",
    "    \n",
    "    return dSusceptible_dt, dExposed_dt, dInfected_dt, dRecovered_dt, dDeath_dt"
   ]
  },
  {
   "cell_type": "code",
   "execution_count": 22,
   "metadata": {},
   "outputs": [],
   "source": [
    "N = 1_000_000\n",
    "D = 15 # infections lasts 15 days\n",
    "gamma = 1.0 / D\n",
    "delta = 1.0 / 2.0  # incubation period of five days\n",
    "alpha = 0.1  # 10% death rate\n",
    "R_0_start = 15\n",
    "R_0_end =1\n",
    "t_lock=40\n",
    "rho = 1/7  #7 days from infection until death\n",
    "S0, E0, I0, R0, D0 = N-1, 1, 0, 0, 0  # initial conditions: one exposed\n",
    "t = np.linspace(0, 100, 100) # Grid of time points (in days)\n",
    "y0 = S0, E0, I0, R0, D0\n",
    "# Integrate the SIR equations over the time grid, t.\n",
    "ret = odeint(odes_seir, y0, t, args=(N, R_0_start, R_0_end, t_lock, gamma, delta, alpha, rho))\n",
    "S, E, I, R, D = ret.T"
   ]
  },
  {
   "cell_type": "code",
   "execution_count": 23,
   "metadata": {},
   "outputs": [
    {
     "data": {
      "text/plain": [
       "array([999999.        , 999998.77971166, 999998.1718349 , 999997.12048725,\n",
       "       999995.42915792, 999992.74939282, 999988.51785357, 999981.84102969,\n",
       "       999971.3077067 , 999954.69115705, 999928.47873354, 999887.12981437,\n",
       "       999821.90579644, 999719.02608549, 999556.76344821, 999300.87265823,\n",
       "       998897.40596338, 998261.44616124, 997259.49868544, 995682.12562874,\n",
       "       993201.78955891, 989308.84173374, 983216.60804436, 973726.24492582,\n",
       "       959047.89987962, 936596.87000584, 902841.04109487, 853393.41444866,\n",
       "       783716.05936198, 690887.00609643, 576455.62006538, 449008.7159476 ,\n",
       "       323491.2492027 , 215578.35802485, 134505.09792797,  80414.72672078,\n",
       "        47476.59852155,  28576.51445955,  18047.569818  ,  12216.77919065,\n",
       "         8954.91700588,   7093.40123293,   6002.17145264,   5340.21928489,\n",
       "         4920.7463004 ,   4640.27544483,   4441.05562949,   4290.68220092,\n",
       "         4170.8539058 ,   4071.12182088,   3985.41157729,   3910.09305196,\n",
       "         3842.91135744,   3782.39512666,   3727.52829987,   3677.56708556,\n",
       "         3631.93690352,   3590.17349215,   3551.88851819,   3516.74888689,\n",
       "         3484.46380364,   3454.77629539,   3427.45735935,   3402.30170825,\n",
       "         3379.1245246 ,   3357.75888279,   3338.05363552,   3319.87163942,\n",
       "         3303.08823943,   3287.58995827,   3273.27335301,   3260.04401089,\n",
       "         3247.815663  ,   3236.50939902,   3226.0529691 ,   3216.38016146,\n",
       "         3207.4302464 ,   3199.14747832,   3191.48064868,   3184.38268438,\n",
       "         3177.81028573,   3171.72360009,   3166.08592652,   3160.86344896,\n",
       "         3156.02499415,   3151.54181194,   3147.38737547,   3143.53719961,\n",
       "         3139.96867542,   3136.66091916,   3133.59463446,   3130.75198622,\n",
       "         3128.11648537,   3125.67288339,   3123.40707551,   3121.30601202,\n",
       "         3119.35761678,   3117.55071243,   3115.87495163,   3114.32075378])"
      ]
     },
     "execution_count": 23,
     "metadata": {},
     "output_type": "execute_result"
    }
   ],
   "source": [
    "S"
   ]
  },
  {
   "cell_type": "code",
   "execution_count": null,
   "metadata": {},
   "outputs": [],
   "source": []
  }
 ],
 "metadata": {
  "kernelspec": {
   "display_name": "Python 3.8.1 64-bit",
   "language": "python",
   "name": "python38164bita0c371a54b7c4481bd8ee3d96df38e32"
  },
  "language_info": {
   "codemirror_mode": {
    "name": "ipython",
    "version": 3
   },
   "file_extension": ".py",
   "mimetype": "text/x-python",
   "name": "python",
   "nbconvert_exporter": "python",
   "pygments_lexer": "ipython3",
   "version": "3.8.1"
  }
 },
 "nbformat": 4,
 "nbformat_minor": 4
}
