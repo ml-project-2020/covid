{
 "cells": [
  {
   "cell_type": "markdown",
   "metadata": {},
   "source": [
    "# Support Vector Machine and Decision Tree classifiers Notebook\n",
    "\n",
    "Here we will train Decision Tree and Support Vector Machine classifiers on the covid19 data to predict deaths and hospitalizations. "
   ]
  },
  {
   "cell_type": "code",
   "execution_count": 1,
   "metadata": {
    "scrolled": true
   },
   "outputs": [
    {
     "name": "stdout",
     "output_type": "stream",
     "text": [
      "Requesting data to datos abiertos Mexico\n",
      "Getting zip raw data into directory, will delete soon\n",
      "Raw data deleted. If you specified filename, clean data will be saved in data directory\n"
     ]
    }
   ],
   "source": [
    "import pre_ml\n",
    "import mlpipeline\n",
    "import pandas as pd\n",
    "import numpy as np\n",
    "import seaborn as sns\n",
    "import matplotlib.pyplot as plt\n",
    "import sklearn\n",
    "\n",
    "df = pre_ml.data(False)"
   ]
  },
  {
   "cell_type": "code",
   "execution_count": 56,
   "metadata": {
    "scrolled": false
   },
   "outputs": [
    {
     "data": {
      "text/html": [
       "<div>\n",
       "<style scoped>\n",
       "    .dataframe tbody tr th:only-of-type {\n",
       "        vertical-align: middle;\n",
       "    }\n",
       "\n",
       "    .dataframe tbody tr th {\n",
       "        vertical-align: top;\n",
       "    }\n",
       "\n",
       "    .dataframe thead th {\n",
       "        text-align: right;\n",
       "    }\n",
       "</style>\n",
       "<table border=\"1\" class=\"dataframe\">\n",
       "  <thead>\n",
       "    <tr style=\"text-align: right;\">\n",
       "      <th></th>\n",
       "      <th>entidad_res</th>\n",
       "      <th>municipio_res</th>\n",
       "      <th>CVE_MUN</th>\n",
       "      <th>embarazo</th>\n",
       "      <th>edad</th>\n",
       "      <th>diabetes</th>\n",
       "      <th>epoc</th>\n",
       "      <th>asma</th>\n",
       "      <th>inmusupr</th>\n",
       "      <th>hipertension</th>\n",
       "      <th>cardiovascular</th>\n",
       "      <th>obesidad</th>\n",
       "      <th>tabaquismo</th>\n",
       "      <th>hospitalizado</th>\n",
       "      <th>muertos</th>\n",
       "      <th>pobreza</th>\n",
       "      <th>Densidad_pob</th>\n",
       "      <th>medicos</th>\n",
       "      <th>camas_hosp</th>\n",
       "      <th>enfermeras</th>\n",
       "    </tr>\n",
       "  </thead>\n",
       "  <tbody>\n",
       "    <tr>\n",
       "      <td>0</td>\n",
       "      <td>2</td>\n",
       "      <td>2</td>\n",
       "      <td>2002</td>\n",
       "      <td>0.0</td>\n",
       "      <td>60</td>\n",
       "      <td>1.0</td>\n",
       "      <td>0.0</td>\n",
       "      <td>0.0</td>\n",
       "      <td>0.0</td>\n",
       "      <td>1.0</td>\n",
       "      <td>0.0</td>\n",
       "      <td>0.0</td>\n",
       "      <td>0.0</td>\n",
       "      <td>1</td>\n",
       "      <td>1</td>\n",
       "      <td>30.0</td>\n",
       "      <td>69.472275</td>\n",
       "      <td>1.195426</td>\n",
       "      <td>6.639215</td>\n",
       "      <td>18.179678</td>\n",
       "    </tr>\n",
       "    <tr>\n",
       "      <td>1</td>\n",
       "      <td>12</td>\n",
       "      <td>1</td>\n",
       "      <td>12001</td>\n",
       "      <td>0.0</td>\n",
       "      <td>43</td>\n",
       "      <td>0.0</td>\n",
       "      <td>0.0</td>\n",
       "      <td>0.0</td>\n",
       "      <td>0.0</td>\n",
       "      <td>0.0</td>\n",
       "      <td>0.0</td>\n",
       "      <td>1.0</td>\n",
       "      <td>0.0</td>\n",
       "      <td>1</td>\n",
       "      <td>0</td>\n",
       "      <td>49.1</td>\n",
       "      <td>486.616238</td>\n",
       "      <td>5.340184</td>\n",
       "      <td>9.990545</td>\n",
       "      <td>30.138143</td>\n",
       "    </tr>\n",
       "    <tr>\n",
       "      <td>2</td>\n",
       "      <td>14</td>\n",
       "      <td>120</td>\n",
       "      <td>14120</td>\n",
       "      <td>0.0</td>\n",
       "      <td>26</td>\n",
       "      <td>0.0</td>\n",
       "      <td>0.0</td>\n",
       "      <td>0.0</td>\n",
       "      <td>0.0</td>\n",
       "      <td>0.0</td>\n",
       "      <td>0.0</td>\n",
       "      <td>0.0</td>\n",
       "      <td>0.0</td>\n",
       "      <td>0</td>\n",
       "      <td>0</td>\n",
       "      <td>24.6</td>\n",
       "      <td>1232.679739</td>\n",
       "      <td>0.697661</td>\n",
       "      <td>4.074343</td>\n",
       "      <td>11.030027</td>\n",
       "    </tr>\n",
       "    <tr>\n",
       "      <td>3</td>\n",
       "      <td>27</td>\n",
       "      <td>4</td>\n",
       "      <td>27004</td>\n",
       "      <td>0.0</td>\n",
       "      <td>53</td>\n",
       "      <td>0.0</td>\n",
       "      <td>0.0</td>\n",
       "      <td>0.0</td>\n",
       "      <td>0.0</td>\n",
       "      <td>1.0</td>\n",
       "      <td>0.0</td>\n",
       "      <td>1.0</td>\n",
       "      <td>0.0</td>\n",
       "      <td>0</td>\n",
       "      <td>0</td>\n",
       "      <td>36.3</td>\n",
       "      <td>430.537057</td>\n",
       "      <td>5.448810</td>\n",
       "      <td>13.926240</td>\n",
       "      <td>41.575909</td>\n",
       "    </tr>\n",
       "    <tr>\n",
       "      <td>4</td>\n",
       "      <td>27</td>\n",
       "      <td>4</td>\n",
       "      <td>27004</td>\n",
       "      <td>0.0</td>\n",
       "      <td>28</td>\n",
       "      <td>0.0</td>\n",
       "      <td>0.0</td>\n",
       "      <td>0.0</td>\n",
       "      <td>0.0</td>\n",
       "      <td>0.0</td>\n",
       "      <td>0.0</td>\n",
       "      <td>0.0</td>\n",
       "      <td>0.0</td>\n",
       "      <td>0</td>\n",
       "      <td>0</td>\n",
       "      <td>36.3</td>\n",
       "      <td>430.537057</td>\n",
       "      <td>5.448810</td>\n",
       "      <td>13.926240</td>\n",
       "      <td>41.575909</td>\n",
       "    </tr>\n",
       "  </tbody>\n",
       "</table>\n",
       "</div>"
      ],
      "text/plain": [
       "   entidad_res  municipio_res  CVE_MUN  embarazo  edad  diabetes  epoc  asma  \\\n",
       "0            2              2     2002       0.0    60       1.0   0.0   0.0   \n",
       "1           12              1    12001       0.0    43       0.0   0.0   0.0   \n",
       "2           14            120    14120       0.0    26       0.0   0.0   0.0   \n",
       "3           27              4    27004       0.0    53       0.0   0.0   0.0   \n",
       "4           27              4    27004       0.0    28       0.0   0.0   0.0   \n",
       "\n",
       "   inmusupr  hipertension  cardiovascular  obesidad  tabaquismo  \\\n",
       "0       0.0           1.0             0.0       0.0         0.0   \n",
       "1       0.0           0.0             0.0       1.0         0.0   \n",
       "2       0.0           0.0             0.0       0.0         0.0   \n",
       "3       0.0           1.0             0.0       1.0         0.0   \n",
       "4       0.0           0.0             0.0       0.0         0.0   \n",
       "\n",
       "   hospitalizado  muertos  pobreza  Densidad_pob   medicos  camas_hosp  \\\n",
       "0              1        1     30.0     69.472275  1.195426    6.639215   \n",
       "1              1        0     49.1    486.616238  5.340184    9.990545   \n",
       "2              0        0     24.6   1232.679739  0.697661    4.074343   \n",
       "3              0        0     36.3    430.537057  5.448810   13.926240   \n",
       "4              0        0     36.3    430.537057  5.448810   13.926240   \n",
       "\n",
       "   enfermeras  \n",
       "0   18.179678  \n",
       "1   30.138143  \n",
       "2   11.030027  \n",
       "3   41.575909  \n",
       "4   41.575909  "
      ]
     },
     "execution_count": 56,
     "metadata": {},
     "output_type": "execute_result"
    }
   ],
   "source": [
    "df.head(5)"
   ]
  },
  {
   "cell_type": "markdown",
   "metadata": {},
   "source": [
    "## Split into test set / training set and normalize the data"
   ]
  },
  {
   "cell_type": "code",
   "execution_count": 2,
   "metadata": {},
   "outputs": [],
   "source": [
    "train, test = mlpipeline.split_data(df.loc[:,'embarazo':], .20, seed=0)\n",
    "train_NORM, test_NORM = mlpipeline.normalize(train, test, ['edad', 'pobreza', 'Densidad_pob', 'medicos',\n",
    "                                                            'camas_hosp', 'enfermeras'])"
   ]
  },
  {
   "cell_type": "code",
   "execution_count": 3,
   "metadata": {
    "scrolled": true
   },
   "outputs": [
    {
     "data": {
      "text/html": [
       "<div>\n",
       "<style scoped>\n",
       "    .dataframe tbody tr th:only-of-type {\n",
       "        vertical-align: middle;\n",
       "    }\n",
       "\n",
       "    .dataframe tbody tr th {\n",
       "        vertical-align: top;\n",
       "    }\n",
       "\n",
       "    .dataframe thead th {\n",
       "        text-align: right;\n",
       "    }\n",
       "</style>\n",
       "<table border=\"1\" class=\"dataframe\">\n",
       "  <thead>\n",
       "    <tr style=\"text-align: right;\">\n",
       "      <th></th>\n",
       "      <th>embarazo</th>\n",
       "      <th>edad</th>\n",
       "      <th>diabetes</th>\n",
       "      <th>epoc</th>\n",
       "      <th>asma</th>\n",
       "      <th>inmusupr</th>\n",
       "      <th>hipertension</th>\n",
       "      <th>cardiovascular</th>\n",
       "      <th>obesidad</th>\n",
       "      <th>tabaquismo</th>\n",
       "      <th>hospitalizado</th>\n",
       "      <th>muertos</th>\n",
       "      <th>pobreza</th>\n",
       "      <th>Densidad_pob</th>\n",
       "      <th>medicos</th>\n",
       "      <th>camas_hosp</th>\n",
       "      <th>enfermeras</th>\n",
       "    </tr>\n",
       "  </thead>\n",
       "  <tbody>\n",
       "    <tr>\n",
       "      <td>42880</td>\n",
       "      <td>0.0</td>\n",
       "      <td>-0.205536</td>\n",
       "      <td>0.0</td>\n",
       "      <td>0.0</td>\n",
       "      <td>0.0</td>\n",
       "      <td>0.0</td>\n",
       "      <td>0.0</td>\n",
       "      <td>0.0</td>\n",
       "      <td>0.0</td>\n",
       "      <td>0.0</td>\n",
       "      <td>0</td>\n",
       "      <td>0</td>\n",
       "      <td>-0.029077</td>\n",
       "      <td>-0.743417</td>\n",
       "      <td>1.363144</td>\n",
       "      <td>0.286664</td>\n",
       "      <td>0.500421</td>\n",
       "    </tr>\n",
       "  </tbody>\n",
       "</table>\n",
       "</div>"
      ],
      "text/plain": [
       "       embarazo      edad  diabetes  epoc  asma  inmusupr  hipertension  \\\n",
       "42880       0.0 -0.205536       0.0   0.0   0.0       0.0           0.0   \n",
       "\n",
       "       cardiovascular  obesidad  tabaquismo  hospitalizado  muertos   pobreza  \\\n",
       "42880             0.0       0.0         0.0              0        0 -0.029077   \n",
       "\n",
       "       Densidad_pob   medicos  camas_hosp  enfermeras  \n",
       "42880     -0.743417  1.363144    0.286664    0.500421  "
      ]
     },
     "execution_count": 3,
     "metadata": {},
     "output_type": "execute_result"
    }
   ],
   "source": [
    "train_NORM.head(1)"
   ]
  },
  {
   "cell_type": "markdown",
   "metadata": {},
   "source": [
    "## First we will train a Support Vector Machine Classifier to predict deaths\n",
    "\n",
    "https://towardsdatascience.com/a-guide-to-svm-parameter-tuning-8bfe6b8a452c"
   ]
  },
  {
   "cell_type": "code",
   "execution_count": 78,
   "metadata": {},
   "outputs": [],
   "source": [
    "features = ['edad', 'diabetes', 'epoc', 'asma', 'inmusupr', 'hipertension', 'cardiovascular',\n",
    "            'obesidad', 'tabaquismo', 'pobreza', 'medicos', 'camas_hosp', 'enfermeras']\n",
    "X_train_NORM = train_NORM.loc[:, features]\n",
    "y_train = train_NORM.loc[:, 'muertos']\n",
    "\n",
    "X_test_NORM = test_NORM.loc[:, features]\n",
    "y_test = test_NORM.loc[:, 'muertos']"
   ]
  },
  {
   "cell_type": "code",
   "execution_count": 79,
   "metadata": {
    "scrolled": false
   },
   "outputs": [
    {
     "data": {
      "text/plain": [
       "0    15003\n",
       "1     1923\n",
       "Name: muertos, dtype: int64"
      ]
     },
     "execution_count": 79,
     "metadata": {},
     "output_type": "execute_result"
    }
   ],
   "source": [
    "y_test.value_counts()"
   ]
  },
  {
   "cell_type": "markdown",
   "metadata": {},
   "source": [
    "Our data is highly imbalanced, only around 10% (consistent with the average death rate by state) of cases in the training set result in deaths. We will address this with over\\under sampling techniques to address this.\n",
    "\n",
    "https://towardsdatascience.com/methods-for-dealing-with-imbalanced-data-5b761be45a18"
   ]
  },
  {
   "cell_type": "markdown",
   "metadata": {},
   "source": [
    "## Upsampling"
   ]
  },
  {
   "cell_type": "code",
   "execution_count": 80,
   "metadata": {},
   "outputs": [],
   "source": [
    "from sklearn.utils import resample\n",
    "negatives = train_NORM[train_NORM.muertos == 0]\n",
    "positives = train_NORM[train_NORM.muertos == 1]\n",
    "\n",
    "upsample_positives = resample(positives,\n",
    "                              replace=True, # sample with replacement\n",
    "                              n_samples=len(negatives) // 2, # upsample to half the total in majority class\n",
    "                              random_state=0)\n",
    "upsampled_train_NORM = pd.concat([negatives, upsample_positives])"
   ]
  },
  {
   "cell_type": "code",
   "execution_count": 81,
   "metadata": {},
   "outputs": [
    {
     "data": {
      "text/plain": [
       "0    60209\n",
       "1    30104\n",
       "Name: muertos, dtype: int64"
      ]
     },
     "execution_count": 81,
     "metadata": {},
     "output_type": "execute_result"
    }
   ],
   "source": [
    "upsampled_train_NORM.muertos.value_counts()"
   ]
  },
  {
   "cell_type": "code",
   "execution_count": 82,
   "metadata": {},
   "outputs": [],
   "source": [
    "X_upsamp_train_NORM = upsampled_train_NORM.loc[:, features]\n",
    "y_upsamp_train = upsampled_train_NORM.loc[:, 'muertos']"
   ]
  },
  {
   "cell_type": "code",
   "execution_count": 83,
   "metadata": {
    "scrolled": false
   },
   "outputs": [],
   "source": [
    "from sklearn.svm import LinearSVC\n",
    "from sklearn.model_selection import GridSearchCV\n",
    "paramgrid = {'C': [0.1, 1, 10, 100],\n",
    "             'penalty':['l1', 'l2']} \n",
    "\n",
    "grid_search = GridSearchCV(estimator=LinearSVC(random_state=0, max_iter=10000, dual=False),\n",
    "                           param_grid=paramgrid, cv=10,\n",
    "                           return_train_score=True,\n",
    "                           scoring=['accuracy', 'precision', 'recall'], \n",
    "                           refit='accuracy')\n",
    "grid_search.fit(X_upsamp_train_NORM, y_upsamp_train)\n",
    "cv_results_df = pd.DataFrame(grid_search.cv_results_)"
   ]
  },
  {
   "cell_type": "markdown",
   "metadata": {},
   "source": [
    "#### Results when upsampling positive label:"
   ]
  },
  {
   "cell_type": "code",
   "execution_count": 84,
   "metadata": {},
   "outputs": [
    {
     "data": {
      "text/html": [
       "<div>\n",
       "<style scoped>\n",
       "    .dataframe tbody tr th:only-of-type {\n",
       "        vertical-align: middle;\n",
       "    }\n",
       "\n",
       "    .dataframe tbody tr th {\n",
       "        vertical-align: top;\n",
       "    }\n",
       "\n",
       "    .dataframe thead th {\n",
       "        text-align: right;\n",
       "    }\n",
       "</style>\n",
       "<table border=\"1\" class=\"dataframe\">\n",
       "  <thead>\n",
       "    <tr style=\"text-align: right;\">\n",
       "      <th></th>\n",
       "      <th>params</th>\n",
       "      <th>mean_test_accuracy</th>\n",
       "      <th>rank_test_accuracy</th>\n",
       "      <th>mean_test_precision</th>\n",
       "      <th>rank_test_precision</th>\n",
       "      <th>mean_test_recall</th>\n",
       "      <th>rank_test_recall</th>\n",
       "    </tr>\n",
       "  </thead>\n",
       "  <tbody>\n",
       "    <tr>\n",
       "      <td>4</td>\n",
       "      <td>{'C': 10, 'penalty': 'l1'}</td>\n",
       "      <td>0.731600</td>\n",
       "      <td>1</td>\n",
       "      <td>0.632280</td>\n",
       "      <td>1</td>\n",
       "      <td>0.465552</td>\n",
       "      <td>2</td>\n",
       "    </tr>\n",
       "    <tr>\n",
       "      <td>6</td>\n",
       "      <td>{'C': 100, 'penalty': 'l1'}</td>\n",
       "      <td>0.731600</td>\n",
       "      <td>1</td>\n",
       "      <td>0.632280</td>\n",
       "      <td>1</td>\n",
       "      <td>0.465552</td>\n",
       "      <td>2</td>\n",
       "    </tr>\n",
       "    <tr>\n",
       "      <td>1</td>\n",
       "      <td>{'C': 0.1, 'penalty': 'l2'}</td>\n",
       "      <td>0.731600</td>\n",
       "      <td>3</td>\n",
       "      <td>0.632268</td>\n",
       "      <td>3</td>\n",
       "      <td>0.465586</td>\n",
       "      <td>1</td>\n",
       "    </tr>\n",
       "    <tr>\n",
       "      <td>5</td>\n",
       "      <td>{'C': 10, 'penalty': 'l2'}</td>\n",
       "      <td>0.731578</td>\n",
       "      <td>4</td>\n",
       "      <td>0.632236</td>\n",
       "      <td>4</td>\n",
       "      <td>0.465519</td>\n",
       "      <td>4</td>\n",
       "    </tr>\n",
       "    <tr>\n",
       "      <td>2</td>\n",
       "      <td>{'C': 1, 'penalty': 'l1'}</td>\n",
       "      <td>0.731578</td>\n",
       "      <td>5</td>\n",
       "      <td>0.632235</td>\n",
       "      <td>5</td>\n",
       "      <td>0.465519</td>\n",
       "      <td>5</td>\n",
       "    </tr>\n",
       "    <tr>\n",
       "      <td>7</td>\n",
       "      <td>{'C': 100, 'penalty': 'l2'}</td>\n",
       "      <td>0.731567</td>\n",
       "      <td>6</td>\n",
       "      <td>0.632220</td>\n",
       "      <td>6</td>\n",
       "      <td>0.465486</td>\n",
       "      <td>6</td>\n",
       "    </tr>\n",
       "    <tr>\n",
       "      <td>3</td>\n",
       "      <td>{'C': 1, 'penalty': 'l2'}</td>\n",
       "      <td>0.731556</td>\n",
       "      <td>7</td>\n",
       "      <td>0.632202</td>\n",
       "      <td>7</td>\n",
       "      <td>0.465453</td>\n",
       "      <td>7</td>\n",
       "    </tr>\n",
       "    <tr>\n",
       "      <td>0</td>\n",
       "      <td>{'C': 0.1, 'penalty': 'l1'}</td>\n",
       "      <td>0.731456</td>\n",
       "      <td>8</td>\n",
       "      <td>0.632004</td>\n",
       "      <td>8</td>\n",
       "      <td>0.465287</td>\n",
       "      <td>8</td>\n",
       "    </tr>\n",
       "  </tbody>\n",
       "</table>\n",
       "</div>"
      ],
      "text/plain": [
       "                        params  mean_test_accuracy  rank_test_accuracy  \\\n",
       "4   {'C': 10, 'penalty': 'l1'}            0.731600                   1   \n",
       "6  {'C': 100, 'penalty': 'l1'}            0.731600                   1   \n",
       "1  {'C': 0.1, 'penalty': 'l2'}            0.731600                   3   \n",
       "5   {'C': 10, 'penalty': 'l2'}            0.731578                   4   \n",
       "2    {'C': 1, 'penalty': 'l1'}            0.731578                   5   \n",
       "7  {'C': 100, 'penalty': 'l2'}            0.731567                   6   \n",
       "3    {'C': 1, 'penalty': 'l2'}            0.731556                   7   \n",
       "0  {'C': 0.1, 'penalty': 'l1'}            0.731456                   8   \n",
       "\n",
       "   mean_test_precision  rank_test_precision  mean_test_recall  \\\n",
       "4             0.632280                    1          0.465552   \n",
       "6             0.632280                    1          0.465552   \n",
       "1             0.632268                    3          0.465586   \n",
       "5             0.632236                    4          0.465519   \n",
       "2             0.632235                    5          0.465519   \n",
       "7             0.632220                    6          0.465486   \n",
       "3             0.632202                    7          0.465453   \n",
       "0             0.632004                    8          0.465287   \n",
       "\n",
       "   rank_test_recall  \n",
       "4                 2  \n",
       "6                 2  \n",
       "1                 1  \n",
       "5                 4  \n",
       "2                 5  \n",
       "7                 6  \n",
       "3                 7  \n",
       "0                 8  "
      ]
     },
     "execution_count": 84,
     "metadata": {},
     "output_type": "execute_result"
    }
   ],
   "source": [
    "cols = ['params', 'mean_test_accuracy', 'rank_test_accuracy', 'mean_test_precision',\n",
    "        'rank_test_precision', 'mean_test_recall', 'rank_test_recall']\n",
    "cv_results_df[cols].sort_values(by='rank_test_accuracy', ascending=True)"
   ]
  },
  {
   "cell_type": "code",
   "execution_count": 85,
   "metadata": {},
   "outputs": [
    {
     "data": {
      "image/png": "[encoded data removed]",
      "text/plain": [
       "<Figure size 864x576 with 2 Axes>"
      ]
     },
     "metadata": {},
     "output_type": "display_data"
    }
   ],
   "source": [
    "from sklearn.metrics import plot_confusion_matrix, plot_roc_curve, plot_precision_recall_curve\n",
    "y_predicted = grid_search.best_estimator_.predict(X_test_NORM)\n",
    "\n",
    "fig, ax = plt.subplots()\n",
    "fig.set_size_inches(12, 8)\n",
    "plt.suptitle('Confusion matrix for '+str(grid_search.best_estimator_)+' with upsampled positive label');\n",
    "plot_confusion_matrix(grid_search.best_estimator_, X_test_NORM,y_test, ax=ax);"
   ]
  },
  {
   "cell_type": "code",
   "execution_count": 86,
   "metadata": {
    "scrolled": true
   },
   "outputs": [
    {
     "name": "stdout",
     "output_type": "stream",
     "text": [
      "Accuracy: 0.8169088975540588\n",
      "Precision: 0.30439121756487025\n",
      "Recall: 0.47581903276131043\n",
      "F1 Score: 0.37127206329884355\n"
     ]
    }
   ],
   "source": [
    "print('''Accuracy: {}\n",
    "Precision: {}\n",
    "Recall: {}\n",
    "F1 Score: {}'''.format(sklearn.metrics.accuracy_score(y_test, y_predicted),\n",
    "                       sklearn.metrics.precision_score(y_test, y_predicted), \n",
    "                       sklearn.metrics.recall_score(y_test, y_predicted),\n",
    "                       sklearn.metrics.f1_score(y_test, y_predicted)))"
   ]
  },
  {
   "cell_type": "markdown",
   "metadata": {},
   "source": [
    "## Undersampling"
   ]
  },
  {
   "cell_type": "code",
   "execution_count": 87,
   "metadata": {},
   "outputs": [],
   "source": [
    "undersample_negatives = resample(negatives,\n",
    "                                 replace=True, # sample with replacement\n",
    "                                 n_samples=len(positives), # match number in majority class\n",
    "                                 random_state=0)\n",
    "undersample_train_NORM = pd.concat([positives, undersample_negatives])\n",
    "\n",
    "X_undersamp_train_NORM = undersample_train_NORM.loc[:, features]\n",
    "y_undersamp_train = undersample_train_NORM.loc[:, 'muertos']"
   ]
  },
  {
   "cell_type": "code",
   "execution_count": 88,
   "metadata": {},
   "outputs": [],
   "source": [
    "grid_search = GridSearchCV(estimator=LinearSVC(random_state=0, max_iter=10000, dual=False),\n",
    "                           param_grid=paramgrid, cv=10,\n",
    "                           return_train_score=True,\n",
    "                           scoring=['accuracy', 'precision', 'recall'], \n",
    "                           refit='accuracy')\n",
    "grid_search.fit(X_undersamp_train_NORM, y_undersamp_train)\n",
    "cv_results_df = pd.DataFrame(grid_search.cv_results_)"
   ]
  },
  {
   "cell_type": "markdown",
   "metadata": {},
   "source": [
    "#### Results when undersampling negative label"
   ]
  },
  {
   "cell_type": "code",
   "execution_count": 89,
   "metadata": {
    "scrolled": true
   },
   "outputs": [
    {
     "data": {
      "text/html": [
       "<div>\n",
       "<style scoped>\n",
       "    .dataframe tbody tr th:only-of-type {\n",
       "        vertical-align: middle;\n",
       "    }\n",
       "\n",
       "    .dataframe tbody tr th {\n",
       "        vertical-align: top;\n",
       "    }\n",
       "\n",
       "    .dataframe thead th {\n",
       "        text-align: right;\n",
       "    }\n",
       "</style>\n",
       "<table border=\"1\" class=\"dataframe\">\n",
       "  <thead>\n",
       "    <tr style=\"text-align: right;\">\n",
       "      <th></th>\n",
       "      <th>params</th>\n",
       "      <th>mean_test_accuracy</th>\n",
       "      <th>rank_test_accuracy</th>\n",
       "      <th>mean_test_precision</th>\n",
       "      <th>rank_test_precision</th>\n",
       "      <th>mean_test_recall</th>\n",
       "      <th>rank_test_recall</th>\n",
       "    </tr>\n",
       "  </thead>\n",
       "  <tbody>\n",
       "    <tr>\n",
       "      <td>1</td>\n",
       "      <td>{'C': 0.1, 'penalty': 'l2'}</td>\n",
       "      <td>0.719234</td>\n",
       "      <td>1</td>\n",
       "      <td>0.717548</td>\n",
       "      <td>2</td>\n",
       "      <td>0.723440</td>\n",
       "      <td>2</td>\n",
       "    </tr>\n",
       "    <tr>\n",
       "      <td>2</td>\n",
       "      <td>{'C': 1, 'penalty': 'l1'}</td>\n",
       "      <td>0.719234</td>\n",
       "      <td>1</td>\n",
       "      <td>0.717607</td>\n",
       "      <td>1</td>\n",
       "      <td>0.723307</td>\n",
       "      <td>3</td>\n",
       "    </tr>\n",
       "    <tr>\n",
       "      <td>3</td>\n",
       "      <td>{'C': 1, 'penalty': 'l2'}</td>\n",
       "      <td>0.719101</td>\n",
       "      <td>3</td>\n",
       "      <td>0.717412</td>\n",
       "      <td>3</td>\n",
       "      <td>0.723307</td>\n",
       "      <td>3</td>\n",
       "    </tr>\n",
       "    <tr>\n",
       "      <td>0</td>\n",
       "      <td>{'C': 0.1, 'penalty': 'l1'}</td>\n",
       "      <td>0.719034</td>\n",
       "      <td>4</td>\n",
       "      <td>0.717117</td>\n",
       "      <td>8</td>\n",
       "      <td>0.723707</td>\n",
       "      <td>1</td>\n",
       "    </tr>\n",
       "    <tr>\n",
       "      <td>4</td>\n",
       "      <td>{'C': 10, 'penalty': 'l1'}</td>\n",
       "      <td>0.718967</td>\n",
       "      <td>5</td>\n",
       "      <td>0.717340</td>\n",
       "      <td>4</td>\n",
       "      <td>0.723040</td>\n",
       "      <td>5</td>\n",
       "    </tr>\n",
       "    <tr>\n",
       "      <td>5</td>\n",
       "      <td>{'C': 10, 'penalty': 'l2'}</td>\n",
       "      <td>0.718967</td>\n",
       "      <td>5</td>\n",
       "      <td>0.717340</td>\n",
       "      <td>4</td>\n",
       "      <td>0.723040</td>\n",
       "      <td>5</td>\n",
       "    </tr>\n",
       "    <tr>\n",
       "      <td>6</td>\n",
       "      <td>{'C': 100, 'penalty': 'l1'}</td>\n",
       "      <td>0.718967</td>\n",
       "      <td>5</td>\n",
       "      <td>0.717340</td>\n",
       "      <td>4</td>\n",
       "      <td>0.723040</td>\n",
       "      <td>5</td>\n",
       "    </tr>\n",
       "    <tr>\n",
       "      <td>7</td>\n",
       "      <td>{'C': 100, 'penalty': 'l2'}</td>\n",
       "      <td>0.718967</td>\n",
       "      <td>5</td>\n",
       "      <td>0.717340</td>\n",
       "      <td>4</td>\n",
       "      <td>0.723040</td>\n",
       "      <td>5</td>\n",
       "    </tr>\n",
       "  </tbody>\n",
       "</table>\n",
       "</div>"
      ],
      "text/plain": [
       "                        params  mean_test_accuracy  rank_test_accuracy  \\\n",
       "1  {'C': 0.1, 'penalty': 'l2'}            0.719234                   1   \n",
       "2    {'C': 1, 'penalty': 'l1'}            0.719234                   1   \n",
       "3    {'C': 1, 'penalty': 'l2'}            0.719101                   3   \n",
       "0  {'C': 0.1, 'penalty': 'l1'}            0.719034                   4   \n",
       "4   {'C': 10, 'penalty': 'l1'}            0.718967                   5   \n",
       "5   {'C': 10, 'penalty': 'l2'}            0.718967                   5   \n",
       "6  {'C': 100, 'penalty': 'l1'}            0.718967                   5   \n",
       "7  {'C': 100, 'penalty': 'l2'}            0.718967                   5   \n",
       "\n",
       "   mean_test_precision  rank_test_precision  mean_test_recall  \\\n",
       "1             0.717548                    2          0.723440   \n",
       "2             0.717607                    1          0.723307   \n",
       "3             0.717412                    3          0.723307   \n",
       "0             0.717117                    8          0.723707   \n",
       "4             0.717340                    4          0.723040   \n",
       "5             0.717340                    4          0.723040   \n",
       "6             0.717340                    4          0.723040   \n",
       "7             0.717340                    4          0.723040   \n",
       "\n",
       "   rank_test_recall  \n",
       "1                 2  \n",
       "2                 3  \n",
       "3                 3  \n",
       "0                 1  \n",
       "4                 5  \n",
       "5                 5  \n",
       "6                 5  \n",
       "7                 5  "
      ]
     },
     "execution_count": 89,
     "metadata": {},
     "output_type": "execute_result"
    }
   ],
   "source": [
    "cols = ['params', 'mean_test_accuracy', 'rank_test_accuracy', 'mean_test_precision',\n",
    "        'rank_test_precision', 'mean_test_recall', 'rank_test_recall']\n",
    "cv_results_df[cols].sort_values(by='rank_test_accuracy', ascending=True)"
   ]
  },
  {
   "cell_type": "code",
   "execution_count": 90,
   "metadata": {},
   "outputs": [
    {
     "data": {
      "image/png": "[encoded data removed]",
      "text/plain": [
       "<Figure size 864x576 with 2 Axes>"
      ]
     },
     "metadata": {},
     "output_type": "display_data"
    }
   ],
   "source": [
    "y_predicted = grid_search.best_estimator_.predict(X_test_NORM)\n",
    "\n",
    "fig, ax = plt.subplots()\n",
    "fig.set_size_inches(12, 8)\n",
    "plt.suptitle('Confusion matrix for '+str(grid_search.best_estimator_)+' with undesampled negative label');\n",
    "plot_confusion_matrix(grid_search.best_estimator_, X_test_NORM,y_test, ax=ax);"
   ]
  },
  {
   "cell_type": "code",
   "execution_count": 91,
   "metadata": {},
   "outputs": [
    {
     "name": "stdout",
     "output_type": "stream",
     "text": [
      "Accuracy: 0.717239749497814\n",
      "Precision: 0.24846248462484624\n",
      "Recall: 0.735309412376495\n",
      "F1 Score: 0.37142106645652745\n"
     ]
    }
   ],
   "source": [
    "print('''Accuracy: {}\n",
    "Precision: {}\n",
    "Recall: {}\n",
    "F1 Score: {}'''.format(sklearn.metrics.accuracy_score(y_test, y_predicted),\n",
    "                       sklearn.metrics.precision_score(y_test, y_predicted), \n",
    "                       sklearn.metrics.recall_score(y_test, y_predicted),\n",
    "                       sklearn.metrics.f1_score(y_test, y_predicted)))"
   ]
  },
  {
   "cell_type": "code",
   "execution_count": 92,
   "metadata": {},
   "outputs": [],
   "source": [
    "coeffs = pd.DataFrame.from_dict({'predictor':features,\n",
    "                                 'coefficient':grid_search.best_estimator_.coef_.flatten(),\n",
    "                                 'abs_coeffient':abs(grid_search.best_estimator_.coef_.flatten())})\n",
    "coeffs.sort_values(by='abs_coeffient', inplace=True,ascending=False)"
   ]
  },
  {
   "cell_type": "code",
   "execution_count": 93,
   "metadata": {
    "scrolled": false
   },
   "outputs": [
    {
     "data": {
      "image/png": "[encoded data removed]",
      "text/plain": [
       "<Figure size 864x576 with 2 Axes>"
      ]
     },
     "metadata": {},
     "output_type": "display_data"
    }
   ],
   "source": [
    "sns.set(style=\"whitegrid\") \n",
    "fig, ax = plt.subplots(1,2)\n",
    "fig.set_size_inches(12, 8)\n",
    "plt.suptitle('''Top ten features for COVID19 death prediction {} \n",
    "                with undersampled negative label'''.format(grid_search.best_estimator_))\n",
    "\n",
    "plt.sca(ax[0])\n",
    "sns.barplot(x=\"abs_coeffient\", y=\"predictor\", data=coeffs[0:10],\n",
    "            palette=\"rocket\")\n",
    "ax[0].set_xlabel('abs(coefficient)')\n",
    "\n",
    "plt.sca(ax[1])\n",
    "sns.barplot(x=\"coefficient\", y=\"predictor\", data=coeffs[0:10],\n",
    "            palette=\"rocket\")\n",
    "plt.setp(ax[1],yticks=[]);"
   ]
  },
  {
   "cell_type": "markdown",
   "metadata": {},
   "source": [
    "## Generate synthetic samples (Synthetic Minority Oversampling Technique)\n",
    "\n",
    "SMOTE is a type of data augmentantion. This technique will create synthetic examples from the minority class (in our case the positive class --deaths--). The SMOTE technique uses a nearest neighbor algorithm on the training set to create synthetic examples of the undersampled class."
   ]
  },
  {
   "cell_type": "code",
   "execution_count": 94,
   "metadata": {},
   "outputs": [],
   "source": [
    "from imblearn.over_sampling import SMOTE\n",
    "from collections import Counter"
   ]
  },
  {
   "cell_type": "code",
   "execution_count": 95,
   "metadata": {},
   "outputs": [
    {
     "name": "stderr",
     "output_type": "stream",
     "text": [
      "C:\\Users\\robal\\Anaconda3\\lib\\site-packages\\sklearn\\utils\\deprecation.py:86: FutureWarning: Function safe_indexing is deprecated; safe_indexing is deprecated in version 0.22 and will be removed in version 0.24.\n",
      "  warnings.warn(msg, category=FutureWarning)\n"
     ]
    }
   ],
   "source": [
    "sm = SMOTE(random_state=0, ratio=1)\n",
    "X_train_sm, y_train_sm = sm.fit_sample(train_NORM.loc[:, features], train_NORM.loc[:, 'muertos'])\n",
    "X_train_sm = pd.DataFrame(X_train_sm)\n",
    "X_train_sm.columns = features"
   ]
  },
  {
   "cell_type": "code",
   "execution_count": 96,
   "metadata": {},
   "outputs": [
    {
     "name": "stdout",
     "output_type": "stream",
     "text": [
      "Original dataset shape Counter({0: 60209, 1: 7492})\n",
      "Resampled dataset shape Counter({0: 60209, 1: 60209})\n"
     ]
    }
   ],
   "source": [
    "print('Original dataset shape %s' % Counter(train_NORM.loc[:, 'muertos']))\n",
    "print('Resampled dataset shape %s' % Counter(y_train_sm))"
   ]
  },
  {
   "cell_type": "code",
   "execution_count": 97,
   "metadata": {},
   "outputs": [],
   "source": [
    "grid_search = GridSearchCV(estimator=LinearSVC(random_state=0, max_iter=10000, dual=False),\n",
    "                           param_grid=paramgrid, cv=10,\n",
    "                           return_train_score=True,\n",
    "                           scoring=['accuracy', 'precision', 'recall'], \n",
    "                           refit='accuracy')\n",
    "grid_search.fit(X_undersamp_train_NORM, y_undersamp_train)\n",
    "cv_results_df = pd.DataFrame(grid_search.cv_results_)"
   ]
  },
  {
   "cell_type": "markdown",
   "metadata": {},
   "source": [
    "#### Results when generating synthetic samples from minority class using SMOTE."
   ]
  },
  {
   "cell_type": "code",
   "execution_count": 98,
   "metadata": {
    "scrolled": false
   },
   "outputs": [
    {
     "data": {
      "text/html": [
       "<div>\n",
       "<style scoped>\n",
       "    .dataframe tbody tr th:only-of-type {\n",
       "        vertical-align: middle;\n",
       "    }\n",
       "\n",
       "    .dataframe tbody tr th {\n",
       "        vertical-align: top;\n",
       "    }\n",
       "\n",
       "    .dataframe thead th {\n",
       "        text-align: right;\n",
       "    }\n",
       "</style>\n",
       "<table border=\"1\" class=\"dataframe\">\n",
       "  <thead>\n",
       "    <tr style=\"text-align: right;\">\n",
       "      <th></th>\n",
       "      <th>params</th>\n",
       "      <th>mean_test_accuracy</th>\n",
       "      <th>rank_test_accuracy</th>\n",
       "      <th>mean_test_precision</th>\n",
       "      <th>rank_test_precision</th>\n",
       "      <th>mean_test_recall</th>\n",
       "      <th>rank_test_recall</th>\n",
       "    </tr>\n",
       "  </thead>\n",
       "  <tbody>\n",
       "    <tr>\n",
       "      <td>1</td>\n",
       "      <td>{'C': 0.1, 'penalty': 'l2'}</td>\n",
       "      <td>0.719234</td>\n",
       "      <td>1</td>\n",
       "      <td>0.717548</td>\n",
       "      <td>2</td>\n",
       "      <td>0.723440</td>\n",
       "      <td>2</td>\n",
       "    </tr>\n",
       "    <tr>\n",
       "      <td>2</td>\n",
       "      <td>{'C': 1, 'penalty': 'l1'}</td>\n",
       "      <td>0.719234</td>\n",
       "      <td>1</td>\n",
       "      <td>0.717607</td>\n",
       "      <td>1</td>\n",
       "      <td>0.723307</td>\n",
       "      <td>3</td>\n",
       "    </tr>\n",
       "    <tr>\n",
       "      <td>3</td>\n",
       "      <td>{'C': 1, 'penalty': 'l2'}</td>\n",
       "      <td>0.719101</td>\n",
       "      <td>3</td>\n",
       "      <td>0.717412</td>\n",
       "      <td>3</td>\n",
       "      <td>0.723307</td>\n",
       "      <td>3</td>\n",
       "    </tr>\n",
       "    <tr>\n",
       "      <td>0</td>\n",
       "      <td>{'C': 0.1, 'penalty': 'l1'}</td>\n",
       "      <td>0.719034</td>\n",
       "      <td>4</td>\n",
       "      <td>0.717117</td>\n",
       "      <td>8</td>\n",
       "      <td>0.723707</td>\n",
       "      <td>1</td>\n",
       "    </tr>\n",
       "    <tr>\n",
       "      <td>4</td>\n",
       "      <td>{'C': 10, 'penalty': 'l1'}</td>\n",
       "      <td>0.718967</td>\n",
       "      <td>5</td>\n",
       "      <td>0.717340</td>\n",
       "      <td>4</td>\n",
       "      <td>0.723040</td>\n",
       "      <td>5</td>\n",
       "    </tr>\n",
       "    <tr>\n",
       "      <td>5</td>\n",
       "      <td>{'C': 10, 'penalty': 'l2'}</td>\n",
       "      <td>0.718967</td>\n",
       "      <td>5</td>\n",
       "      <td>0.717340</td>\n",
       "      <td>4</td>\n",
       "      <td>0.723040</td>\n",
       "      <td>5</td>\n",
       "    </tr>\n",
       "    <tr>\n",
       "      <td>6</td>\n",
       "      <td>{'C': 100, 'penalty': 'l1'}</td>\n",
       "      <td>0.718967</td>\n",
       "      <td>5</td>\n",
       "      <td>0.717340</td>\n",
       "      <td>4</td>\n",
       "      <td>0.723040</td>\n",
       "      <td>5</td>\n",
       "    </tr>\n",
       "    <tr>\n",
       "      <td>7</td>\n",
       "      <td>{'C': 100, 'penalty': 'l2'}</td>\n",
       "      <td>0.718967</td>\n",
       "      <td>5</td>\n",
       "      <td>0.717340</td>\n",
       "      <td>4</td>\n",
       "      <td>0.723040</td>\n",
       "      <td>5</td>\n",
       "    </tr>\n",
       "  </tbody>\n",
       "</table>\n",
       "</div>"
      ],
      "text/plain": [
       "                        params  mean_test_accuracy  rank_test_accuracy  \\\n",
       "1  {'C': 0.1, 'penalty': 'l2'}            0.719234                   1   \n",
       "2    {'C': 1, 'penalty': 'l1'}            0.719234                   1   \n",
       "3    {'C': 1, 'penalty': 'l2'}            0.719101                   3   \n",
       "0  {'C': 0.1, 'penalty': 'l1'}            0.719034                   4   \n",
       "4   {'C': 10, 'penalty': 'l1'}            0.718967                   5   \n",
       "5   {'C': 10, 'penalty': 'l2'}            0.718967                   5   \n",
       "6  {'C': 100, 'penalty': 'l1'}            0.718967                   5   \n",
       "7  {'C': 100, 'penalty': 'l2'}            0.718967                   5   \n",
       "\n",
       "   mean_test_precision  rank_test_precision  mean_test_recall  \\\n",
       "1             0.717548                    2          0.723440   \n",
       "2             0.717607                    1          0.723307   \n",
       "3             0.717412                    3          0.723307   \n",
       "0             0.717117                    8          0.723707   \n",
       "4             0.717340                    4          0.723040   \n",
       "5             0.717340                    4          0.723040   \n",
       "6             0.717340                    4          0.723040   \n",
       "7             0.717340                    4          0.723040   \n",
       "\n",
       "   rank_test_recall  \n",
       "1                 2  \n",
       "2                 3  \n",
       "3                 3  \n",
       "0                 1  \n",
       "4                 5  \n",
       "5                 5  \n",
       "6                 5  \n",
       "7                 5  "
      ]
     },
     "execution_count": 98,
     "metadata": {},
     "output_type": "execute_result"
    }
   ],
   "source": [
    "cv_results_df[cols].sort_values(by='rank_test_accuracy', ascending=True)"
   ]
  },
  {
   "cell_type": "code",
   "execution_count": 99,
   "metadata": {
    "scrolled": false
   },
   "outputs": [
    {
     "data": {
      "image/png": "[encoded data removed]",
      "text/plain": [
       "<Figure size 864x576 with 2 Axes>"
      ]
     },
     "metadata": {},
     "output_type": "display_data"
    }
   ],
   "source": [
    "y_predicted = grid_search.best_estimator_.predict(X_test_NORM)\n",
    "\n",
    "fig, ax = plt.subplots()\n",
    "fig.set_size_inches(12, 8)\n",
    "plt.suptitle('Confusion matrix for '+str(grid_search.best_estimator_)+' with SMOTE');\n",
    "plot_confusion_matrix(grid_search.best_estimator_, X_test_NORM,y_test, ax=ax);"
   ]
  },
  {
   "cell_type": "code",
   "execution_count": 100,
   "metadata": {},
   "outputs": [
    {
     "name": "stdout",
     "output_type": "stream",
     "text": [
      "Accuracy: 0.717239749497814\n",
      "Precision: 0.24846248462484624\n",
      "Recall: 0.735309412376495\n",
      "F1 Score: 0.37142106645652745\n"
     ]
    }
   ],
   "source": [
    "print('''Accuracy: {}\n",
    "Precision: {}\n",
    "Recall: {}\n",
    "F1 Score: {}'''.format(sklearn.metrics.accuracy_score(y_test, y_predicted),\n",
    "                       sklearn.metrics.precision_score(y_test, y_predicted), \n",
    "                       sklearn.metrics.recall_score(y_test, y_predicted),\n",
    "                       sklearn.metrics.f1_score(y_test, y_predicted)))"
   ]
  },
  {
   "cell_type": "code",
   "execution_count": 101,
   "metadata": {},
   "outputs": [],
   "source": [
    "coeffs = pd.DataFrame.from_dict({'predictor':features,\n",
    "                                 'coefficient':grid_search.best_estimator_.coef_.flatten(),\n",
    "                                 'abs_coeffient':abs(grid_search.best_estimator_.coef_.flatten())})\n",
    "coeffs.sort_values(by='abs_coeffient', inplace=True,ascending=False)"
   ]
  },
  {
   "cell_type": "code",
   "execution_count": 113,
   "metadata": {
    "scrolled": false
   },
   "outputs": [
    {
     "data": {
      "image/png": "[encoded data removed]",
      "text/plain": [
       "<Figure size 864x576 with 2 Axes>"
      ]
     },
     "metadata": {},
     "output_type": "display_data"
    }
   ],
   "source": [
    "sns.set(style=\"whitegrid\") \n",
    "fig, ax = plt.subplots(1,2)\n",
    "fig.set_size_inches(12, 8)\n",
    "plt.suptitle('''Top ten features for COVID19 death prediction {} \n",
    "                generating synthetic data SMOTE'''.format(grid_search.best_estimator_))\n",
    "\n",
    "plt.sca(ax[0])\n",
    "sns.barplot(x=\"abs_coeffient\", y=\"predictor\", data=coeffs[0:10],\n",
    "            palette=\"cubehelix\")\n",
    "ax[0].set_xlabel('abs(coefficient)')\n",
    "\n",
    "plt.sca(ax[1])\n",
    "sns.barplot(x=\"coefficient\", y=\"predictor\", data=coeffs[0:10],\n",
    "            palette=\"cubehelix\")\n",
    "plt.setp(ax[1],yticks=[]);"
   ]
  },
  {
   "cell_type": "markdown",
   "metadata": {},
   "source": [
    "The past two SVM models trained (undersampling and using SMOTE) show similar feature importance. Not suprisingly age and comorbidities such as diabetes, immunosupression, obesity and hypertension are good predictors of whether or not COVID pacients will die. What is surprising is that the chronic lung disease asma while a good predictor it displays a negative relationship with covid mortality. That is people with asma tend to die at lower rates when infected that others. This result, while surprising, is not novel: https://www.nytimes.com/2020/04/16/health/coronavirus-asthma-risk.html"
   ]
  },
  {
   "cell_type": "markdown",
   "metadata": {},
   "source": [
    "# Decision Trees"
   ]
  },
  {
   "cell_type": "markdown",
   "metadata": {},
   "source": [
    "## Upsampling"
   ]
  },
  {
   "cell_type": "code",
   "execution_count": 110,
   "metadata": {
    "scrolled": false
   },
   "outputs": [
    {
     "name": "stderr",
     "output_type": "stream",
     "text": [
      "C:\\Users\\robal\\Anaconda3\\lib\\site-packages\\sklearn\\metrics\\_classification.py:1221: UndefinedMetricWarning: Precision is ill-defined and being set to 0.0 due to no predicted samples. Use `zero_division` parameter to control this behavior.\n",
      "  _warn_prf(average, modifier, msg_start, len(result))\n",
      "C:\\Users\\robal\\Anaconda3\\lib\\site-packages\\sklearn\\metrics\\_classification.py:1221: UndefinedMetricWarning: Precision is ill-defined and being set to 0.0 due to no predicted samples. Use `zero_division` parameter to control this behavior.\n",
      "  _warn_prf(average, modifier, msg_start, len(result))\n",
      "C:\\Users\\robal\\Anaconda3\\lib\\site-packages\\sklearn\\metrics\\_classification.py:1221: UndefinedMetricWarning: Precision is ill-defined and being set to 0.0 due to no predicted samples. Use `zero_division` parameter to control this behavior.\n",
      "  _warn_prf(average, modifier, msg_start, len(result))\n",
      "C:\\Users\\robal\\Anaconda3\\lib\\site-packages\\sklearn\\metrics\\_classification.py:1221: UndefinedMetricWarning: Precision is ill-defined and being set to 0.0 due to no predicted samples. Use `zero_division` parameter to control this behavior.\n",
      "  _warn_prf(average, modifier, msg_start, len(result))\n",
      "C:\\Users\\robal\\Anaconda3\\lib\\site-packages\\sklearn\\metrics\\_classification.py:1221: UndefinedMetricWarning: Precision is ill-defined and being set to 0.0 due to no predicted samples. Use `zero_division` parameter to control this behavior.\n",
      "  _warn_prf(average, modifier, msg_start, len(result))\n",
      "C:\\Users\\robal\\Anaconda3\\lib\\site-packages\\sklearn\\metrics\\_classification.py:1221: UndefinedMetricWarning: Precision is ill-defined and being set to 0.0 due to no predicted samples. Use `zero_division` parameter to control this behavior.\n",
      "  _warn_prf(average, modifier, msg_start, len(result))\n"
     ]
    },
    {
     "data": {
      "text/plain": [
       "GridSearchCV(cv=10, estimator=DecisionTreeClassifier(),\n",
       "             param_grid={'criterion': ['gini', 'entropy'],\n",
       "                         'max_depth': [1, 3, 5],\n",
       "                         'min_samples_split': [2, 5, 10]},\n",
       "             refit='accuracy', return_train_score=True,\n",
       "             scoring=['accuracy', 'precision', 'recall'])"
      ]
     },
     "execution_count": 110,
     "metadata": {},
     "output_type": "execute_result"
    }
   ],
   "source": [
    "from sklearn.tree import DecisionTreeClassifier\n",
    "paramgrid = {'criterion':['gini','entropy'], \n",
    "             'max_depth':[1,3,5],\n",
    "             'min_samples_split':[2,5,10]}\n",
    "grid_search_dt = GridSearchCV(estimator=DecisionTreeClassifier(), param_grid=paramgrid, cv=10 ,\n",
    "                             return_train_score=True,\n",
    "                             scoring=['accuracy', 'precision', 'recall'], \n",
    "                             refit='accuracy')\n",
    "grid_search_dt.fit(X_upsamp_train_NORM, y_upsamp_train)"
   ]
  },
  {
   "cell_type": "code",
   "execution_count": 112,
   "metadata": {
    "scrolled": false
   },
   "outputs": [
    {
     "name": "stdout",
     "output_type": "stream",
     "text": [
      "Accuracy: 0.7939855843081649\n",
      "Precision: 0.28409718387631144\n",
      "Recall: 0.5351014040561622\n",
      "F1 Score: 0.3711451758340848\n"
     ]
    }
   ],
   "source": [
    "y_predicted = grid_search_dt.best_estimator_.predict(X_test_NORM)\n",
    "print('''Accuracy: {}\n",
    "Precision: {}\n",
    "Recall: {}\n",
    "F1 Score: {}'''.format(sklearn.metrics.accuracy_score(y_test, y_predicted),\n",
    "                       sklearn.metrics.precision_score(y_test, y_predicted), \n",
    "                       sklearn.metrics.recall_score(y_test, y_predicted),\n",
    "                       sklearn.metrics.f1_score(y_test, y_predicted)))"
   ]
  },
  {
   "cell_type": "markdown",
   "metadata": {},
   "source": [
    "## Undersampling"
   ]
  },
  {
   "cell_type": "code",
   "execution_count": 106,
   "metadata": {},
   "outputs": [],
   "source": [
    "grid_search_dt = GridSearchCV(estimator=DecisionTreeClassifier(), param_grid=paramgrid, cv=10 ,\n",
    "                             return_train_score=True,\n",
    "                             scoring=['accuracy', 'precision', 'recall'], \n",
    "                             refit='accuracy')\n",
    "grid_search_dt.fit(X_undersamp_train_NORM, y_undersamp_train)"
   ]
  },
  {
   "cell_type": "code",
   "execution_count": 107,
   "metadata": {},
   "outputs": [
    {
     "name": "stdout",
     "output_type": "stream",
     "text": [
      "Accuracy: 0.65284178187404\n",
      "Precision: 0.21824661439771917\n",
      "Recall: 0.7961518460738429\n",
      "F1 Score: 0.34258223316178116\n"
     ]
    }
   ],
   "source": [
    "y_predicted = grid_search_dt.best_estimator_.predict(X_test_NORM)\n",
    "print('''Accuracy: {}\n",
    "Precision: {}\n",
    "Recall: {}\n",
    "F1 Score: {}'''.format(sklearn.metrics.accuracy_score(y_test, y_predicted),\n",
    "                       sklearn.metrics.precision_score(y_test, y_predicted), \n",
    "                       sklearn.metrics.recall_score(y_test, y_predicted),\n",
    "                       sklearn.metrics.f1_score(y_test, y_predicted)))"
   ]
  },
  {
   "cell_type": "markdown",
   "metadata": {},
   "source": [
    "## Generating synthetic samples (SMOTE)"
   ]
  },
  {
   "cell_type": "code",
   "execution_count": 108,
   "metadata": {},
   "outputs": [],
   "source": [
    "grid_search_dt = GridSearchCV(estimator=DecisionTreeClassifier(), param_grid=paramgrid, cv=10 ,\n",
    "                             return_train_score=True,\n",
    "                             scoring=['accuracy', 'precision', 'recall'], \n",
    "                             refit='accuracy')\n",
    "grid_search_dt.fit(X_train_sm, y_train_sm)\n",
    "cv_results_df_dt = pd.DataFrame(grid_search.cv_results_)"
   ]
  },
  {
   "cell_type": "code",
   "execution_count": 109,
   "metadata": {},
   "outputs": [
    {
     "name": "stdout",
     "output_type": "stream",
     "text": [
      "Accuracy: 0.6690889755405884\n",
      "Precision: 0.2218693284936479\n",
      "Recall: 0.7628705148205929\n",
      "F1 Score: 0.3437609841827768\n"
     ]
    }
   ],
   "source": [
    "y_predicted = grid_search_dt.best_estimator_.predict(X_test_NORM)\n",
    "print('''Accuracy: {}\n",
    "Precision: {}\n",
    "Recall: {}\n",
    "F1 Score: {}'''.format(sklearn.metrics.accuracy_score(y_test, y_predicted),\n",
    "                       sklearn.metrics.precision_score(y_test, y_predicted), \n",
    "                       sklearn.metrics.recall_score(y_test, y_predicted),\n",
    "                       sklearn.metrics.f1_score(y_test, y_predicted)))"
   ]
  },
  {
   "cell_type": "markdown",
   "metadata": {},
   "source": [
    "By using the same three methods for dealing with imbalanced data (upsampling, undersampling and SMOTE) we trained three decision trees above using cross validation. Compared to the support vector machine the decision trees perfomed much worse with all three models trained having very large trade off between precision and recall, and over all low f1-scores. Below we used the model with highest accuracy (DT using upsampling), to see what the most important predictors where."
   ]
  },
  {
   "cell_type": "code",
   "execution_count": 119,
   "metadata": {},
   "outputs": [
    {
     "data": {
      "text/plain": [
       "array([0.84377956, 0.1044358 , 0.00365653, 0.        , 0.0036098 ,\n",
       "       0.        , 0.        , 0.01353273, 0.        , 0.00792718,\n",
       "       0.01605443, 0.00265633, 0.00434764])"
      ]
     },
     "execution_count": 119,
     "metadata": {},
     "output_type": "execute_result"
    }
   ],
   "source": [
    "grid_search_dt.best_estimator_.feature_importances_"
   ]
  },
  {
   "cell_type": "code",
   "execution_count": 125,
   "metadata": {},
   "outputs": [
    {
     "data": {
      "text/plain": [
       "Text(0.5, 0, 'Predictor importance')"
      ]
     },
     "execution_count": 125,
     "metadata": {},
     "output_type": "execute_result"
    },
    {
     "data": {
      "image/png": "[encoded data removed]",
      "text/plain": [
       "<Figure size 864x576 with 1 Axes>"
      ]
     },
     "metadata": {},
     "output_type": "display_data"
    }
   ],
   "source": [
    "sns.set(style=\"whitegrid\") \n",
    "fig, ax = plt.subplots()\n",
    "fig.set_size_inches(12, 8)\n",
    "plt.suptitle('''Top ten features for COVID19 death prediction {} \n",
    "                with undersampled negative label'''.format(grid_search_dt.best_estimator_))\n",
    "importance = pd.DataFrame.from_dict({'predictor':features,\n",
    "                                     'importance':grid_search_dt.best_estimator_.feature_importances_.flatten()})\n",
    "\n",
    "sns.barplot(x='importance', y='predictor', data=importance.sort_values(by=\"importance\", ascending=False)[0:10],\n",
    "            palette=\"cubehelix\")\n",
    "ax.set_xlabel('Predictor importance')\n"
   ]
  }
 ],
 "metadata": {
  "kernelspec": {
   "display_name": "Python 3.7.4 64-bit ('base': conda)",
   "language": "python",
   "name": "python37464bitbaseconda0da0b65ad1424efa9b02111640aba016"
  },
  "language_info": {
   "codemirror_mode": {
    "name": "ipython",
    "version": 3
   },
   "file_extension": ".py",
   "mimetype": "text/x-python",
   "name": "python",
   "nbconvert_exporter": "python",
   "pygments_lexer": "ipython3",
   "version": "3.7.4"
  }
 },
 "nbformat": 4,
 "nbformat_minor": 2
}
