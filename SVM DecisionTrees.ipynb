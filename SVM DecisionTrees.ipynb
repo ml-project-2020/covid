{
 "cells": [
  {
   "cell_type": "markdown",
   "metadata": {},
   "source": [
    "# Support Vector Machine and Decision Tree classifiers Notebook\n",
    "\n",
    "Here we will train Decision Tree and Support Vector Machine classifiers on the covid19 data to predict deaths and hospitalizations. "
   ]
  },
  {
   "cell_type": "code",
   "execution_count": 53,
   "metadata": {
    "scrolled": true
   },
   "outputs": [
    {
     "name": "stdout",
     "output_type": "stream",
     "text": [
      "Requesting data to datos abiertos Mexico\n",
      "Getting zip raw data into directory, will delete soon\n",
      "Raw data deleted. If you specified filename, clean data will be saved in data directory\n"
     ]
    }
   ],
   "source": [
    "import pre_ml\n",
    "import mlpipeline\n",
    "import pandas as pd\n",
    "import numpy as np\n",
    "import seaborn as sns\n",
    "import matplotlib.pyplot as plt\n",
    "import sklearn\n",
    "\n",
    "df = pre_ml.data(False)"
   ]
  },
  {
   "cell_type": "code",
   "execution_count": 56,
   "metadata": {
    "scrolled": false
   },
   "outputs": [
    {
     "data": {
      "text/html": [
       "<div>\n",
       "<style scoped>\n",
       "    .dataframe tbody tr th:only-of-type {\n",
       "        vertical-align: middle;\n",
       "    }\n",
       "\n",
       "    .dataframe tbody tr th {\n",
       "        vertical-align: top;\n",
       "    }\n",
       "\n",
       "    .dataframe thead th {\n",
       "        text-align: right;\n",
       "    }\n",
       "</style>\n",
       "<table border=\"1\" class=\"dataframe\">\n",
       "  <thead>\n",
       "    <tr style=\"text-align: right;\">\n",
       "      <th></th>\n",
       "      <th>entidad_res</th>\n",
       "      <th>municipio_res</th>\n",
       "      <th>CVE_MUN</th>\n",
       "      <th>embarazo</th>\n",
       "      <th>edad</th>\n",
       "      <th>diabetes</th>\n",
       "      <th>epoc</th>\n",
       "      <th>asma</th>\n",
       "      <th>inmusupr</th>\n",
       "      <th>hipertension</th>\n",
       "      <th>cardiovascular</th>\n",
       "      <th>obesidad</th>\n",
       "      <th>tabaquismo</th>\n",
       "      <th>hospitalizado</th>\n",
       "      <th>muertos</th>\n",
       "      <th>pobreza</th>\n",
       "      <th>Densidad_pob</th>\n",
       "      <th>medicos</th>\n",
       "      <th>camas_hosp</th>\n",
       "      <th>enfermeras</th>\n",
       "    </tr>\n",
       "  </thead>\n",
       "  <tbody>\n",
       "    <tr>\n",
       "      <td>0</td>\n",
       "      <td>2</td>\n",
       "      <td>2</td>\n",
       "      <td>2002</td>\n",
       "      <td>0.0</td>\n",
       "      <td>60</td>\n",
       "      <td>1.0</td>\n",
       "      <td>0.0</td>\n",
       "      <td>0.0</td>\n",
       "      <td>0.0</td>\n",
       "      <td>1.0</td>\n",
       "      <td>0.0</td>\n",
       "      <td>0.0</td>\n",
       "      <td>0.0</td>\n",
       "      <td>1</td>\n",
       "      <td>1</td>\n",
       "      <td>30.0</td>\n",
       "      <td>69.472275</td>\n",
       "      <td>1.195426</td>\n",
       "      <td>6.639215</td>\n",
       "      <td>18.179678</td>\n",
       "    </tr>\n",
       "    <tr>\n",
       "      <td>1</td>\n",
       "      <td>12</td>\n",
       "      <td>1</td>\n",
       "      <td>12001</td>\n",
       "      <td>0.0</td>\n",
       "      <td>43</td>\n",
       "      <td>0.0</td>\n",
       "      <td>0.0</td>\n",
       "      <td>0.0</td>\n",
       "      <td>0.0</td>\n",
       "      <td>0.0</td>\n",
       "      <td>0.0</td>\n",
       "      <td>1.0</td>\n",
       "      <td>0.0</td>\n",
       "      <td>1</td>\n",
       "      <td>0</td>\n",
       "      <td>49.1</td>\n",
       "      <td>486.616238</td>\n",
       "      <td>5.340184</td>\n",
       "      <td>9.990545</td>\n",
       "      <td>30.138143</td>\n",
       "    </tr>\n",
       "    <tr>\n",
       "      <td>2</td>\n",
       "      <td>14</td>\n",
       "      <td>120</td>\n",
       "      <td>14120</td>\n",
       "      <td>0.0</td>\n",
       "      <td>26</td>\n",
       "      <td>0.0</td>\n",
       "      <td>0.0</td>\n",
       "      <td>0.0</td>\n",
       "      <td>0.0</td>\n",
       "      <td>0.0</td>\n",
       "      <td>0.0</td>\n",
       "      <td>0.0</td>\n",
       "      <td>0.0</td>\n",
       "      <td>0</td>\n",
       "      <td>0</td>\n",
       "      <td>24.6</td>\n",
       "      <td>1232.679739</td>\n",
       "      <td>0.697661</td>\n",
       "      <td>4.074343</td>\n",
       "      <td>11.030027</td>\n",
       "    </tr>\n",
       "    <tr>\n",
       "      <td>3</td>\n",
       "      <td>27</td>\n",
       "      <td>4</td>\n",
       "      <td>27004</td>\n",
       "      <td>0.0</td>\n",
       "      <td>53</td>\n",
       "      <td>0.0</td>\n",
       "      <td>0.0</td>\n",
       "      <td>0.0</td>\n",
       "      <td>0.0</td>\n",
       "      <td>1.0</td>\n",
       "      <td>0.0</td>\n",
       "      <td>1.0</td>\n",
       "      <td>0.0</td>\n",
       "      <td>0</td>\n",
       "      <td>0</td>\n",
       "      <td>36.3</td>\n",
       "      <td>430.537057</td>\n",
       "      <td>5.448810</td>\n",
       "      <td>13.926240</td>\n",
       "      <td>41.575909</td>\n",
       "    </tr>\n",
       "    <tr>\n",
       "      <td>4</td>\n",
       "      <td>27</td>\n",
       "      <td>4</td>\n",
       "      <td>27004</td>\n",
       "      <td>0.0</td>\n",
       "      <td>28</td>\n",
       "      <td>0.0</td>\n",
       "      <td>0.0</td>\n",
       "      <td>0.0</td>\n",
       "      <td>0.0</td>\n",
       "      <td>0.0</td>\n",
       "      <td>0.0</td>\n",
       "      <td>0.0</td>\n",
       "      <td>0.0</td>\n",
       "      <td>0</td>\n",
       "      <td>0</td>\n",
       "      <td>36.3</td>\n",
       "      <td>430.537057</td>\n",
       "      <td>5.448810</td>\n",
       "      <td>13.926240</td>\n",
       "      <td>41.575909</td>\n",
       "    </tr>\n",
       "  </tbody>\n",
       "</table>\n",
       "</div>"
      ],
      "text/plain": [
       "   entidad_res  municipio_res  CVE_MUN  embarazo  edad  diabetes  epoc  asma  \\\n",
       "0            2              2     2002       0.0    60       1.0   0.0   0.0   \n",
       "1           12              1    12001       0.0    43       0.0   0.0   0.0   \n",
       "2           14            120    14120       0.0    26       0.0   0.0   0.0   \n",
       "3           27              4    27004       0.0    53       0.0   0.0   0.0   \n",
       "4           27              4    27004       0.0    28       0.0   0.0   0.0   \n",
       "\n",
       "   inmusupr  hipertension  cardiovascular  obesidad  tabaquismo  \\\n",
       "0       0.0           1.0             0.0       0.0         0.0   \n",
       "1       0.0           0.0             0.0       1.0         0.0   \n",
       "2       0.0           0.0             0.0       0.0         0.0   \n",
       "3       0.0           1.0             0.0       1.0         0.0   \n",
       "4       0.0           0.0             0.0       0.0         0.0   \n",
       "\n",
       "   hospitalizado  muertos  pobreza  Densidad_pob   medicos  camas_hosp  \\\n",
       "0              1        1     30.0     69.472275  1.195426    6.639215   \n",
       "1              1        0     49.1    486.616238  5.340184    9.990545   \n",
       "2              0        0     24.6   1232.679739  0.697661    4.074343   \n",
       "3              0        0     36.3    430.537057  5.448810   13.926240   \n",
       "4              0        0     36.3    430.537057  5.448810   13.926240   \n",
       "\n",
       "   enfermeras  \n",
       "0   18.179678  \n",
       "1   30.138143  \n",
       "2   11.030027  \n",
       "3   41.575909  \n",
       "4   41.575909  "
      ]
     },
     "execution_count": 56,
     "metadata": {},
     "output_type": "execute_result"
    }
   ],
   "source": [
    "df.head(5)"
   ]
  },
  {
   "cell_type": "markdown",
   "metadata": {},
   "source": [
    "## Split into test set / training set and normalize the data"
   ]
  },
  {
   "cell_type": "code",
   "execution_count": 60,
   "metadata": {},
   "outputs": [],
   "source": [
    "train, test = mlpipeline.split_data(df.loc[:,'embarazo':], .20, seed=0)\n",
    "train_NORM, test_NORM = mlpipeline.normalize(train, test, ['edad', 'pobreza', 'Densidad_pob', 'medicos',\n",
    "                                                            'camas_hosp', 'enfermeras'])"
   ]
  },
  {
   "cell_type": "code",
   "execution_count": 62,
   "metadata": {
    "scrolled": true
   },
   "outputs": [
    {
     "data": {
      "text/html": [
       "<div>\n",
       "<style scoped>\n",
       "    .dataframe tbody tr th:only-of-type {\n",
       "        vertical-align: middle;\n",
       "    }\n",
       "\n",
       "    .dataframe tbody tr th {\n",
       "        vertical-align: top;\n",
       "    }\n",
       "\n",
       "    .dataframe thead th {\n",
       "        text-align: right;\n",
       "    }\n",
       "</style>\n",
       "<table border=\"1\" class=\"dataframe\">\n",
       "  <thead>\n",
       "    <tr style=\"text-align: right;\">\n",
       "      <th></th>\n",
       "      <th>embarazo</th>\n",
       "      <th>edad</th>\n",
       "      <th>diabetes</th>\n",
       "      <th>epoc</th>\n",
       "      <th>asma</th>\n",
       "      <th>inmusupr</th>\n",
       "      <th>hipertension</th>\n",
       "      <th>cardiovascular</th>\n",
       "      <th>obesidad</th>\n",
       "      <th>tabaquismo</th>\n",
       "      <th>hospitalizado</th>\n",
       "      <th>muertos</th>\n",
       "      <th>pobreza</th>\n",
       "      <th>Densidad_pob</th>\n",
       "      <th>medicos</th>\n",
       "      <th>camas_hosp</th>\n",
       "      <th>enfermeras</th>\n",
       "    </tr>\n",
       "  </thead>\n",
       "  <tbody>\n",
       "    <tr>\n",
       "      <td>37142</td>\n",
       "      <td>0.0</td>\n",
       "      <td>-1.273145</td>\n",
       "      <td>0.0</td>\n",
       "      <td>0.0</td>\n",
       "      <td>0.0</td>\n",
       "      <td>0.0</td>\n",
       "      <td>0.0</td>\n",
       "      <td>0.0</td>\n",
       "      <td>0.0</td>\n",
       "      <td>0.0</td>\n",
       "      <td>0</td>\n",
       "      <td>0</td>\n",
       "      <td>-0.018532</td>\n",
       "      <td>1.899754</td>\n",
       "      <td>-0.287117</td>\n",
       "      <td>-0.37298</td>\n",
       "      <td>-0.484728</td>\n",
       "    </tr>\n",
       "  </tbody>\n",
       "</table>\n",
       "</div>"
      ],
      "text/plain": [
       "       embarazo      edad  diabetes  epoc  asma  inmusupr  hipertension  \\\n",
       "37142       0.0 -1.273145       0.0   0.0   0.0       0.0           0.0   \n",
       "\n",
       "       cardiovascular  obesidad  tabaquismo  hospitalizado  muertos   pobreza  \\\n",
       "37142             0.0       0.0         0.0              0        0 -0.018532   \n",
       "\n",
       "       Densidad_pob   medicos  camas_hosp  enfermeras  \n",
       "37142      1.899754 -0.287117    -0.37298   -0.484728  "
      ]
     },
     "execution_count": 62,
     "metadata": {},
     "output_type": "execute_result"
    }
   ],
   "source": [
    "train_NORM.head(1)"
   ]
  },
  {
   "cell_type": "markdown",
   "metadata": {},
   "source": [
    "## First we will train a Support Vector Machine Classifier to predict deaths and then hospitalizations\n",
    "\n",
    "https://towardsdatascience.com/a-guide-to-svm-parameter-tuning-8bfe6b8a452c"
   ]
  },
  {
   "cell_type": "code",
   "execution_count": 63,
   "metadata": {},
   "outputs": [],
   "source": [
    "features = ['edad', 'diabetes', 'epoc', 'asma', 'inmusupr', 'hipertension', 'cardiovascular',\n",
    "            'obesidad', 'tabaquismo', 'pobreza', 'medicos', 'camas_hosp', 'enfermeras']\n",
    "X_train_NORM = train_NORM.loc[:, features]\n",
    "y_train = train_NORM.loc[:, 'muertos']\n",
    "\n",
    "X_test_NORM = test_NORM.loc[:, features]\n",
    "y_test = test_NORM.loc[:, 'muertos']"
   ]
  },
  {
   "cell_type": "code",
   "execution_count": 80,
   "metadata": {
    "scrolled": false
   },
   "outputs": [
    {
     "data": {
      "text/plain": [
       "0    14452\n",
       "1     1828\n",
       "Name: muertos, dtype: int64"
      ]
     },
     "execution_count": 80,
     "metadata": {},
     "output_type": "execute_result"
    }
   ],
   "source": [
    "y_test.value_counts()"
   ]
  },
  {
   "cell_type": "markdown",
   "metadata": {},
   "source": [
    "Our data is highly imbalanced, only around 10% (consistent with the average death rate by state) of cases in the training set result in deaths. We will address this with over\\under sampling techniques to address this.\n",
    "\n",
    "https://towardsdatascience.com/methods-for-dealing-with-imbalanced-data-5b761be45a18"
   ]
  },
  {
   "cell_type": "markdown",
   "metadata": {},
   "source": [
    "## Upsampling"
   ]
  },
  {
   "cell_type": "code",
   "execution_count": 83,
   "metadata": {},
   "outputs": [],
   "source": [
    "from sklearn.utils import resample\n",
    "negatives = train_NORM[train_NORM.muertos == 0]\n",
    "positives = train_NORM[train_NORM.muertos == 1]\n",
    "\n",
    "upsample_positives = resample(positives,\n",
    "                              replace=True, # sample with replacement\n",
    "                              n_samples=len(negatives) // 2, # match number in majority class\n",
    "                              random_state=0)\n",
    "upsampled_train_NORM = pd.concat([negatives, upsample_positives])"
   ]
  },
  {
   "cell_type": "code",
   "execution_count": 84,
   "metadata": {},
   "outputs": [
    {
     "data": {
      "text/plain": [
       "0    57904\n",
       "1    28952\n",
       "Name: muertos, dtype: int64"
      ]
     },
     "execution_count": 84,
     "metadata": {},
     "output_type": "execute_result"
    }
   ],
   "source": [
    "upsampled_train_NORM.muertos.value_counts()"
   ]
  },
  {
   "cell_type": "code",
   "execution_count": 85,
   "metadata": {},
   "outputs": [],
   "source": [
    "X_upsamp_train_NORM = upsampled_train_NORM.loc[:, features]\n",
    "y_upsamp_train = upsampled_train_NORM.loc[:, 'muertos']"
   ]
  },
  {
   "cell_type": "code",
   "execution_count": 88,
   "metadata": {
    "scrolled": false
   },
   "outputs": [],
   "source": [
    "from sklearn.svm import LinearSVC\n",
    "from sklearn.model_selection import GridSearchCV\n",
    "paramgrid = {'C': [0.1, 1, 10, 100],\n",
    "             'penalty':['l1', 'l2']} \n",
    "\n",
    "grid_search = GridSearchCV(estimator=LinearSVC(random_state=0, max_iter=10000, dual=False),\n",
    "                           param_grid=paramgrid, cv=10,\n",
    "                           return_train_score=True,\n",
    "                           scoring=['accuracy', 'precision', 'recall'], \n",
    "                           refit='accuracy')\n",
    "grid_search.fit(X_upsamp_train_NORM, y_upsamp_train)\n",
    "cv_results_df = pd.DataFrame(grid_search.cv_results_)"
   ]
  },
  {
   "cell_type": "markdown",
   "metadata": {},
   "source": [
    "#### Results when upsampling positive label:"
   ]
  },
  {
   "cell_type": "code",
   "execution_count": 90,
   "metadata": {},
   "outputs": [
    {
     "data": {
      "text/html": [
       "<div>\n",
       "<style scoped>\n",
       "    .dataframe tbody tr th:only-of-type {\n",
       "        vertical-align: middle;\n",
       "    }\n",
       "\n",
       "    .dataframe tbody tr th {\n",
       "        vertical-align: top;\n",
       "    }\n",
       "\n",
       "    .dataframe thead th {\n",
       "        text-align: right;\n",
       "    }\n",
       "</style>\n",
       "<table border=\"1\" class=\"dataframe\">\n",
       "  <thead>\n",
       "    <tr style=\"text-align: right;\">\n",
       "      <th></th>\n",
       "      <th>params</th>\n",
       "      <th>mean_test_accuracy</th>\n",
       "      <th>rank_test_accuracy</th>\n",
       "      <th>mean_test_precision</th>\n",
       "      <th>rank_test_precision</th>\n",
       "      <th>mean_test_recall</th>\n",
       "      <th>rank_test_recall</th>\n",
       "    </tr>\n",
       "  </thead>\n",
       "  <tbody>\n",
       "    <tr>\n",
       "      <td>1</td>\n",
       "      <td>{'C': 0.1, 'penalty': 'l2'}</td>\n",
       "      <td>0.730830</td>\n",
       "      <td>1</td>\n",
       "      <td>0.630847</td>\n",
       "      <td>1</td>\n",
       "      <td>0.464044</td>\n",
       "      <td>2</td>\n",
       "    </tr>\n",
       "    <tr>\n",
       "      <td>2</td>\n",
       "      <td>{'C': 1, 'penalty': 'l1'}</td>\n",
       "      <td>0.730807</td>\n",
       "      <td>2</td>\n",
       "      <td>0.630790</td>\n",
       "      <td>2</td>\n",
       "      <td>0.464044</td>\n",
       "      <td>2</td>\n",
       "    </tr>\n",
       "    <tr>\n",
       "      <td>0</td>\n",
       "      <td>{'C': 0.1, 'penalty': 'l1'}</td>\n",
       "      <td>0.730784</td>\n",
       "      <td>3</td>\n",
       "      <td>0.630719</td>\n",
       "      <td>4</td>\n",
       "      <td>0.464078</td>\n",
       "      <td>1</td>\n",
       "    </tr>\n",
       "    <tr>\n",
       "      <td>4</td>\n",
       "      <td>{'C': 10, 'penalty': 'l1'}</td>\n",
       "      <td>0.730773</td>\n",
       "      <td>4</td>\n",
       "      <td>0.630724</td>\n",
       "      <td>3</td>\n",
       "      <td>0.463975</td>\n",
       "      <td>6</td>\n",
       "    </tr>\n",
       "    <tr>\n",
       "      <td>5</td>\n",
       "      <td>{'C': 10, 'penalty': 'l2'}</td>\n",
       "      <td>0.730773</td>\n",
       "      <td>4</td>\n",
       "      <td>0.630713</td>\n",
       "      <td>5</td>\n",
       "      <td>0.464009</td>\n",
       "      <td>4</td>\n",
       "    </tr>\n",
       "    <tr>\n",
       "      <td>7</td>\n",
       "      <td>{'C': 100, 'penalty': 'l2'}</td>\n",
       "      <td>0.730773</td>\n",
       "      <td>4</td>\n",
       "      <td>0.630713</td>\n",
       "      <td>5</td>\n",
       "      <td>0.464009</td>\n",
       "      <td>4</td>\n",
       "    </tr>\n",
       "    <tr>\n",
       "      <td>6</td>\n",
       "      <td>{'C': 100, 'penalty': 'l1'}</td>\n",
       "      <td>0.730761</td>\n",
       "      <td>7</td>\n",
       "      <td>0.630695</td>\n",
       "      <td>8</td>\n",
       "      <td>0.463975</td>\n",
       "      <td>6</td>\n",
       "    </tr>\n",
       "    <tr>\n",
       "      <td>3</td>\n",
       "      <td>{'C': 1, 'penalty': 'l2'}</td>\n",
       "      <td>0.730761</td>\n",
       "      <td>8</td>\n",
       "      <td>0.630696</td>\n",
       "      <td>7</td>\n",
       "      <td>0.463975</td>\n",
       "      <td>6</td>\n",
       "    </tr>\n",
       "  </tbody>\n",
       "</table>\n",
       "</div>"
      ],
      "text/plain": [
       "                        params  mean_test_accuracy  rank_test_accuracy  \\\n",
       "1  {'C': 0.1, 'penalty': 'l2'}            0.730830                   1   \n",
       "2    {'C': 1, 'penalty': 'l1'}            0.730807                   2   \n",
       "0  {'C': 0.1, 'penalty': 'l1'}            0.730784                   3   \n",
       "4   {'C': 10, 'penalty': 'l1'}            0.730773                   4   \n",
       "5   {'C': 10, 'penalty': 'l2'}            0.730773                   4   \n",
       "7  {'C': 100, 'penalty': 'l2'}            0.730773                   4   \n",
       "6  {'C': 100, 'penalty': 'l1'}            0.730761                   7   \n",
       "3    {'C': 1, 'penalty': 'l2'}            0.730761                   8   \n",
       "\n",
       "   mean_test_precision  rank_test_precision  mean_test_recall  \\\n",
       "1             0.630847                    1          0.464044   \n",
       "2             0.630790                    2          0.464044   \n",
       "0             0.630719                    4          0.464078   \n",
       "4             0.630724                    3          0.463975   \n",
       "5             0.630713                    5          0.464009   \n",
       "7             0.630713                    5          0.464009   \n",
       "6             0.630695                    8          0.463975   \n",
       "3             0.630696                    7          0.463975   \n",
       "\n",
       "   rank_test_recall  \n",
       "1                 2  \n",
       "2                 2  \n",
       "0                 1  \n",
       "4                 6  \n",
       "5                 4  \n",
       "7                 4  \n",
       "6                 6  \n",
       "3                 6  "
      ]
     },
     "execution_count": 90,
     "metadata": {},
     "output_type": "execute_result"
    }
   ],
   "source": [
    "cols = ['params', 'mean_test_accuracy', 'rank_test_accuracy', 'mean_test_precision',\n",
    "        'rank_test_precision', 'mean_test_recall', 'rank_test_recall']\n",
    "cv_results_df[cols].sort_values(by='rank_test_accuracy', ascending=True)"
   ]
  },
  {
   "cell_type": "code",
   "execution_count": 98,
   "metadata": {},
   "outputs": [
    {
     "data": {
      "image/png": "[encoded data removed]",
      "text/plain": [
       "<Figure size 864x576 with 2 Axes>"
      ]
     },
     "metadata": {
      "needs_background": "light"
     },
     "output_type": "display_data"
    }
   ],
   "source": [
    "from sklearn.metrics import plot_confusion_matrix, plot_roc_curve, plot_precision_recall_curve\n",
    "y_predicted = grid_search.best_estimator_.predict(X_test_NORM)\n",
    "\n",
    "fig, ax = plt.subplots()\n",
    "fig.set_size_inches(12, 8)\n",
    "plt.suptitle('Confusion matrix for '+str(grid_search.best_estimator_)+' with upsampled positive label');\n",
    "plot_confusion_matrix(grid_search.best_estimator_, X_test_NORM,y_test, ax=ax);"
   ]
  },
  {
   "cell_type": "code",
   "execution_count": 101,
   "metadata": {
    "scrolled": true
   },
   "outputs": [
    {
     "name": "stdout",
     "output_type": "stream",
     "text": [
      "Accuracy: 0.816031941031941\n",
      "Precision: 0.29519129519129517\n",
      "Recall: 0.4600656455142232\n",
      "F1 Score: 0.35963224289074197\n"
     ]
    }
   ],
   "source": [
    "print('''Accuracy: {}\n",
    "Precision: {}\n",
    "Recall: {}\n",
    "F1 Score: {}'''.format(sklearn.metrics.accuracy_score(y_test, y_predicted),\n",
    "                       sklearn.metrics.precision_score(y_test, y_predicted), \n",
    "                       sklearn.metrics.recall_score(y_test, y_predicted),\n",
    "                       sklearn.metrics.f1_score(y_test, y_predicted)))"
   ]
  },
  {
   "cell_type": "markdown",
   "metadata": {},
   "source": [
    "## Undersampling"
   ]
  },
  {
   "cell_type": "code",
   "execution_count": 104,
   "metadata": {},
   "outputs": [],
   "source": [
    "undersample_negatives = resample(negatives,\n",
    "                                 replace=True, # sample with replacement\n",
    "                                 n_samples=len(positives), # match number in majority class\n",
    "                                 random_state=0)\n",
    "undersample_train_NORM = pd.concat([positives, undersample_negatives])\n",
    "\n",
    "X_undersamp_train_NORM = undersample_train_NORM.loc[:, features]\n",
    "y_undersamp_train = undersample_train_NORM.loc[:, 'muertos']"
   ]
  },
  {
   "cell_type": "code",
   "execution_count": 105,
   "metadata": {},
   "outputs": [],
   "source": [
    "grid_search = GridSearchCV(estimator=LinearSVC(random_state=0, max_iter=10000, dual=False),\n",
    "                           param_grid=paramgrid, cv=10,\n",
    "                           return_train_score=True,\n",
    "                           scoring=['accuracy', 'precision', 'recall'], \n",
    "                           refit='accuracy')\n",
    "grid_search.fit(X_undersamp_train_NORM, y_undersamp_train)\n",
    "cv_results_df = pd.DataFrame(grid_search.cv_results_)"
   ]
  },
  {
   "cell_type": "markdown",
   "metadata": {},
   "source": [
    "### Results when undersampling negative label"
   ]
  },
  {
   "cell_type": "code",
   "execution_count": 106,
   "metadata": {
    "scrolled": true
   },
   "outputs": [
    {
     "data": {
      "text/html": [
       "<div>\n",
       "<style scoped>\n",
       "    .dataframe tbody tr th:only-of-type {\n",
       "        vertical-align: middle;\n",
       "    }\n",
       "\n",
       "    .dataframe tbody tr th {\n",
       "        vertical-align: top;\n",
       "    }\n",
       "\n",
       "    .dataframe thead th {\n",
       "        text-align: right;\n",
       "    }\n",
       "</style>\n",
       "<table border=\"1\" class=\"dataframe\">\n",
       "  <thead>\n",
       "    <tr style=\"text-align: right;\">\n",
       "      <th></th>\n",
       "      <th>params</th>\n",
       "      <th>mean_test_accuracy</th>\n",
       "      <th>rank_test_accuracy</th>\n",
       "      <th>mean_test_precision</th>\n",
       "      <th>rank_test_precision</th>\n",
       "      <th>mean_test_recall</th>\n",
       "      <th>rank_test_recall</th>\n",
       "    </tr>\n",
       "  </thead>\n",
       "  <tbody>\n",
       "    <tr>\n",
       "      <td>1</td>\n",
       "      <td>{'C': 0.1, 'penalty': 'l2'}</td>\n",
       "      <td>0.723253</td>\n",
       "      <td>1</td>\n",
       "      <td>0.722703</td>\n",
       "      <td>6</td>\n",
       "      <td>0.724638</td>\n",
       "      <td>1</td>\n",
       "    </tr>\n",
       "    <tr>\n",
       "      <td>3</td>\n",
       "      <td>{'C': 1, 'penalty': 'l2'}</td>\n",
       "      <td>0.723253</td>\n",
       "      <td>1</td>\n",
       "      <td>0.722761</td>\n",
       "      <td>1</td>\n",
       "      <td>0.724499</td>\n",
       "      <td>3</td>\n",
       "    </tr>\n",
       "    <tr>\n",
       "      <td>4</td>\n",
       "      <td>{'C': 10, 'penalty': 'l1'}</td>\n",
       "      <td>0.723253</td>\n",
       "      <td>1</td>\n",
       "      <td>0.722761</td>\n",
       "      <td>1</td>\n",
       "      <td>0.724499</td>\n",
       "      <td>3</td>\n",
       "    </tr>\n",
       "    <tr>\n",
       "      <td>5</td>\n",
       "      <td>{'C': 10, 'penalty': 'l2'}</td>\n",
       "      <td>0.723253</td>\n",
       "      <td>1</td>\n",
       "      <td>0.722761</td>\n",
       "      <td>1</td>\n",
       "      <td>0.724499</td>\n",
       "      <td>3</td>\n",
       "    </tr>\n",
       "    <tr>\n",
       "      <td>6</td>\n",
       "      <td>{'C': 100, 'penalty': 'l1'}</td>\n",
       "      <td>0.723253</td>\n",
       "      <td>1</td>\n",
       "      <td>0.722761</td>\n",
       "      <td>1</td>\n",
       "      <td>0.724499</td>\n",
       "      <td>3</td>\n",
       "    </tr>\n",
       "    <tr>\n",
       "      <td>7</td>\n",
       "      <td>{'C': 100, 'penalty': 'l2'}</td>\n",
       "      <td>0.723253</td>\n",
       "      <td>1</td>\n",
       "      <td>0.722761</td>\n",
       "      <td>1</td>\n",
       "      <td>0.724499</td>\n",
       "      <td>3</td>\n",
       "    </tr>\n",
       "    <tr>\n",
       "      <td>2</td>\n",
       "      <td>{'C': 1, 'penalty': 'l1'}</td>\n",
       "      <td>0.723184</td>\n",
       "      <td>7</td>\n",
       "      <td>0.722664</td>\n",
       "      <td>7</td>\n",
       "      <td>0.724499</td>\n",
       "      <td>3</td>\n",
       "    </tr>\n",
       "    <tr>\n",
       "      <td>0</td>\n",
       "      <td>{'C': 0.1, 'penalty': 'l1'}</td>\n",
       "      <td>0.723184</td>\n",
       "      <td>8</td>\n",
       "      <td>0.722613</td>\n",
       "      <td>8</td>\n",
       "      <td>0.724637</td>\n",
       "      <td>2</td>\n",
       "    </tr>\n",
       "  </tbody>\n",
       "</table>\n",
       "</div>"
      ],
      "text/plain": [
       "                        params  mean_test_accuracy  rank_test_accuracy  \\\n",
       "1  {'C': 0.1, 'penalty': 'l2'}            0.723253                   1   \n",
       "3    {'C': 1, 'penalty': 'l2'}            0.723253                   1   \n",
       "4   {'C': 10, 'penalty': 'l1'}            0.723253                   1   \n",
       "5   {'C': 10, 'penalty': 'l2'}            0.723253                   1   \n",
       "6  {'C': 100, 'penalty': 'l1'}            0.723253                   1   \n",
       "7  {'C': 100, 'penalty': 'l2'}            0.723253                   1   \n",
       "2    {'C': 1, 'penalty': 'l1'}            0.723184                   7   \n",
       "0  {'C': 0.1, 'penalty': 'l1'}            0.723184                   8   \n",
       "\n",
       "   mean_test_precision  rank_test_precision  mean_test_recall  \\\n",
       "1             0.722703                    6          0.724638   \n",
       "3             0.722761                    1          0.724499   \n",
       "4             0.722761                    1          0.724499   \n",
       "5             0.722761                    1          0.724499   \n",
       "6             0.722761                    1          0.724499   \n",
       "7             0.722761                    1          0.724499   \n",
       "2             0.722664                    7          0.724499   \n",
       "0             0.722613                    8          0.724637   \n",
       "\n",
       "   rank_test_recall  \n",
       "1                 1  \n",
       "3                 3  \n",
       "4                 3  \n",
       "5                 3  \n",
       "6                 3  \n",
       "7                 3  \n",
       "2                 3  \n",
       "0                 2  "
      ]
     },
     "execution_count": 106,
     "metadata": {},
     "output_type": "execute_result"
    }
   ],
   "source": [
    "cols = ['params', 'mean_test_accuracy', 'rank_test_accuracy', 'mean_test_precision',\n",
    "        'rank_test_precision', 'mean_test_recall', 'rank_test_recall']\n",
    "cv_results_df[cols].sort_values(by='rank_test_accuracy', ascending=True)"
   ]
  },
  {
   "cell_type": "code",
   "execution_count": 117,
   "metadata": {},
   "outputs": [
    {
     "data": {
      "image/png": "[encoded data removed]",
      "text/plain": [
       "<Figure size 864x576 with 2 Axes>"
      ]
     },
     "metadata": {},
     "output_type": "display_data"
    }
   ],
   "source": [
    "y_predicted = grid_search.best_estimator_.predict(X_test_NORM)\n",
    "\n",
    "fig, ax = plt.subplots()\n",
    "fig.set_size_inches(12, 8)\n",
    "plt.suptitle('Confusion matrix for '+str(grid_search.best_estimator_)+' with undesampled negative label');\n",
    "plot_confusion_matrix(grid_search.best_estimator_, X_test_NORM,y_test, ax=ax);"
   ]
  },
  {
   "cell_type": "code",
   "execution_count": 108,
   "metadata": {},
   "outputs": [
    {
     "name": "stdout",
     "output_type": "stream",
     "text": [
      "Accuracy: 0.7186117936117936\n",
      "Precision: 0.24409741587655698\n",
      "Recall: 0.7182713347921226\n",
      "F1 Score: 0.3643679755792979\n"
     ]
    }
   ],
   "source": [
    "print('''Accuracy: {}\n",
    "Precision: {}\n",
    "Recall: {}\n",
    "F1 Score: {}'''.format(sklearn.metrics.accuracy_score(y_test, y_predicted),\n",
    "                       sklearn.metrics.precision_score(y_test, y_predicted), \n",
    "                       sklearn.metrics.recall_score(y_test, y_predicted),\n",
    "                       sklearn.metrics.f1_score(y_test, y_predicted)))"
   ]
  },
  {
   "cell_type": "code",
   "execution_count": 114,
   "metadata": {},
   "outputs": [],
   "source": [
    "coeffs = pd.DataFrame.from_dict({'predictor':features,\n",
    "                                 'coefficient':grid_search.best_estimator_.coef_.flatten(),\n",
    "                                 'abs_coeffient':abs(grid_search.best_estimator_.coef_.flatten())})\n",
    "coeffs.sort_values(by='abs_coeffient', inplace=True,ascending=False)"
   ]
  },
  {
   "cell_type": "code",
   "execution_count": 122,
   "metadata": {
    "scrolled": false
   },
   "outputs": [
    {
     "data": {
      "image/png": "[encoded data removed]",
      "text/plain": [
       "<Figure size 864x576 with 2 Axes>"
      ]
     },
     "metadata": {},
     "output_type": "display_data"
    }
   ],
   "source": [
    "sns.set(style=\"whitegrid\") \n",
    "fig, ax = plt.subplots(1,2)\n",
    "fig.set_size_inches(12, 8)\n",
    "plt.suptitle('''Top ten features for COVID19 death prediction {} \n",
    "                with undersampled negative label'''.format(grid_search.best_estimator_))\n",
    "\n",
    "plt.sca(ax[0])\n",
    "sns.barplot(x=\"abs_coeffient\", y=\"predictor\", data=coeffs[0:10],\n",
    "            palette=\"rocket\")\n",
    "ax[0].set_xlabel('abs(coefficient)')\n",
    "\n",
    "plt.sca(ax[1])\n",
    "sns.barplot(x=\"coefficient\", y=\"predictor\", data=coeffs[0:10],\n",
    "            palette=\"rocket\")\n",
    "plt.setp(ax[1],yticks=[]);"
   ]
  },
  {
   "cell_type": "markdown",
   "metadata": {},
   "source": [
    "## Generate synthetic samples (Synthetic Minority Oversampling Technique)"
   ]
  },
  {
   "cell_type": "markdown",
   "metadata": {},
   "source": [
    "#missing"
   ]
  }
 ],
 "metadata": {
  "kernelspec": {
   "display_name": "Python 3.7.4 64-bit ('base': conda)",
   "language": "python",
   "name": "python37464bitbaseconda0da0b65ad1424efa9b02111640aba016"
  },
  "language_info": {
   "codemirror_mode": {
    "name": "ipython",
    "version": 3
   },
   "file_extension": ".py",
   "mimetype": "text/x-python",
   "name": "python",
   "nbconvert_exporter": "python",
   "pygments_lexer": "ipython3",
   "version": "3.7.4"
  }
 },
 "nbformat": 4,
 "nbformat_minor": 2
}
