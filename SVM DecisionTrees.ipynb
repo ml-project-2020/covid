{
 "cells": [
  {
   "cell_type": "markdown",
   "metadata": {},
   "source": [
    "# Support Vector Machine and Decision Tree classifiers Notebook\n",
    "\n",
    "Here we will train Decision Tree and Support Vector Machine classifiers on the covid19 data to predict deaths and hospitalizations. "
   ]
  },
  {
   "cell_type": "code",
   "execution_count": 8,
   "metadata": {
    "scrolled": true
   },
   "outputs": [
    {
     "name": "stdout",
     "output_type": "stream",
     "text": [
      "The autoreload extension is already loaded. To reload it, use:\n",
      "  %reload_ext autoreload\n",
      "Requesting data to datos abiertos Mexico\n",
      "Getting zip raw data into directory, will delete soon\n",
      "Raw data deleted. If you specified filename, clean data will be saved in data directory\n"
     ]
    }
   ],
   "source": [
    "%load_ext autoreload\n",
    "%autoreload 2\n",
    "import pre_ml\n",
    "import mlpipeline\n",
    "import pandas as pd\n",
    "import numpy as np\n",
    "import seaborn as sns\n",
    "import matplotlib.pyplot as plt\n",
    "import sklearn\n",
    "\n",
    "df = pre_ml.data(False)"
   ]
  },
  {
   "cell_type": "code",
   "execution_count": 9,
   "metadata": {
    "scrolled": false
   },
   "outputs": [
    {
     "data": {
      "text/html": [
       "<div>\n",
       "<style scoped>\n",
       "    .dataframe tbody tr th:only-of-type {\n",
       "        vertical-align: middle;\n",
       "    }\n",
       "\n",
       "    .dataframe tbody tr th {\n",
       "        vertical-align: top;\n",
       "    }\n",
       "\n",
       "    .dataframe thead th {\n",
       "        text-align: right;\n",
       "    }\n",
       "</style>\n",
       "<table border=\"1\" class=\"dataframe\">\n",
       "  <thead>\n",
       "    <tr style=\"text-align: right;\">\n",
       "      <th></th>\n",
       "      <th>entidad_res</th>\n",
       "      <th>municipio_res</th>\n",
       "      <th>CVE_MUN</th>\n",
       "      <th>embarazo</th>\n",
       "      <th>edad</th>\n",
       "      <th>diabetes</th>\n",
       "      <th>epoc</th>\n",
       "      <th>asma</th>\n",
       "      <th>inmusupr</th>\n",
       "      <th>hipertension</th>\n",
       "      <th>...</th>\n",
       "      <th>obesidad</th>\n",
       "      <th>tabaquismo</th>\n",
       "      <th>pobreza</th>\n",
       "      <th>Densidad_pob</th>\n",
       "      <th>medicos</th>\n",
       "      <th>camas_hosp</th>\n",
       "      <th>enfermeras</th>\n",
       "      <th>hospitalizado</th>\n",
       "      <th>muertos</th>\n",
       "      <th>covid_grave</th>\n",
       "    </tr>\n",
       "  </thead>\n",
       "  <tbody>\n",
       "    <tr>\n",
       "      <td>0</td>\n",
       "      <td>5</td>\n",
       "      <td>14</td>\n",
       "      <td>5014</td>\n",
       "      <td>0.0</td>\n",
       "      <td>92</td>\n",
       "      <td>0.0</td>\n",
       "      <td>0.0</td>\n",
       "      <td>0.0</td>\n",
       "      <td>0.0</td>\n",
       "      <td>1.0</td>\n",
       "      <td>...</td>\n",
       "      <td>0.0</td>\n",
       "      <td>0.0</td>\n",
       "      <td>68.7</td>\n",
       "      <td>4.995184</td>\n",
       "      <td>2.383058</td>\n",
       "      <td>10.741822</td>\n",
       "      <td>27.221458</td>\n",
       "      <td>1</td>\n",
       "      <td>1</td>\n",
       "      <td>1</td>\n",
       "    </tr>\n",
       "    <tr>\n",
       "      <td>1</td>\n",
       "      <td>9</td>\n",
       "      <td>7</td>\n",
       "      <td>9007</td>\n",
       "      <td>0.0</td>\n",
       "      <td>35</td>\n",
       "      <td>1.0</td>\n",
       "      <td>0.0</td>\n",
       "      <td>0.0</td>\n",
       "      <td>0.0</td>\n",
       "      <td>0.0</td>\n",
       "      <td>...</td>\n",
       "      <td>0.0</td>\n",
       "      <td>0.0</td>\n",
       "      <td>36.4</td>\n",
       "      <td>16028.524764</td>\n",
       "      <td>2.170140</td>\n",
       "      <td>7.325600</td>\n",
       "      <td>17.785234</td>\n",
       "      <td>0</td>\n",
       "      <td>0</td>\n",
       "      <td>0</td>\n",
       "    </tr>\n",
       "    <tr>\n",
       "      <td>2</td>\n",
       "      <td>30</td>\n",
       "      <td>193</td>\n",
       "      <td>30193</td>\n",
       "      <td>0.0</td>\n",
       "      <td>50</td>\n",
       "      <td>0.0</td>\n",
       "      <td>0.0</td>\n",
       "      <td>0.0</td>\n",
       "      <td>0.0</td>\n",
       "      <td>0.0</td>\n",
       "      <td>...</td>\n",
       "      <td>0.0</td>\n",
       "      <td>0.0</td>\n",
       "      <td>31.3</td>\n",
       "      <td>2537.821317</td>\n",
       "      <td>4.131322</td>\n",
       "      <td>16.110560</td>\n",
       "      <td>42.158624</td>\n",
       "      <td>0</td>\n",
       "      <td>0</td>\n",
       "      <td>0</td>\n",
       "    </tr>\n",
       "    <tr>\n",
       "      <td>3</td>\n",
       "      <td>9</td>\n",
       "      <td>14</td>\n",
       "      <td>9014</td>\n",
       "      <td>0.0</td>\n",
       "      <td>62</td>\n",
       "      <td>1.0</td>\n",
       "      <td>0.0</td>\n",
       "      <td>0.0</td>\n",
       "      <td>0.0</td>\n",
       "      <td>1.0</td>\n",
       "      <td>...</td>\n",
       "      <td>0.0</td>\n",
       "      <td>1.0</td>\n",
       "      <td>3.2</td>\n",
       "      <td>16243.745318</td>\n",
       "      <td>6.156216</td>\n",
       "      <td>28.636779</td>\n",
       "      <td>83.143497</td>\n",
       "      <td>0</td>\n",
       "      <td>0</td>\n",
       "      <td>0</td>\n",
       "    </tr>\n",
       "    <tr>\n",
       "      <td>4</td>\n",
       "      <td>9</td>\n",
       "      <td>17</td>\n",
       "      <td>9017</td>\n",
       "      <td>0.0</td>\n",
       "      <td>52</td>\n",
       "      <td>0.0</td>\n",
       "      <td>0.0</td>\n",
       "      <td>0.0</td>\n",
       "      <td>0.0</td>\n",
       "      <td>0.0</td>\n",
       "      <td>...</td>\n",
       "      <td>0.0</td>\n",
       "      <td>0.0</td>\n",
       "      <td>27.7</td>\n",
       "      <td>12794.772593</td>\n",
       "      <td>2.400567</td>\n",
       "      <td>7.478689</td>\n",
       "      <td>18.419735</td>\n",
       "      <td>0</td>\n",
       "      <td>0</td>\n",
       "      <td>0</td>\n",
       "    </tr>\n",
       "  </tbody>\n",
       "</table>\n",
       "<p>5 rows × 21 columns</p>\n",
       "</div>"
      ],
      "text/plain": [
       "   entidad_res  municipio_res  CVE_MUN  embarazo  edad  diabetes  epoc  asma  \\\n",
       "0            5             14     5014       0.0    92       0.0   0.0   0.0   \n",
       "1            9              7     9007       0.0    35       1.0   0.0   0.0   \n",
       "2           30            193    30193       0.0    50       0.0   0.0   0.0   \n",
       "3            9             14     9014       0.0    62       1.0   0.0   0.0   \n",
       "4            9             17     9017       0.0    52       0.0   0.0   0.0   \n",
       "\n",
       "   inmusupr  hipertension  ...  obesidad  tabaquismo  pobreza  Densidad_pob  \\\n",
       "0       0.0           1.0  ...       0.0         0.0     68.7      4.995184   \n",
       "1       0.0           0.0  ...       0.0         0.0     36.4  16028.524764   \n",
       "2       0.0           0.0  ...       0.0         0.0     31.3   2537.821317   \n",
       "3       0.0           1.0  ...       0.0         1.0      3.2  16243.745318   \n",
       "4       0.0           0.0  ...       0.0         0.0     27.7  12794.772593   \n",
       "\n",
       "    medicos  camas_hosp  enfermeras  hospitalizado  muertos  covid_grave  \n",
       "0  2.383058   10.741822   27.221458              1        1            1  \n",
       "1  2.170140    7.325600   17.785234              0        0            0  \n",
       "2  4.131322   16.110560   42.158624              0        0            0  \n",
       "3  6.156216   28.636779   83.143497              0        0            0  \n",
       "4  2.400567    7.478689   18.419735              0        0            0  \n",
       "\n",
       "[5 rows x 21 columns]"
      ]
     },
     "execution_count": 9,
     "metadata": {},
     "output_type": "execute_result"
    }
   ],
   "source": [
    "df.head(5)"
   ]
  },
  {
   "cell_type": "markdown",
   "metadata": {},
   "source": [
    "## Split into test set / training set and normalize the data"
   ]
  },
  {
   "cell_type": "code",
   "execution_count": 10,
   "metadata": {},
   "outputs": [],
   "source": [
    "train, test = mlpipeline.split_data(df.loc[:,'embarazo':], .20, seed=0)\n",
    "train_NORM, test_NORM = mlpipeline.normalize(train, test, ['edad', 'pobreza', 'Densidad_pob', 'medicos',\n",
    "                                                            'camas_hosp', 'enfermeras'])"
   ]
  },
  {
   "cell_type": "code",
   "execution_count": 11,
   "metadata": {
    "scrolled": true
   },
   "outputs": [
    {
     "data": {
      "text/html": [
       "<div>\n",
       "<style scoped>\n",
       "    .dataframe tbody tr th:only-of-type {\n",
       "        vertical-align: middle;\n",
       "    }\n",
       "\n",
       "    .dataframe tbody tr th {\n",
       "        vertical-align: top;\n",
       "    }\n",
       "\n",
       "    .dataframe thead th {\n",
       "        text-align: right;\n",
       "    }\n",
       "</style>\n",
       "<table border=\"1\" class=\"dataframe\">\n",
       "  <thead>\n",
       "    <tr style=\"text-align: right;\">\n",
       "      <th></th>\n",
       "      <th>embarazo</th>\n",
       "      <th>edad</th>\n",
       "      <th>diabetes</th>\n",
       "      <th>epoc</th>\n",
       "      <th>asma</th>\n",
       "      <th>inmusupr</th>\n",
       "      <th>hipertension</th>\n",
       "      <th>cardiovascular</th>\n",
       "      <th>obesidad</th>\n",
       "      <th>tabaquismo</th>\n",
       "      <th>pobreza</th>\n",
       "      <th>Densidad_pob</th>\n",
       "      <th>medicos</th>\n",
       "      <th>camas_hosp</th>\n",
       "      <th>enfermeras</th>\n",
       "      <th>hospitalizado</th>\n",
       "      <th>muertos</th>\n",
       "      <th>covid_grave</th>\n",
       "    </tr>\n",
       "  </thead>\n",
       "  <tbody>\n",
       "    <tr>\n",
       "      <td>39369</td>\n",
       "      <td>0.0</td>\n",
       "      <td>-0.637754</td>\n",
       "      <td>1.0</td>\n",
       "      <td>0.0</td>\n",
       "      <td>0.0</td>\n",
       "      <td>0.0</td>\n",
       "      <td>0.0</td>\n",
       "      <td>0.0</td>\n",
       "      <td>0.0</td>\n",
       "      <td>0.0</td>\n",
       "      <td>1.101443</td>\n",
       "      <td>-0.770962</td>\n",
       "      <td>0.65817</td>\n",
       "      <td>-0.622411</td>\n",
       "      <td>-0.54391</td>\n",
       "      <td>1</td>\n",
       "      <td>1</td>\n",
       "      <td>1</td>\n",
       "    </tr>\n",
       "  </tbody>\n",
       "</table>\n",
       "</div>"
      ],
      "text/plain": [
       "       embarazo      edad  diabetes  epoc  asma  inmusupr  hipertension  \\\n",
       "39369       0.0 -0.637754       1.0   0.0   0.0       0.0           0.0   \n",
       "\n",
       "       cardiovascular  obesidad  tabaquismo   pobreza  Densidad_pob  medicos  \\\n",
       "39369             0.0       0.0         0.0  1.101443     -0.770962  0.65817   \n",
       "\n",
       "       camas_hosp  enfermeras  hospitalizado  muertos  covid_grave  \n",
       "39369   -0.622411    -0.54391              1        1            1  "
      ]
     },
     "execution_count": 11,
     "metadata": {},
     "output_type": "execute_result"
    }
   ],
   "source": [
    "train_NORM.head(1)"
   ]
  },
  {
   "cell_type": "markdown",
   "metadata": {},
   "source": [
    "## First we will train a Support Vector Machine Classifier to predict deaths\n",
    "\n",
    "https://towardsdatascience.com/a-guide-to-svm-parameter-tuning-8bfe6b8a452c"
   ]
  },
  {
   "cell_type": "code",
   "execution_count": 12,
   "metadata": {},
   "outputs": [],
   "source": [
    "features = ['edad', 'diabetes', 'epoc', 'asma', 'inmusupr', 'hipertension', 'cardiovascular',\n",
    "            'obesidad', 'tabaquismo', 'pobreza', 'medicos', 'camas_hosp', 'enfermeras']\n",
    "X_train_NORM = train_NORM.loc[:, features]\n",
    "y_train = train_NORM.loc[:, 'muertos']\n",
    "\n",
    "X_test_NORM = test_NORM.loc[:, features]\n",
    "y_test = test_NORM.loc[:, 'muertos']"
   ]
  },
  {
   "cell_type": "code",
   "execution_count": 79,
   "metadata": {
    "scrolled": false
   },
   "outputs": [
    {
     "data": {
      "text/plain": [
       "0    15003\n",
       "1     1923\n",
       "Name: muertos, dtype: int64"
      ]
     },
     "execution_count": 79,
     "metadata": {},
     "output_type": "execute_result"
    }
   ],
   "source": [
    "y_test.value_counts()"
   ]
  },
  {
   "cell_type": "markdown",
   "metadata": {},
   "source": [
    "Our data is highly imbalanced, only around 10% (consistent with the average death rate by state) of cases in the training set result in deaths. We will address this with over\\under sampling techniques to address this.\n",
    "\n",
    "https://towardsdatascience.com/methods-for-dealing-with-imbalanced-data-5b761be45a18"
   ]
  },
  {
   "cell_type": "markdown",
   "metadata": {},
   "source": [
    "## Upsampling"
   ]
  },
  {
   "cell_type": "code",
   "execution_count": 80,
   "metadata": {},
   "outputs": [],
   "source": [
    "from sklearn.utils import resample\n",
    "negatives = train_NORM[train_NORM.muertos == 0]\n",
    "positives = train_NORM[train_NORM.muertos == 1]\n",
    "\n",
    "upsample_positives = resample(positives,\n",
    "                              replace=True, # sample with replacement\n",
    "                              n_samples=len(negatives) // 2, # upsample to half the total in majority class\n",
    "                              random_state=0)\n",
    "upsampled_train_NORM = pd.concat([negatives, upsample_positives])"
   ]
  },
  {
   "cell_type": "code",
   "execution_count": 81,
   "metadata": {},
   "outputs": [
    {
     "data": {
      "text/plain": [
       "0    60209\n",
       "1    30104\n",
       "Name: muertos, dtype: int64"
      ]
     },
     "execution_count": 81,
     "metadata": {},
     "output_type": "execute_result"
    }
   ],
   "source": [
    "upsampled_train_NORM.muertos.value_counts()"
   ]
  },
  {
   "cell_type": "code",
   "execution_count": 82,
   "metadata": {},
   "outputs": [],
   "source": [
    "X_upsamp_train_NORM = upsampled_train_NORM.loc[:, features]\n",
    "y_upsamp_train = upsampled_train_NORM.loc[:, 'muertos']"
   ]
  },
  {
   "cell_type": "code",
   "execution_count": 83,
   "metadata": {
    "scrolled": false
   },
   "outputs": [],
   "source": [
    "from sklearn.svm import LinearSVC\n",
    "from sklearn.model_selection import GridSearchCV\n",
    "paramgrid = {'C': [0.1, 1, 10, 100],\n",
    "             'penalty':['l1', 'l2']} \n",
    "\n",
    "grid_search = GridSearchCV(estimator=LinearSVC(random_state=0, max_iter=10000, dual=False),\n",
    "                           param_grid=paramgrid, cv=10,\n",
    "                           return_train_score=True,\n",
    "                           scoring=['accuracy', 'precision', 'recall'], \n",
    "                           refit='accuracy')\n",
    "grid_search.fit(X_upsamp_train_NORM, y_upsamp_train)\n",
    "cv_results_df = pd.DataFrame(grid_search.cv_results_)"
   ]
  },
  {
   "cell_type": "markdown",
   "metadata": {},
   "source": [
    "#### Results when upsampling positive label:"
   ]
  },
  {
   "cell_type": "code",
   "execution_count": 84,
   "metadata": {},
   "outputs": [
    {
     "data": {
      "text/html": [
       "<div>\n",
       "<style scoped>\n",
       "    .dataframe tbody tr th:only-of-type {\n",
       "        vertical-align: middle;\n",
       "    }\n",
       "\n",
       "    .dataframe tbody tr th {\n",
       "        vertical-align: top;\n",
       "    }\n",
       "\n",
       "    .dataframe thead th {\n",
       "        text-align: right;\n",
       "    }\n",
       "</style>\n",
       "<table border=\"1\" class=\"dataframe\">\n",
       "  <thead>\n",
       "    <tr style=\"text-align: right;\">\n",
       "      <th></th>\n",
       "      <th>params</th>\n",
       "      <th>mean_test_accuracy</th>\n",
       "      <th>rank_test_accuracy</th>\n",
       "      <th>mean_test_precision</th>\n",
       "      <th>rank_test_precision</th>\n",
       "      <th>mean_test_recall</th>\n",
       "      <th>rank_test_recall</th>\n",
       "    </tr>\n",
       "  </thead>\n",
       "  <tbody>\n",
       "    <tr>\n",
       "      <td>4</td>\n",
       "      <td>{'C': 10, 'penalty': 'l1'}</td>\n",
       "      <td>0.731600</td>\n",
       "      <td>1</td>\n",
       "      <td>0.632280</td>\n",
       "      <td>1</td>\n",
       "      <td>0.465552</td>\n",
       "      <td>2</td>\n",
       "    </tr>\n",
       "    <tr>\n",
       "      <td>6</td>\n",
       "      <td>{'C': 100, 'penalty': 'l1'}</td>\n",
       "      <td>0.731600</td>\n",
       "      <td>1</td>\n",
       "      <td>0.632280</td>\n",
       "      <td>1</td>\n",
       "      <td>0.465552</td>\n",
       "      <td>2</td>\n",
       "    </tr>\n",
       "    <tr>\n",
       "      <td>1</td>\n",
       "      <td>{'C': 0.1, 'penalty': 'l2'}</td>\n",
       "      <td>0.731600</td>\n",
       "      <td>3</td>\n",
       "      <td>0.632268</td>\n",
       "      <td>3</td>\n",
       "      <td>0.465586</td>\n",
       "      <td>1</td>\n",
       "    </tr>\n",
       "    <tr>\n",
       "      <td>5</td>\n",
       "      <td>{'C': 10, 'penalty': 'l2'}</td>\n",
       "      <td>0.731578</td>\n",
       "      <td>4</td>\n",
       "      <td>0.632236</td>\n",
       "      <td>4</td>\n",
       "      <td>0.465519</td>\n",
       "      <td>4</td>\n",
       "    </tr>\n",
       "    <tr>\n",
       "      <td>2</td>\n",
       "      <td>{'C': 1, 'penalty': 'l1'}</td>\n",
       "      <td>0.731578</td>\n",
       "      <td>5</td>\n",
       "      <td>0.632235</td>\n",
       "      <td>5</td>\n",
       "      <td>0.465519</td>\n",
       "      <td>5</td>\n",
       "    </tr>\n",
       "    <tr>\n",
       "      <td>7</td>\n",
       "      <td>{'C': 100, 'penalty': 'l2'}</td>\n",
       "      <td>0.731567</td>\n",
       "      <td>6</td>\n",
       "      <td>0.632220</td>\n",
       "      <td>6</td>\n",
       "      <td>0.465486</td>\n",
       "      <td>6</td>\n",
       "    </tr>\n",
       "    <tr>\n",
       "      <td>3</td>\n",
       "      <td>{'C': 1, 'penalty': 'l2'}</td>\n",
       "      <td>0.731556</td>\n",
       "      <td>7</td>\n",
       "      <td>0.632202</td>\n",
       "      <td>7</td>\n",
       "      <td>0.465453</td>\n",
       "      <td>7</td>\n",
       "    </tr>\n",
       "    <tr>\n",
       "      <td>0</td>\n",
       "      <td>{'C': 0.1, 'penalty': 'l1'}</td>\n",
       "      <td>0.731456</td>\n",
       "      <td>8</td>\n",
       "      <td>0.632004</td>\n",
       "      <td>8</td>\n",
       "      <td>0.465287</td>\n",
       "      <td>8</td>\n",
       "    </tr>\n",
       "  </tbody>\n",
       "</table>\n",
       "</div>"
      ],
      "text/plain": [
       "                        params  mean_test_accuracy  rank_test_accuracy  \\\n",
       "4   {'C': 10, 'penalty': 'l1'}            0.731600                   1   \n",
       "6  {'C': 100, 'penalty': 'l1'}            0.731600                   1   \n",
       "1  {'C': 0.1, 'penalty': 'l2'}            0.731600                   3   \n",
       "5   {'C': 10, 'penalty': 'l2'}            0.731578                   4   \n",
       "2    {'C': 1, 'penalty': 'l1'}            0.731578                   5   \n",
       "7  {'C': 100, 'penalty': 'l2'}            0.731567                   6   \n",
       "3    {'C': 1, 'penalty': 'l2'}            0.731556                   7   \n",
       "0  {'C': 0.1, 'penalty': 'l1'}            0.731456                   8   \n",
       "\n",
       "   mean_test_precision  rank_test_precision  mean_test_recall  \\\n",
       "4             0.632280                    1          0.465552   \n",
       "6             0.632280                    1          0.465552   \n",
       "1             0.632268                    3          0.465586   \n",
       "5             0.632236                    4          0.465519   \n",
       "2             0.632235                    5          0.465519   \n",
       "7             0.632220                    6          0.465486   \n",
       "3             0.632202                    7          0.465453   \n",
       "0             0.632004                    8          0.465287   \n",
       "\n",
       "   rank_test_recall  \n",
       "4                 2  \n",
       "6                 2  \n",
       "1                 1  \n",
       "5                 4  \n",
       "2                 5  \n",
       "7                 6  \n",
       "3                 7  \n",
       "0                 8  "
      ]
     },
     "execution_count": 84,
     "metadata": {},
     "output_type": "execute_result"
    }
   ],
   "source": [
    "cols = ['params', 'mean_test_accuracy', 'rank_test_accuracy', 'mean_test_precision',\n",
    "        'rank_test_precision', 'mean_test_recall', 'rank_test_recall']\n",
    "cv_results_df[cols].sort_values(by='rank_test_accuracy', ascending=True)"
   ]
  },
  {
   "cell_type": "code",
   "execution_count": 85,
   "metadata": {},
   "outputs": [
    {
     "data": {
      "image/png": "[encoded data removed]",
      "text/plain": [
       "<Figure size 864x576 with 2 Axes>"
      ]
     },
     "metadata": {},
     "output_type": "display_data"
    }
   ],
   "source": [
    "from sklearn.metrics import plot_confusion_matrix, plot_roc_curve, plot_precision_recall_curve\n",
    "y_predicted = grid_search.best_estimator_.predict(X_test_NORM)\n",
    "\n",
    "fig, ax = plt.subplots()\n",
    "fig.set_size_inches(12, 8)\n",
    "plt.suptitle('Confusion matrix for '+str(grid_search.best_estimator_)+' with upsampled positive label');\n",
    "plot_confusion_matrix(grid_search.best_estimator_, X_test_NORM,y_test, ax=ax);"
   ]
  },
  {
   "cell_type": "code",
   "execution_count": 86,
   "metadata": {
    "scrolled": true
   },
   "outputs": [
    {
     "name": "stdout",
     "output_type": "stream",
     "text": [
      "Accuracy: 0.8169088975540588\n",
      "Precision: 0.30439121756487025\n",
      "Recall: 0.47581903276131043\n",
      "F1 Score: 0.37127206329884355\n"
     ]
    }
   ],
   "source": [
    "print('''Accuracy: {}\n",
    "Precision: {}\n",
    "Recall: {}\n",
    "F1 Score: {}'''.format(sklearn.metrics.accuracy_score(y_test, y_predicted),\n",
    "                       sklearn.metrics.precision_score(y_test, y_predicted), \n",
    "                       sklearn.metrics.recall_score(y_test, y_predicted),\n",
    "                       sklearn.metrics.f1_score(y_test, y_predicted)))"
   ]
  },
  {
   "cell_type": "markdown",
   "metadata": {},
   "source": [
    "## Undersampling"
   ]
  },
  {
   "cell_type": "code",
   "execution_count": 87,
   "metadata": {},
   "outputs": [],
   "source": [
    "undersample_negatives = resample(negatives,\n",
    "                                 replace=True, # sample with replacement\n",
    "                                 n_samples=len(positives), # match number in majority class\n",
    "                                 random_state=0)\n",
    "undersample_train_NORM = pd.concat([positives, undersample_negatives])\n",
    "\n",
    "X_undersamp_train_NORM = undersample_train_NORM.loc[:, features]\n",
    "y_undersamp_train = undersample_train_NORM.loc[:, 'muertos']"
   ]
  },
  {
   "cell_type": "code",
   "execution_count": 88,
   "metadata": {},
   "outputs": [],
   "source": [
    "grid_search = GridSearchCV(estimator=LinearSVC(random_state=0, max_iter=10000, dual=False),\n",
    "                           param_grid=paramgrid, cv=10,\n",
    "                           return_train_score=True,\n",
    "                           scoring=['accuracy', 'precision', 'recall'], \n",
    "                           refit='accuracy')\n",
    "grid_search.fit(X_undersamp_train_NORM, y_undersamp_train)\n",
    "cv_results_df = pd.DataFrame(grid_search.cv_results_)"
   ]
  },
  {
   "cell_type": "markdown",
   "metadata": {},
   "source": [
    "#### Results when undersampling negative label"
   ]
  },
  {
   "cell_type": "code",
   "execution_count": 89,
   "metadata": {
    "scrolled": true
   },
   "outputs": [
    {
     "data": {
      "text/html": [
       "<div>\n",
       "<style scoped>\n",
       "    .dataframe tbody tr th:only-of-type {\n",
       "        vertical-align: middle;\n",
       "    }\n",
       "\n",
       "    .dataframe tbody tr th {\n",
       "        vertical-align: top;\n",
       "    }\n",
       "\n",
       "    .dataframe thead th {\n",
       "        text-align: right;\n",
       "    }\n",
       "</style>\n",
       "<table border=\"1\" class=\"dataframe\">\n",
       "  <thead>\n",
       "    <tr style=\"text-align: right;\">\n",
       "      <th></th>\n",
       "      <th>params</th>\n",
       "      <th>mean_test_accuracy</th>\n",
       "      <th>rank_test_accuracy</th>\n",
       "      <th>mean_test_precision</th>\n",
       "      <th>rank_test_precision</th>\n",
       "      <th>mean_test_recall</th>\n",
       "      <th>rank_test_recall</th>\n",
       "    </tr>\n",
       "  </thead>\n",
       "  <tbody>\n",
       "    <tr>\n",
       "      <td>1</td>\n",
       "      <td>{'C': 0.1, 'penalty': 'l2'}</td>\n",
       "      <td>0.719234</td>\n",
       "      <td>1</td>\n",
       "      <td>0.717548</td>\n",
       "      <td>2</td>\n",
       "      <td>0.723440</td>\n",
       "      <td>2</td>\n",
       "    </tr>\n",
       "    <tr>\n",
       "      <td>2</td>\n",
       "      <td>{'C': 1, 'penalty': 'l1'}</td>\n",
       "      <td>0.719234</td>\n",
       "      <td>1</td>\n",
       "      <td>0.717607</td>\n",
       "      <td>1</td>\n",
       "      <td>0.723307</td>\n",
       "      <td>3</td>\n",
       "    </tr>\n",
       "    <tr>\n",
       "      <td>3</td>\n",
       "      <td>{'C': 1, 'penalty': 'l2'}</td>\n",
       "      <td>0.719101</td>\n",
       "      <td>3</td>\n",
       "      <td>0.717412</td>\n",
       "      <td>3</td>\n",
       "      <td>0.723307</td>\n",
       "      <td>3</td>\n",
       "    </tr>\n",
       "    <tr>\n",
       "      <td>0</td>\n",
       "      <td>{'C': 0.1, 'penalty': 'l1'}</td>\n",
       "      <td>0.719034</td>\n",
       "      <td>4</td>\n",
       "      <td>0.717117</td>\n",
       "      <td>8</td>\n",
       "      <td>0.723707</td>\n",
       "      <td>1</td>\n",
       "    </tr>\n",
       "    <tr>\n",
       "      <td>4</td>\n",
       "      <td>{'C': 10, 'penalty': 'l1'}</td>\n",
       "      <td>0.718967</td>\n",
       "      <td>5</td>\n",
       "      <td>0.717340</td>\n",
       "      <td>4</td>\n",
       "      <td>0.723040</td>\n",
       "      <td>5</td>\n",
       "    </tr>\n",
       "    <tr>\n",
       "      <td>5</td>\n",
       "      <td>{'C': 10, 'penalty': 'l2'}</td>\n",
       "      <td>0.718967</td>\n",
       "      <td>5</td>\n",
       "      <td>0.717340</td>\n",
       "      <td>4</td>\n",
       "      <td>0.723040</td>\n",
       "      <td>5</td>\n",
       "    </tr>\n",
       "    <tr>\n",
       "      <td>6</td>\n",
       "      <td>{'C': 100, 'penalty': 'l1'}</td>\n",
       "      <td>0.718967</td>\n",
       "      <td>5</td>\n",
       "      <td>0.717340</td>\n",
       "      <td>4</td>\n",
       "      <td>0.723040</td>\n",
       "      <td>5</td>\n",
       "    </tr>\n",
       "    <tr>\n",
       "      <td>7</td>\n",
       "      <td>{'C': 100, 'penalty': 'l2'}</td>\n",
       "      <td>0.718967</td>\n",
       "      <td>5</td>\n",
       "      <td>0.717340</td>\n",
       "      <td>4</td>\n",
       "      <td>0.723040</td>\n",
       "      <td>5</td>\n",
       "    </tr>\n",
       "  </tbody>\n",
       "</table>\n",
       "</div>"
      ],
      "text/plain": [
       "                        params  mean_test_accuracy  rank_test_accuracy  \\\n",
       "1  {'C': 0.1, 'penalty': 'l2'}            0.719234                   1   \n",
       "2    {'C': 1, 'penalty': 'l1'}            0.719234                   1   \n",
       "3    {'C': 1, 'penalty': 'l2'}            0.719101                   3   \n",
       "0  {'C': 0.1, 'penalty': 'l1'}            0.719034                   4   \n",
       "4   {'C': 10, 'penalty': 'l1'}            0.718967                   5   \n",
       "5   {'C': 10, 'penalty': 'l2'}            0.718967                   5   \n",
       "6  {'C': 100, 'penalty': 'l1'}            0.718967                   5   \n",
       "7  {'C': 100, 'penalty': 'l2'}            0.718967                   5   \n",
       "\n",
       "   mean_test_precision  rank_test_precision  mean_test_recall  \\\n",
       "1             0.717548                    2          0.723440   \n",
       "2             0.717607                    1          0.723307   \n",
       "3             0.717412                    3          0.723307   \n",
       "0             0.717117                    8          0.723707   \n",
       "4             0.717340                    4          0.723040   \n",
       "5             0.717340                    4          0.723040   \n",
       "6             0.717340                    4          0.723040   \n",
       "7             0.717340                    4          0.723040   \n",
       "\n",
       "   rank_test_recall  \n",
       "1                 2  \n",
       "2                 3  \n",
       "3                 3  \n",
       "0                 1  \n",
       "4                 5  \n",
       "5                 5  \n",
       "6                 5  \n",
       "7                 5  "
      ]
     },
     "execution_count": 89,
     "metadata": {},
     "output_type": "execute_result"
    }
   ],
   "source": [
    "cols = ['params', 'mean_test_accuracy', 'rank_test_accuracy', 'mean_test_precision',\n",
    "        'rank_test_precision', 'mean_test_recall', 'rank_test_recall']\n",
    "cv_results_df[cols].sort_values(by='rank_test_accuracy', ascending=True)"
   ]
  },
  {
   "cell_type": "code",
   "execution_count": 90,
   "metadata": {},
   "outputs": [
    {
     "data": {
      "image/png": "[encoded data removed]",
      "text/plain": [
       "<Figure size 864x576 with 2 Axes>"
      ]
     },
     "metadata": {},
     "output_type": "display_data"
    }
   ],
   "source": [
    "y_predicted = grid_search.best_estimator_.predict(X_test_NORM)\n",
    "\n",
    "fig, ax = plt.subplots()\n",
    "fig.set_size_inches(12, 8)\n",
    "plt.suptitle('Confusion matrix for '+str(grid_search.best_estimator_)+' with undesampled negative label');\n",
    "plot_confusion_matrix(grid_search.best_estimator_, X_test_NORM,y_test, ax=ax);"
   ]
  },
  {
   "cell_type": "code",
   "execution_count": 91,
   "metadata": {},
   "outputs": [
    {
     "name": "stdout",
     "output_type": "stream",
     "text": [
      "Accuracy: 0.717239749497814\n",
      "Precision: 0.24846248462484624\n",
      "Recall: 0.735309412376495\n",
      "F1 Score: 0.37142106645652745\n"
     ]
    }
   ],
   "source": [
    "print('''Accuracy: {}\n",
    "Precision: {}\n",
    "Recall: {}\n",
    "F1 Score: {}'''.format(sklearn.metrics.accuracy_score(y_test, y_predicted),\n",
    "                       sklearn.metrics.precision_score(y_test, y_predicted), \n",
    "                       sklearn.metrics.recall_score(y_test, y_predicted),\n",
    "                       sklearn.metrics.f1_score(y_test, y_predicted)))"
   ]
  },
  {
   "cell_type": "code",
   "execution_count": 92,
   "metadata": {},
   "outputs": [],
   "source": [
    "coeffs = pd.DataFrame.from_dict({'predictor':features,\n",
    "                                 'coefficient':grid_search.best_estimator_.coef_.flatten(),\n",
    "                                 'abs_coeffient':abs(grid_search.best_estimator_.coef_.flatten())})\n",
    "coeffs.sort_values(by='abs_coeffient', inplace=True,ascending=False)"
   ]
  },
  {
   "cell_type": "code",
   "execution_count": 93,
   "metadata": {
    "scrolled": false
   },
   "outputs": [
    {
     "data": {
      "image/png": "[encoded data removed]",
      "text/plain": [
       "<Figure size 864x576 with 2 Axes>"
      ]
     },
     "metadata": {},
     "output_type": "display_data"
    }
   ],
   "source": [
    "sns.set(style=\"whitegrid\") \n",
    "fig, ax = plt.subplots(1,2)\n",
    "fig.set_size_inches(12, 8)\n",
    "plt.suptitle('''Top ten features for COVID19 death prediction {} \n",
    "                with undersampled negative label'''.format(grid_search.best_estimator_))\n",
    "\n",
    "plt.sca(ax[0])\n",
    "sns.barplot(x=\"abs_coeffient\", y=\"predictor\", data=coeffs[0:10],\n",
    "            palette=\"rocket\")\n",
    "ax[0].set_xlabel('abs(coefficient)')\n",
    "\n",
    "plt.sca(ax[1])\n",
    "sns.barplot(x=\"coefficient\", y=\"predictor\", data=coeffs[0:10],\n",
    "            palette=\"rocket\")\n",
    "plt.setp(ax[1],yticks=[]);"
   ]
  },
  {
   "cell_type": "markdown",
   "metadata": {},
   "source": [
    "## Generate synthetic samples (Synthetic Minority Oversampling Technique)\n",
    "\n",
    "SMOTE is a type of data augmentantion. This technique will create synthetic examples from the minority class (in our case the positive class --deaths--). The SMOTE technique uses a nearest neighbor algorithm on the training set to create synthetic examples of the undersampled class."
   ]
  },
  {
   "cell_type": "code",
   "execution_count": 94,
   "metadata": {},
   "outputs": [],
   "source": [
    "from imblearn.over_sampling import SMOTE\n",
    "from collections import Counter"
   ]
  },
  {
   "cell_type": "code",
   "execution_count": 95,
   "metadata": {},
   "outputs": [
    {
     "name": "stderr",
     "output_type": "stream",
     "text": [
      "C:\\Users\\robal\\Anaconda3\\lib\\site-packages\\sklearn\\utils\\deprecation.py:86: FutureWarning: Function safe_indexing is deprecated; safe_indexing is deprecated in version 0.22 and will be removed in version 0.24.\n",
      "  warnings.warn(msg, category=FutureWarning)\n"
     ]
    }
   ],
   "source": [
    "sm = SMOTE(random_state=0, ratio=1)\n",
    "X_train_sm, y_train_sm = sm.fit_sample(train_NORM.loc[:, features], train_NORM.loc[:, 'muertos'])\n",
    "X_train_sm = pd.DataFrame(X_train_sm)\n",
    "X_train_sm.columns = features"
   ]
  },
  {
   "cell_type": "code",
   "execution_count": 96,
   "metadata": {},
   "outputs": [
    {
     "name": "stdout",
     "output_type": "stream",
     "text": [
      "Original dataset shape Counter({0: 60209, 1: 7492})\n",
      "Resampled dataset shape Counter({0: 60209, 1: 60209})\n"
     ]
    }
   ],
   "source": [
    "print('Original dataset shape %s' % Counter(train_NORM.loc[:, 'muertos']))\n",
    "print('Resampled dataset shape %s' % Counter(y_train_sm))"
   ]
  },
  {
   "cell_type": "code",
   "execution_count": 97,
   "metadata": {},
   "outputs": [],
   "source": [
    "grid_search = GridSearchCV(estimator=LinearSVC(random_state=0, max_iter=10000, dual=False),\n",
    "                           param_grid=paramgrid, cv=10,\n",
    "                           return_train_score=True,\n",
    "                           scoring=['accuracy', 'precision', 'recall'], \n",
    "                           refit='accuracy')\n",
    "grid_search.fit(X_undersamp_train_NORM, y_undersamp_train)\n",
    "cv_results_df = pd.DataFrame(grid_search.cv_results_)"
   ]
  },
  {
   "cell_type": "markdown",
   "metadata": {},
   "source": [
    "#### Results when generating synthetic samples from minority class using SMOTE."
   ]
  },
  {
   "cell_type": "code",
   "execution_count": 98,
   "metadata": {
    "scrolled": false
   },
   "outputs": [
    {
     "data": {
      "text/html": [
       "<div>\n",
       "<style scoped>\n",
       "    .dataframe tbody tr th:only-of-type {\n",
       "        vertical-align: middle;\n",
       "    }\n",
       "\n",
       "    .dataframe tbody tr th {\n",
       "        vertical-align: top;\n",
       "    }\n",
       "\n",
       "    .dataframe thead th {\n",
       "        text-align: right;\n",
       "    }\n",
       "</style>\n",
       "<table border=\"1\" class=\"dataframe\">\n",
       "  <thead>\n",
       "    <tr style=\"text-align: right;\">\n",
       "      <th></th>\n",
       "      <th>params</th>\n",
       "      <th>mean_test_accuracy</th>\n",
       "      <th>rank_test_accuracy</th>\n",
       "      <th>mean_test_precision</th>\n",
       "      <th>rank_test_precision</th>\n",
       "      <th>mean_test_recall</th>\n",
       "      <th>rank_test_recall</th>\n",
       "    </tr>\n",
       "  </thead>\n",
       "  <tbody>\n",
       "    <tr>\n",
       "      <td>1</td>\n",
       "      <td>{'C': 0.1, 'penalty': 'l2'}</td>\n",
       "      <td>0.719234</td>\n",
       "      <td>1</td>\n",
       "      <td>0.717548</td>\n",
       "      <td>2</td>\n",
       "      <td>0.723440</td>\n",
       "      <td>2</td>\n",
       "    </tr>\n",
       "    <tr>\n",
       "      <td>2</td>\n",
       "      <td>{'C': 1, 'penalty': 'l1'}</td>\n",
       "      <td>0.719234</td>\n",
       "      <td>1</td>\n",
       "      <td>0.717607</td>\n",
       "      <td>1</td>\n",
       "      <td>0.723307</td>\n",
       "      <td>3</td>\n",
       "    </tr>\n",
       "    <tr>\n",
       "      <td>3</td>\n",
       "      <td>{'C': 1, 'penalty': 'l2'}</td>\n",
       "      <td>0.719101</td>\n",
       "      <td>3</td>\n",
       "      <td>0.717412</td>\n",
       "      <td>3</td>\n",
       "      <td>0.723307</td>\n",
       "      <td>3</td>\n",
       "    </tr>\n",
       "    <tr>\n",
       "      <td>0</td>\n",
       "      <td>{'C': 0.1, 'penalty': 'l1'}</td>\n",
       "      <td>0.719034</td>\n",
       "      <td>4</td>\n",
       "      <td>0.717117</td>\n",
       "      <td>8</td>\n",
       "      <td>0.723707</td>\n",
       "      <td>1</td>\n",
       "    </tr>\n",
       "    <tr>\n",
       "      <td>4</td>\n",
       "      <td>{'C': 10, 'penalty': 'l1'}</td>\n",
       "      <td>0.718967</td>\n",
       "      <td>5</td>\n",
       "      <td>0.717340</td>\n",
       "      <td>4</td>\n",
       "      <td>0.723040</td>\n",
       "      <td>5</td>\n",
       "    </tr>\n",
       "    <tr>\n",
       "      <td>5</td>\n",
       "      <td>{'C': 10, 'penalty': 'l2'}</td>\n",
       "      <td>0.718967</td>\n",
       "      <td>5</td>\n",
       "      <td>0.717340</td>\n",
       "      <td>4</td>\n",
       "      <td>0.723040</td>\n",
       "      <td>5</td>\n",
       "    </tr>\n",
       "    <tr>\n",
       "      <td>6</td>\n",
       "      <td>{'C': 100, 'penalty': 'l1'}</td>\n",
       "      <td>0.718967</td>\n",
       "      <td>5</td>\n",
       "      <td>0.717340</td>\n",
       "      <td>4</td>\n",
       "      <td>0.723040</td>\n",
       "      <td>5</td>\n",
       "    </tr>\n",
       "    <tr>\n",
       "      <td>7</td>\n",
       "      <td>{'C': 100, 'penalty': 'l2'}</td>\n",
       "      <td>0.718967</td>\n",
       "      <td>5</td>\n",
       "      <td>0.717340</td>\n",
       "      <td>4</td>\n",
       "      <td>0.723040</td>\n",
       "      <td>5</td>\n",
       "    </tr>\n",
       "  </tbody>\n",
       "</table>\n",
       "</div>"
      ],
      "text/plain": [
       "                        params  mean_test_accuracy  rank_test_accuracy  \\\n",
       "1  {'C': 0.1, 'penalty': 'l2'}            0.719234                   1   \n",
       "2    {'C': 1, 'penalty': 'l1'}            0.719234                   1   \n",
       "3    {'C': 1, 'penalty': 'l2'}            0.719101                   3   \n",
       "0  {'C': 0.1, 'penalty': 'l1'}            0.719034                   4   \n",
       "4   {'C': 10, 'penalty': 'l1'}            0.718967                   5   \n",
       "5   {'C': 10, 'penalty': 'l2'}            0.718967                   5   \n",
       "6  {'C': 100, 'penalty': 'l1'}            0.718967                   5   \n",
       "7  {'C': 100, 'penalty': 'l2'}            0.718967                   5   \n",
       "\n",
       "   mean_test_precision  rank_test_precision  mean_test_recall  \\\n",
       "1             0.717548                    2          0.723440   \n",
       "2             0.717607                    1          0.723307   \n",
       "3             0.717412                    3          0.723307   \n",
       "0             0.717117                    8          0.723707   \n",
       "4             0.717340                    4          0.723040   \n",
       "5             0.717340                    4          0.723040   \n",
       "6             0.717340                    4          0.723040   \n",
       "7             0.717340                    4          0.723040   \n",
       "\n",
       "   rank_test_recall  \n",
       "1                 2  \n",
       "2                 3  \n",
       "3                 3  \n",
       "0                 1  \n",
       "4                 5  \n",
       "5                 5  \n",
       "6                 5  \n",
       "7                 5  "
      ]
     },
     "execution_count": 98,
     "metadata": {},
     "output_type": "execute_result"
    }
   ],
   "source": [
    "cv_results_df[cols].sort_values(by='rank_test_accuracy', ascending=True)"
   ]
  },
  {
   "cell_type": "code",
   "execution_count": 99,
   "metadata": {
    "scrolled": false
   },
   "outputs": [
    {
     "data": {
      "image/png": "[encoded data removed]",
      "text/plain": [
       "<Figure size 864x576 with 2 Axes>"
      ]
     },
     "metadata": {},
     "output_type": "display_data"
    }
   ],
   "source": [
    "y_predicted = grid_search.best_estimator_.predict(X_test_NORM)\n",
    "\n",
    "fig, ax = plt.subplots()\n",
    "fig.set_size_inches(12, 8)\n",
    "plt.suptitle('Confusion matrix for '+str(grid_search.best_estimator_)+' with SMOTE');\n",
    "plot_confusion_matrix(grid_search.best_estimator_, X_test_NORM,y_test, ax=ax);"
   ]
  },
  {
   "cell_type": "code",
   "execution_count": 100,
   "metadata": {},
   "outputs": [
    {
     "name": "stdout",
     "output_type": "stream",
     "text": [
      "Accuracy: 0.717239749497814\n",
      "Precision: 0.24846248462484624\n",
      "Recall: 0.735309412376495\n",
      "F1 Score: 0.37142106645652745\n"
     ]
    }
   ],
   "source": [
    "print('''Accuracy: {}\n",
    "Precision: {}\n",
    "Recall: {}\n",
    "F1 Score: {}'''.format(sklearn.metrics.accuracy_score(y_test, y_predicted),\n",
    "                       sklearn.metrics.precision_score(y_test, y_predicted), \n",
    "                       sklearn.metrics.recall_score(y_test, y_predicted),\n",
    "                       sklearn.metrics.f1_score(y_test, y_predicted)))"
   ]
  },
  {
   "cell_type": "code",
   "execution_count": 101,
   "metadata": {},
   "outputs": [],
   "source": [
    "coeffs = pd.DataFrame.from_dict({'predictor':features,\n",
    "                                 'coefficient':grid_search.best_estimator_.coef_.flatten(),\n",
    "                                 'abs_coeffient':abs(grid_search.best_estimator_.coef_.flatten())})\n",
    "coeffs.sort_values(by='abs_coeffient', inplace=True,ascending=False)"
   ]
  },
  {
   "cell_type": "code",
   "execution_count": 113,
   "metadata": {
    "scrolled": false
   },
   "outputs": [
    {
     "data": {
      "image/png": "[encoded data removed]",
      "text/plain": [
       "<Figure size 864x576 with 2 Axes>"
      ]
     },
     "metadata": {},
     "output_type": "display_data"
    }
   ],
   "source": [
    "sns.set(style=\"whitegrid\") \n",
    "fig, ax = plt.subplots(1,2)\n",
    "fig.set_size_inches(12, 8)\n",
    "plt.suptitle('''Top ten features for COVID19 death prediction {} \n",
    "                generating synthetic data SMOTE'''.format(grid_search.best_estimator_))\n",
    "\n",
    "plt.sca(ax[0])\n",
    "sns.barplot(x=\"abs_coeffient\", y=\"predictor\", data=coeffs[0:10],\n",
    "            palette=\"cubehelix\")\n",
    "ax[0].set_xlabel('abs(coefficient)')\n",
    "\n",
    "plt.sca(ax[1])\n",
    "sns.barplot(x=\"coefficient\", y=\"predictor\", data=coeffs[0:10],\n",
    "            palette=\"cubehelix\")\n",
    "plt.setp(ax[1],yticks=[]);"
   ]
  },
  {
   "cell_type": "markdown",
   "metadata": {},
   "source": [
    "The past two SVM models trained (undersampling and using SMOTE) show similar feature importance. Not suprisingly age and comorbidities such as diabetes, immunosupression, obesity and hypertension are good predictors of whether or not COVID pacients will die. What is surprising is that the chronic lung disease asma while a good predictor it displays a negative relationship with covid mortality. That is people with asma tend to die at lower rates when infected that others. This result, while surprising, is not novel: https://www.nytimes.com/2020/04/16/health/coronavirus-asthma-risk.html"
   ]
  },
  {
   "cell_type": "markdown",
   "metadata": {},
   "source": [
    "# Decision Trees"
   ]
  },
  {
   "cell_type": "markdown",
   "metadata": {},
   "source": [
    "## Upsampling"
   ]
  },
  {
   "cell_type": "code",
   "execution_count": 110,
   "metadata": {
    "scrolled": false
   },
   "outputs": [
    {
     "name": "stderr",
     "output_type": "stream",
     "text": [
      "C:\\Users\\robal\\Anaconda3\\lib\\site-packages\\sklearn\\metrics\\_classification.py:1221: UndefinedMetricWarning: Precision is ill-defined and being set to 0.0 due to no predicted samples. Use `zero_division` parameter to control this behavior.\n",
      "  _warn_prf(average, modifier, msg_start, len(result))\n",
      "C:\\Users\\robal\\Anaconda3\\lib\\site-packages\\sklearn\\metrics\\_classification.py:1221: UndefinedMetricWarning: Precision is ill-defined and being set to 0.0 due to no predicted samples. Use `zero_division` parameter to control this behavior.\n",
      "  _warn_prf(average, modifier, msg_start, len(result))\n",
      "C:\\Users\\robal\\Anaconda3\\lib\\site-packages\\sklearn\\metrics\\_classification.py:1221: UndefinedMetricWarning: Precision is ill-defined and being set to 0.0 due to no predicted samples. Use `zero_division` parameter to control this behavior.\n",
      "  _warn_prf(average, modifier, msg_start, len(result))\n",
      "C:\\Users\\robal\\Anaconda3\\lib\\site-packages\\sklearn\\metrics\\_classification.py:1221: UndefinedMetricWarning: Precision is ill-defined and being set to 0.0 due to no predicted samples. Use `zero_division` parameter to control this behavior.\n",
      "  _warn_prf(average, modifier, msg_start, len(result))\n",
      "C:\\Users\\robal\\Anaconda3\\lib\\site-packages\\sklearn\\metrics\\_classification.py:1221: UndefinedMetricWarning: Precision is ill-defined and being set to 0.0 due to no predicted samples. Use `zero_division` parameter to control this behavior.\n",
      "  _warn_prf(average, modifier, msg_start, len(result))\n",
      "C:\\Users\\robal\\Anaconda3\\lib\\site-packages\\sklearn\\metrics\\_classification.py:1221: UndefinedMetricWarning: Precision is ill-defined and being set to 0.0 due to no predicted samples. Use `zero_division` parameter to control this behavior.\n",
      "  _warn_prf(average, modifier, msg_start, len(result))\n"
     ]
    },
    {
     "data": {
      "text/plain": [
       "GridSearchCV(cv=10, estimator=DecisionTreeClassifier(),\n",
       "             param_grid={'criterion': ['gini', 'entropy'],\n",
       "                         'max_depth': [1, 3, 5],\n",
       "                         'min_samples_split': [2, 5, 10]},\n",
       "             refit='accuracy', return_train_score=True,\n",
       "             scoring=['accuracy', 'precision', 'recall'])"
      ]
     },
     "execution_count": 110,
     "metadata": {},
     "output_type": "execute_result"
    }
   ],
   "source": [
    "from sklearn.tree import DecisionTreeClassifier\n",
    "paramgrid = {'criterion':['gini','entropy'], \n",
    "             'max_depth':[1,3,5],\n",
    "             'min_samples_split':[2,5,10]}\n",
    "grid_search_dt = GridSearchCV(estimator=DecisionTreeClassifier(), param_grid=paramgrid, cv=10 ,\n",
    "                             return_train_score=True,\n",
    "                             scoring=['accuracy', 'precision', 'recall'], \n",
    "                             refit='accuracy')\n",
    "grid_search_dt.fit(X_upsamp_train_NORM, y_upsamp_train)"
   ]
  },
  {
   "cell_type": "code",
   "execution_count": 112,
   "metadata": {
    "scrolled": false
   },
   "outputs": [
    {
     "name": "stdout",
     "output_type": "stream",
     "text": [
      "Accuracy: 0.7939855843081649\n",
      "Precision: 0.28409718387631144\n",
      "Recall: 0.5351014040561622\n",
      "F1 Score: 0.3711451758340848\n"
     ]
    }
   ],
   "source": [
    "y_predicted = grid_search_dt.best_estimator_.predict(X_test_NORM)\n",
    "print('''Accuracy: {}\n",
    "Precision: {}\n",
    "Recall: {}\n",
    "F1 Score: {}'''.format(sklearn.metrics.accuracy_score(y_test, y_predicted),\n",
    "                       sklearn.metrics.precision_score(y_test, y_predicted), \n",
    "                       sklearn.metrics.recall_score(y_test, y_predicted),\n",
    "                       sklearn.metrics.f1_score(y_test, y_predicted)))"
   ]
  },
  {
   "cell_type": "markdown",
   "metadata": {},
   "source": [
    "## Undersampling"
   ]
  },
  {
   "cell_type": "code",
   "execution_count": 106,
   "metadata": {},
   "outputs": [],
   "source": [
    "grid_search_dt = GridSearchCV(estimator=DecisionTreeClassifier(), param_grid=paramgrid, cv=10 ,\n",
    "                             return_train_score=True,\n",
    "                             scoring=['accuracy', 'precision', 'recall'], \n",
    "                             refit='accuracy')\n",
    "grid_search_dt.fit(X_undersamp_train_NORM, y_undersamp_train)"
   ]
  },
  {
   "cell_type": "code",
   "execution_count": 107,
   "metadata": {},
   "outputs": [
    {
     "name": "stdout",
     "output_type": "stream",
     "text": [
      "Accuracy: 0.65284178187404\n",
      "Precision: 0.21824661439771917\n",
      "Recall: 0.7961518460738429\n",
      "F1 Score: 0.34258223316178116\n"
     ]
    }
   ],
   "source": [
    "y_predicted = grid_search_dt.best_estimator_.predict(X_test_NORM)\n",
    "print('''Accuracy: {}\n",
    "Precision: {}\n",
    "Recall: {}\n",
    "F1 Score: {}'''.format(sklearn.metrics.accuracy_score(y_test, y_predicted),\n",
    "                       sklearn.metrics.precision_score(y_test, y_predicted), \n",
    "                       sklearn.metrics.recall_score(y_test, y_predicted),\n",
    "                       sklearn.metrics.f1_score(y_test, y_predicted)))"
   ]
  },
  {
   "cell_type": "markdown",
   "metadata": {},
   "source": [
    "## Generating synthetic samples (SMOTE)"
   ]
  },
  {
   "cell_type": "code",
   "execution_count": 108,
   "metadata": {},
   "outputs": [],
   "source": [
    "grid_search_dt = GridSearchCV(estimator=DecisionTreeClassifier(), param_grid=paramgrid, cv=10 ,\n",
    "                             return_train_score=True,\n",
    "                             scoring=['accuracy', 'precision', 'recall'], \n",
    "                             refit='accuracy')\n",
    "grid_search_dt.fit(X_train_sm, y_train_sm)\n",
    "cv_results_df_dt = pd.DataFrame(grid_search.cv_results_)"
   ]
  },
  {
   "cell_type": "code",
   "execution_count": 109,
   "metadata": {},
   "outputs": [
    {
     "name": "stdout",
     "output_type": "stream",
     "text": [
      "Accuracy: 0.6690889755405884\n",
      "Precision: 0.2218693284936479\n",
      "Recall: 0.7628705148205929\n",
      "F1 Score: 0.3437609841827768\n"
     ]
    }
   ],
   "source": [
    "y_predicted = grid_search_dt.best_estimator_.predict(X_test_NORM)\n",
    "print('''Accuracy: {}\n",
    "Precision: {}\n",
    "Recall: {}\n",
    "F1 Score: {}'''.format(sklearn.metrics.accuracy_score(y_test, y_predicted),\n",
    "                       sklearn.metrics.precision_score(y_test, y_predicted), \n",
    "                       sklearn.metrics.recall_score(y_test, y_predicted),\n",
    "                       sklearn.metrics.f1_score(y_test, y_predicted)))"
   ]
  },
  {
   "cell_type": "markdown",
   "metadata": {},
   "source": [
    "By using the same three methods for dealing with imbalanced data (upsampling, undersampling and SMOTE) we trained three decision trees above using cross validation. Compared to the support vector machine the decision trees perfomed much worse with all three models trained having very large trade off between precision and recall, and over all low f1-scores. Below we used the model with highest accuracy (DT using upsampling), to see what the most important predictors where."
   ]
  },
  {
   "cell_type": "code",
   "execution_count": 119,
   "metadata": {},
   "outputs": [
    {
     "data": {
      "text/plain": [
       "array([0.84377956, 0.1044358 , 0.00365653, 0.        , 0.0036098 ,\n",
       "       0.        , 0.        , 0.01353273, 0.        , 0.00792718,\n",
       "       0.01605443, 0.00265633, 0.00434764])"
      ]
     },
     "execution_count": 119,
     "metadata": {},
     "output_type": "execute_result"
    }
   ],
   "source": [
    "grid_search_dt.best_estimator_.feature_importances_"
   ]
  },
  {
   "cell_type": "code",
   "execution_count": 125,
   "metadata": {
    "scrolled": false
   },
   "outputs": [
    {
     "data": {
      "text/plain": [
       "Text(0.5, 0, 'Predictor importance')"
      ]
     },
     "execution_count": 125,
     "metadata": {},
     "output_type": "execute_result"
    },
    {
     "data": {
      "image/png": "[encoded data removed]",
      "text/plain": [
       "<Figure size 864x576 with 1 Axes>"
      ]
     },
     "metadata": {},
     "output_type": "display_data"
    }
   ],
   "source": [
    "sns.set(style=\"whitegrid\") \n",
    "fig, ax = plt.subplots()\n",
    "fig.set_size_inches(12, 8)\n",
    "plt.suptitle('''Top ten features for COVID19 death prediction {} \n",
    "                with undersampled negative label'''.format(grid_search_dt.best_estimator_))\n",
    "importance = pd.DataFrame.from_dict({'predictor':features,\n",
    "                                     'importance':grid_search_dt.best_estimator_.feature_importances_.flatten()})\n",
    "\n",
    "sns.barplot(x='importance', y='predictor', data=importance.sort_values(by=\"importance\", ascending=False)[0:10],\n",
    "            palette=\"cubehelix\")\n",
    "ax.set_xlabel('Predictor importance')\n"
   ]
  },
  {
   "cell_type": "markdown",
   "metadata": {},
   "source": [
    "# SMOTE DONE RIGHT\n",
    "In the previous models we upsampled, undersampled and used smote on our training set before we started cross validation. As it turns out, many people argue that the correct way of applying these re-balancing techniques is to do them at each cross validation fold. https://medium.com/lumiata/cross-validation-for-imbalanced-datasets-9d203ba47e8\n",
    "Below we apply SMOTE on each CV fold for both support vectore machine and decision tree classifiers.\n"
   ]
  },
  {
   "cell_type": "markdown",
   "metadata": {},
   "source": [
    "### Support Vector Machine  (SMOTE during each CV fold)\n",
    "Predicting deaths among positive covid cases."
   ]
  },
  {
   "cell_type": "code",
   "execution_count": 49,
   "metadata": {},
   "outputs": [],
   "source": [
    "# import warnings filter\n",
    "from warnings import simplefilter\n",
    "# ignore all future warnings\n",
    "simplefilter(action='ignore', category=FutureWarning)"
   ]
  },
  {
   "cell_type": "code",
   "execution_count": 56,
   "metadata": {
    "scrolled": true
   },
   "outputs": [
    {
     "data": {
      "text/html": [
       "<div>\n",
       "<style scoped>\n",
       "    .dataframe tbody tr th:only-of-type {\n",
       "        vertical-align: middle;\n",
       "    }\n",
       "\n",
       "    .dataframe tbody tr th {\n",
       "        vertical-align: top;\n",
       "    }\n",
       "\n",
       "    .dataframe thead th {\n",
       "        text-align: right;\n",
       "    }\n",
       "</style>\n",
       "<table border=\"1\" class=\"dataframe\">\n",
       "  <thead>\n",
       "    <tr style=\"text-align: right;\">\n",
       "      <th></th>\n",
       "      <th>params</th>\n",
       "      <th>mean_test_accuracy</th>\n",
       "      <th>mean_test_precision</th>\n",
       "      <th>mean_test_recall</th>\n",
       "    </tr>\n",
       "  </thead>\n",
       "  <tbody>\n",
       "    <tr>\n",
       "      <td>0</td>\n",
       "      <td>{'linearsvc__C': 0.1, 'linearsvc__penalty': 'l1'}</td>\n",
       "      <td>0.718405</td>\n",
       "      <td>0.240473</td>\n",
       "      <td>0.724777</td>\n",
       "    </tr>\n",
       "    <tr>\n",
       "      <td>1</td>\n",
       "      <td>{'linearsvc__C': 0.1, 'linearsvc__penalty': 'l2'}</td>\n",
       "      <td>0.718369</td>\n",
       "      <td>0.240439</td>\n",
       "      <td>0.724735</td>\n",
       "    </tr>\n",
       "    <tr>\n",
       "      <td>2</td>\n",
       "      <td>{'linearsvc__C': 1, 'linearsvc__penalty': 'l1'}</td>\n",
       "      <td>0.718387</td>\n",
       "      <td>0.240454</td>\n",
       "      <td>0.724735</td>\n",
       "    </tr>\n",
       "    <tr>\n",
       "      <td>3</td>\n",
       "      <td>{'linearsvc__C': 1, 'linearsvc__penalty': 'l2'}</td>\n",
       "      <td>0.718373</td>\n",
       "      <td>0.240443</td>\n",
       "      <td>0.724735</td>\n",
       "    </tr>\n",
       "    <tr>\n",
       "      <td>4</td>\n",
       "      <td>{'linearsvc__C': 10, 'linearsvc__penalty': 'l1'}</td>\n",
       "      <td>0.718387</td>\n",
       "      <td>0.240454</td>\n",
       "      <td>0.724735</td>\n",
       "    </tr>\n",
       "    <tr>\n",
       "      <td>5</td>\n",
       "      <td>{'linearsvc__C': 10, 'linearsvc__penalty': 'l2'}</td>\n",
       "      <td>0.718378</td>\n",
       "      <td>0.240454</td>\n",
       "      <td>0.724777</td>\n",
       "    </tr>\n",
       "    <tr>\n",
       "      <td>6</td>\n",
       "      <td>{'linearsvc__C': 100, 'linearsvc__penalty': 'l1'}</td>\n",
       "      <td>0.718387</td>\n",
       "      <td>0.240454</td>\n",
       "      <td>0.724735</td>\n",
       "    </tr>\n",
       "    <tr>\n",
       "      <td>7</td>\n",
       "      <td>{'linearsvc__C': 100, 'linearsvc__penalty': 'l2'}</td>\n",
       "      <td>0.718378</td>\n",
       "      <td>0.240454</td>\n",
       "      <td>0.724777</td>\n",
       "    </tr>\n",
       "  </tbody>\n",
       "</table>\n",
       "</div>"
      ],
      "text/plain": [
       "                                              params  mean_test_accuracy  \\\n",
       "0  {'linearsvc__C': 0.1, 'linearsvc__penalty': 'l1'}            0.718405   \n",
       "1  {'linearsvc__C': 0.1, 'linearsvc__penalty': 'l2'}            0.718369   \n",
       "2    {'linearsvc__C': 1, 'linearsvc__penalty': 'l1'}            0.718387   \n",
       "3    {'linearsvc__C': 1, 'linearsvc__penalty': 'l2'}            0.718373   \n",
       "4   {'linearsvc__C': 10, 'linearsvc__penalty': 'l1'}            0.718387   \n",
       "5   {'linearsvc__C': 10, 'linearsvc__penalty': 'l2'}            0.718378   \n",
       "6  {'linearsvc__C': 100, 'linearsvc__penalty': 'l1'}            0.718387   \n",
       "7  {'linearsvc__C': 100, 'linearsvc__penalty': 'l2'}            0.718378   \n",
       "\n",
       "   mean_test_precision  mean_test_recall  \n",
       "0             0.240473          0.724777  \n",
       "1             0.240439          0.724735  \n",
       "2             0.240454          0.724735  \n",
       "3             0.240443          0.724735  \n",
       "4             0.240454          0.724735  \n",
       "5             0.240454          0.724777  \n",
       "6             0.240454          0.724735  \n",
       "7             0.240454          0.724777  "
      ]
     },
     "execution_count": 56,
     "metadata": {},
     "output_type": "execute_result"
    }
   ],
   "source": [
    "from imblearn.pipeline import Pipeline, make_pipeline\n",
    "from imblearn.over_sampling import SMOTE\n",
    "from sklearn.model_selection import RepeatedStratifiedKFold\n",
    "from sklearn.model_selection import KFold\n",
    "from sklearn.model_selection import GridSearchCV\n",
    "outcome = ['muertos']\n",
    "\n",
    "pipeline = make_pipeline((SMOTE(random_state=0)), LinearSVC(random_state=0, max_iter=10000, dual=False))\n",
    "kf = RepeatedStratifiedKFold(n_splits=10, n_repeats=3, random_state=1)\n",
    "\n",
    "#model\n",
    "params = {'linearsvc__penalty': ['l1','l2'],\n",
    "          'linearsvc__C': [0.1, 1, 10, 100]}\n",
    "\n",
    "grid = GridSearchCV(estimator=pipeline,\n",
    "                    param_grid=params,\n",
    "                    cv=kf,\n",
    "                    return_train_score=True,\n",
    "                    scoring= ['accuracy', 'precision', 'recall'],\n",
    "                    refit = 'accuracy',\n",
    "                    iid = True)\n",
    "\n",
    "grid.fit(train_NORM.loc[:, features], train_NORM[outcome].values.ravel())\n",
    "SVM_results = pd.DataFrame(grid.cv_results_)\n",
    "SVM_results[['params', 'mean_test_accuracy', 'mean_test_precision', 'mean_test_recall']]"
   ]
  },
  {
   "cell_type": "code",
   "execution_count": 60,
   "metadata": {},
   "outputs": [],
   "source": [
    "best_model_d_pred = grid.best_estimator_.get_params()['steps'][1][1]"
   ]
  },
  {
   "cell_type": "code",
   "execution_count": 96,
   "metadata": {},
   "outputs": [
    {
     "name": "stdout",
     "output_type": "stream",
     "text": [
      "Accuracy: 0.7119616169414879\n",
      "Precision: 0.23437244981230618\n",
      "Recall: 0.7296747967479674\n",
      "F1 Score: 0.3547869054972205\n"
     ]
    }
   ],
   "source": [
    "y_predicted = best_model_d_pred.predict(X_test_NORM)\n",
    "print('''Accuracy: {}\n",
    "Precision: {}\n",
    "Recall: {}\n",
    "F1 Score: {}'''.format(sklearn.metrics.accuracy_score(y_test, y_predicted),\n",
    "                       sklearn.metrics.precision_score(y_test, y_predicted), \n",
    "                       sklearn.metrics.recall_score(y_test, y_predicted),\n",
    "                       sklearn.metrics.f1_score(y_test, y_predicted)))"
   ]
  },
  {
   "cell_type": "markdown",
   "metadata": {},
   "source": [
    "Predicting hospitalizations"
   ]
  },
  {
   "cell_type": "code",
   "execution_count": 61,
   "metadata": {
    "scrolled": true
   },
   "outputs": [
    {
     "data": {
      "text/html": [
       "<div>\n",
       "<style scoped>\n",
       "    .dataframe tbody tr th:only-of-type {\n",
       "        vertical-align: middle;\n",
       "    }\n",
       "\n",
       "    .dataframe tbody tr th {\n",
       "        vertical-align: top;\n",
       "    }\n",
       "\n",
       "    .dataframe thead th {\n",
       "        text-align: right;\n",
       "    }\n",
       "</style>\n",
       "<table border=\"1\" class=\"dataframe\">\n",
       "  <thead>\n",
       "    <tr style=\"text-align: right;\">\n",
       "      <th></th>\n",
       "      <th>params</th>\n",
       "      <th>mean_test_accuracy</th>\n",
       "      <th>mean_test_precision</th>\n",
       "      <th>mean_test_recall</th>\n",
       "    </tr>\n",
       "  </thead>\n",
       "  <tbody>\n",
       "    <tr>\n",
       "      <td>0</td>\n",
       "      <td>{'linearsvc__C': 0.1, 'linearsvc__penalty': 'l1'}</td>\n",
       "      <td>0.704287</td>\n",
       "      <td>0.565502</td>\n",
       "      <td>0.667994</td>\n",
       "    </tr>\n",
       "    <tr>\n",
       "      <td>1</td>\n",
       "      <td>{'linearsvc__C': 0.1, 'linearsvc__penalty': 'l2'}</td>\n",
       "      <td>0.704292</td>\n",
       "      <td>0.565515</td>\n",
       "      <td>0.667928</td>\n",
       "    </tr>\n",
       "    <tr>\n",
       "      <td>2</td>\n",
       "      <td>{'linearsvc__C': 1, 'linearsvc__penalty': 'l1'}</td>\n",
       "      <td>0.704292</td>\n",
       "      <td>0.565517</td>\n",
       "      <td>0.667915</td>\n",
       "    </tr>\n",
       "    <tr>\n",
       "      <td>3</td>\n",
       "      <td>{'linearsvc__C': 1, 'linearsvc__penalty': 'l2'}</td>\n",
       "      <td>0.704269</td>\n",
       "      <td>0.565488</td>\n",
       "      <td>0.667889</td>\n",
       "    </tr>\n",
       "    <tr>\n",
       "      <td>4</td>\n",
       "      <td>{'linearsvc__C': 10, 'linearsvc__penalty': 'l1'}</td>\n",
       "      <td>0.704274</td>\n",
       "      <td>0.565496</td>\n",
       "      <td>0.667875</td>\n",
       "    </tr>\n",
       "    <tr>\n",
       "      <td>5</td>\n",
       "      <td>{'linearsvc__C': 10, 'linearsvc__penalty': 'l2'}</td>\n",
       "      <td>0.704264</td>\n",
       "      <td>0.565483</td>\n",
       "      <td>0.667875</td>\n",
       "    </tr>\n",
       "    <tr>\n",
       "      <td>6</td>\n",
       "      <td>{'linearsvc__C': 100, 'linearsvc__penalty': 'l1'}</td>\n",
       "      <td>0.704274</td>\n",
       "      <td>0.565496</td>\n",
       "      <td>0.667875</td>\n",
       "    </tr>\n",
       "    <tr>\n",
       "      <td>7</td>\n",
       "      <td>{'linearsvc__C': 100, 'linearsvc__penalty': 'l2'}</td>\n",
       "      <td>0.704264</td>\n",
       "      <td>0.565483</td>\n",
       "      <td>0.667875</td>\n",
       "    </tr>\n",
       "  </tbody>\n",
       "</table>\n",
       "</div>"
      ],
      "text/plain": [
       "                                              params  mean_test_accuracy  \\\n",
       "0  {'linearsvc__C': 0.1, 'linearsvc__penalty': 'l1'}            0.704287   \n",
       "1  {'linearsvc__C': 0.1, 'linearsvc__penalty': 'l2'}            0.704292   \n",
       "2    {'linearsvc__C': 1, 'linearsvc__penalty': 'l1'}            0.704292   \n",
       "3    {'linearsvc__C': 1, 'linearsvc__penalty': 'l2'}            0.704269   \n",
       "4   {'linearsvc__C': 10, 'linearsvc__penalty': 'l1'}            0.704274   \n",
       "5   {'linearsvc__C': 10, 'linearsvc__penalty': 'l2'}            0.704264   \n",
       "6  {'linearsvc__C': 100, 'linearsvc__penalty': 'l1'}            0.704274   \n",
       "7  {'linearsvc__C': 100, 'linearsvc__penalty': 'l2'}            0.704264   \n",
       "\n",
       "   mean_test_precision  mean_test_recall  \n",
       "0             0.565502          0.667994  \n",
       "1             0.565515          0.667928  \n",
       "2             0.565517          0.667915  \n",
       "3             0.565488          0.667889  \n",
       "4             0.565496          0.667875  \n",
       "5             0.565483          0.667875  \n",
       "6             0.565496          0.667875  \n",
       "7             0.565483          0.667875  "
      ]
     },
     "execution_count": 61,
     "metadata": {},
     "output_type": "execute_result"
    }
   ],
   "source": [
    "pipeline = make_pipeline((SMOTE(random_state=0)), LinearSVC(random_state=0, max_iter=10000, dual=False))\n",
    "kf = RepeatedStratifiedKFold(n_splits=10, n_repeats=3, random_state=1)\n",
    "\n",
    "#model\n",
    "params = {'linearsvc__penalty': ['l1','l2'],\n",
    "          'linearsvc__C': [0.1, 1, 10, 100]}\n",
    "\n",
    "grid = GridSearchCV(estimator=pipeline,\n",
    "                    param_grid=params,\n",
    "                    cv=kf,\n",
    "                    return_train_score=True,\n",
    "                    scoring= ['accuracy', 'precision', 'recall'],\n",
    "                    refit = 'accuracy',\n",
    "                    iid = True)\n",
    "\n",
    "grid.fit(train_NORM.loc[:, features], train_NORM['hospitalizado'].values.ravel())\n",
    "SVM_results = pd.DataFrame(grid.cv_results_)\n",
    "best_model_hosp_pred = grid.best_estimator_.get_params()['steps'][1][1]\n",
    "SVM_results[['params', 'mean_test_accuracy', 'mean_test_precision', 'mean_test_recall']]"
   ]
  },
  {
   "cell_type": "code",
   "execution_count": 98,
   "metadata": {},
   "outputs": [
    {
     "name": "stdout",
     "output_type": "stream",
     "text": [
      "Accuracy: 0.6499751833673413\n",
      "Precision: 0.21141426123632528\n",
      "Recall: 0.8150406504065041\n",
      "F1 Score: 0.33574045002616426\n"
     ]
    }
   ],
   "source": [
    "y_predicted = best_model_hosp_pred.predict(X_test_NORM)\n",
    "print('''Accuracy: {}\n",
    "Precision: {}\n",
    "Recall: {}\n",
    "F1 Score: {}'''.format(sklearn.metrics.accuracy_score(y_test, y_predicted),\n",
    "                       sklearn.metrics.precision_score(y_test, y_predicted), \n",
    "                       sklearn.metrics.recall_score(y_test, y_predicted),\n",
    "                       sklearn.metrics.f1_score(y_test, y_predicted)))"
   ]
  },
  {
   "cell_type": "code",
   "execution_count": 73,
   "metadata": {},
   "outputs": [],
   "source": [
    "coeffs_d = pd.DataFrame.from_dict({'predictor':features,\n",
    "                                  'coefficient':best_model_d_pred.coef_.flatten(),\n",
    "                                  'abs_coeffient':abs(best_model_d_pred.coef_.flatten()),\n",
    "                                  'outcome':['Death' for x in range(len(features))]})\n",
    "coeffs_d.sort_values(by='abs_coeffient', inplace=True,ascending=False)\n",
    "\n",
    "coeffs_h = pd.DataFrame.from_dict({'predictor':features,\n",
    "                                  'coefficient':best_model_hosp_pred.coef_.flatten(),\n",
    "                                  'abs_coeffient':abs(best_model_hosp_pred.coef_.flatten()),\n",
    "                                  'outcome':['Hospitalizations' for x in range(len(features))]})\n",
    "coeffs_h.sort_values(by='abs_coeffient', inplace=True,ascending=False)"
   ]
  },
  {
   "cell_type": "markdown",
   "metadata": {},
   "source": [
    "### Putting both predictive models together"
   ]
  },
  {
   "cell_type": "code",
   "execution_count": 112,
   "metadata": {},
   "outputs": [
    {
     "data": {
      "image/png": "[encoded data removed]",
      "text/plain": [
       "<Figure size 864x864 with 4 Axes>"
      ]
     },
     "metadata": {},
     "output_type": "display_data"
    }
   ],
   "source": [
    "sns.set(style=\"whitegrid\") \n",
    "fig, ax = plt.subplots(2,2)\n",
    "fig.set_size_inches(12, 12)\n",
    "plt.suptitle('''Feature importance for COVID19 deaths and hospitalizations prediction using SVM classifier\n",
    "                generating synthetic data (SMOTE) per eack fold in CV''')\n",
    "plt.sca(ax[0,0])\n",
    "sns.barplot(x=\"abs_coeffient\", y=\"predictor\", data=coeffs_d,\n",
    "            palette=\"cubehelix\")\n",
    "ax[0,0].set_xlabel('abs(coefficient)')\n",
    "ax[0,0].set_title('Outcome: Death')\n",
    "\n",
    "plt.sca(ax[0,1])\n",
    "sns.barplot(x=\"coefficient\", y=\"predictor\", data=coeffs_d,\n",
    "            palette=\"cubehelix\")\n",
    "plt.setp(ax[0,1],yticks=[]);\n",
    "ax[0,1].set_title('Outcome: Death')\n",
    "\n",
    "\n",
    "plt.sca(ax[1,0])\n",
    "sns.barplot(x=\"abs_coeffient\", y=\"predictor\", data=coeffs_h,\n",
    "            palette=\"cubehelix\")\n",
    "ax[1,0].set_xlabel('abs(coefficient)')\n",
    "ax[1,0].set_title('Outcome: Hospitalizations')\n",
    "\n",
    "plt.sca(ax[1,1])\n",
    "sns.barplot(x=\"coefficient\", y=\"predictor\", data=coeffs_h,\n",
    "            palette=\"cubehelix\")\n",
    "plt.setp(ax[1,1],yticks=[]);\n",
    "ax[1,1].set_title('Outcome: Hospitalizations');"
   ]
  },
  {
   "cell_type": "markdown",
   "metadata": {},
   "source": [
    "### Decision Tree (SMOTE during each CV fold)\n",
    "Predicting deaths among positive covid cases."
   ]
  },
  {
   "cell_type": "code",
   "execution_count": 106,
   "metadata": {
    "scrolled": false
   },
   "outputs": [
    {
     "data": {
      "text/html": [
       "<div>\n",
       "<style scoped>\n",
       "    .dataframe tbody tr th:only-of-type {\n",
       "        vertical-align: middle;\n",
       "    }\n",
       "\n",
       "    .dataframe tbody tr th {\n",
       "        vertical-align: top;\n",
       "    }\n",
       "\n",
       "    .dataframe thead th {\n",
       "        text-align: right;\n",
       "    }\n",
       "</style>\n",
       "<table border=\"1\" class=\"dataframe\">\n",
       "  <thead>\n",
       "    <tr style=\"text-align: right;\">\n",
       "      <th></th>\n",
       "      <th>params</th>\n",
       "      <th>mean_test_accuracy</th>\n",
       "      <th>mean_test_precision</th>\n",
       "      <th>mean_test_recall</th>\n",
       "    </tr>\n",
       "  </thead>\n",
       "  <tbody>\n",
       "    <tr>\n",
       "      <td>0</td>\n",
       "      <td>{'decisiontreeclassifier__criterion': 'gini', ...</td>\n",
       "      <td>0.647760</td>\n",
       "      <td>0.207803</td>\n",
       "      <td>0.782844</td>\n",
       "    </tr>\n",
       "    <tr>\n",
       "      <td>1</td>\n",
       "      <td>{'decisiontreeclassifier__criterion': 'gini', ...</td>\n",
       "      <td>0.647760</td>\n",
       "      <td>0.207803</td>\n",
       "      <td>0.782844</td>\n",
       "    </tr>\n",
       "    <tr>\n",
       "      <td>2</td>\n",
       "      <td>{'decisiontreeclassifier__criterion': 'gini', ...</td>\n",
       "      <td>0.647760</td>\n",
       "      <td>0.207803</td>\n",
       "      <td>0.782844</td>\n",
       "    </tr>\n",
       "    <tr>\n",
       "      <td>3</td>\n",
       "      <td>{'decisiontreeclassifier__criterion': 'gini', ...</td>\n",
       "      <td>0.647608</td>\n",
       "      <td>0.212083</td>\n",
       "      <td>0.804196</td>\n",
       "    </tr>\n",
       "    <tr>\n",
       "      <td>4</td>\n",
       "      <td>{'decisiontreeclassifier__criterion': 'gini', ...</td>\n",
       "      <td>0.647608</td>\n",
       "      <td>0.212083</td>\n",
       "      <td>0.804196</td>\n",
       "    </tr>\n",
       "    <tr>\n",
       "      <td>5</td>\n",
       "      <td>{'decisiontreeclassifier__criterion': 'gini', ...</td>\n",
       "      <td>0.647608</td>\n",
       "      <td>0.212083</td>\n",
       "      <td>0.804196</td>\n",
       "    </tr>\n",
       "    <tr>\n",
       "      <td>6</td>\n",
       "      <td>{'decisiontreeclassifier__criterion': 'gini', ...</td>\n",
       "      <td>0.661110</td>\n",
       "      <td>0.212845</td>\n",
       "      <td>0.773257</td>\n",
       "    </tr>\n",
       "    <tr>\n",
       "      <td>7</td>\n",
       "      <td>{'decisiontreeclassifier__criterion': 'gini', ...</td>\n",
       "      <td>0.661110</td>\n",
       "      <td>0.212845</td>\n",
       "      <td>0.773257</td>\n",
       "    </tr>\n",
       "    <tr>\n",
       "      <td>8</td>\n",
       "      <td>{'decisiontreeclassifier__criterion': 'gini', ...</td>\n",
       "      <td>0.661110</td>\n",
       "      <td>0.212845</td>\n",
       "      <td>0.773257</td>\n",
       "    </tr>\n",
       "    <tr>\n",
       "      <td>9</td>\n",
       "      <td>{'decisiontreeclassifier__criterion': 'entropy...</td>\n",
       "      <td>0.615171</td>\n",
       "      <td>0.197603</td>\n",
       "      <td>0.814365</td>\n",
       "    </tr>\n",
       "    <tr>\n",
       "      <td>10</td>\n",
       "      <td>{'decisiontreeclassifier__criterion': 'entropy...</td>\n",
       "      <td>0.615171</td>\n",
       "      <td>0.197603</td>\n",
       "      <td>0.814365</td>\n",
       "    </tr>\n",
       "    <tr>\n",
       "      <td>11</td>\n",
       "      <td>{'decisiontreeclassifier__criterion': 'entropy...</td>\n",
       "      <td>0.615171</td>\n",
       "      <td>0.197603</td>\n",
       "      <td>0.814365</td>\n",
       "    </tr>\n",
       "    <tr>\n",
       "      <td>12</td>\n",
       "      <td>{'decisiontreeclassifier__criterion': 'entropy...</td>\n",
       "      <td>0.620048</td>\n",
       "      <td>0.203626</td>\n",
       "      <td>0.825262</td>\n",
       "    </tr>\n",
       "    <tr>\n",
       "      <td>13</td>\n",
       "      <td>{'decisiontreeclassifier__criterion': 'entropy...</td>\n",
       "      <td>0.620048</td>\n",
       "      <td>0.203626</td>\n",
       "      <td>0.825262</td>\n",
       "    </tr>\n",
       "    <tr>\n",
       "      <td>14</td>\n",
       "      <td>{'decisiontreeclassifier__criterion': 'entropy...</td>\n",
       "      <td>0.620048</td>\n",
       "      <td>0.203626</td>\n",
       "      <td>0.825262</td>\n",
       "    </tr>\n",
       "    <tr>\n",
       "      <td>15</td>\n",
       "      <td>{'decisiontreeclassifier__criterion': 'entropy...</td>\n",
       "      <td>0.645604</td>\n",
       "      <td>0.207957</td>\n",
       "      <td>0.782763</td>\n",
       "    </tr>\n",
       "    <tr>\n",
       "      <td>16</td>\n",
       "      <td>{'decisiontreeclassifier__criterion': 'entropy...</td>\n",
       "      <td>0.645604</td>\n",
       "      <td>0.207957</td>\n",
       "      <td>0.782763</td>\n",
       "    </tr>\n",
       "    <tr>\n",
       "      <td>17</td>\n",
       "      <td>{'decisiontreeclassifier__criterion': 'entropy...</td>\n",
       "      <td>0.645604</td>\n",
       "      <td>0.207957</td>\n",
       "      <td>0.782763</td>\n",
       "    </tr>\n",
       "  </tbody>\n",
       "</table>\n",
       "</div>"
      ],
      "text/plain": [
       "                                               params  mean_test_accuracy  \\\n",
       "0   {'decisiontreeclassifier__criterion': 'gini', ...            0.647760   \n",
       "1   {'decisiontreeclassifier__criterion': 'gini', ...            0.647760   \n",
       "2   {'decisiontreeclassifier__criterion': 'gini', ...            0.647760   \n",
       "3   {'decisiontreeclassifier__criterion': 'gini', ...            0.647608   \n",
       "4   {'decisiontreeclassifier__criterion': 'gini', ...            0.647608   \n",
       "5   {'decisiontreeclassifier__criterion': 'gini', ...            0.647608   \n",
       "6   {'decisiontreeclassifier__criterion': 'gini', ...            0.661110   \n",
       "7   {'decisiontreeclassifier__criterion': 'gini', ...            0.661110   \n",
       "8   {'decisiontreeclassifier__criterion': 'gini', ...            0.661110   \n",
       "9   {'decisiontreeclassifier__criterion': 'entropy...            0.615171   \n",
       "10  {'decisiontreeclassifier__criterion': 'entropy...            0.615171   \n",
       "11  {'decisiontreeclassifier__criterion': 'entropy...            0.615171   \n",
       "12  {'decisiontreeclassifier__criterion': 'entropy...            0.620048   \n",
       "13  {'decisiontreeclassifier__criterion': 'entropy...            0.620048   \n",
       "14  {'decisiontreeclassifier__criterion': 'entropy...            0.620048   \n",
       "15  {'decisiontreeclassifier__criterion': 'entropy...            0.645604   \n",
       "16  {'decisiontreeclassifier__criterion': 'entropy...            0.645604   \n",
       "17  {'decisiontreeclassifier__criterion': 'entropy...            0.645604   \n",
       "\n",
       "    mean_test_precision  mean_test_recall  \n",
       "0              0.207803          0.782844  \n",
       "1              0.207803          0.782844  \n",
       "2              0.207803          0.782844  \n",
       "3              0.212083          0.804196  \n",
       "4              0.212083          0.804196  \n",
       "5              0.212083          0.804196  \n",
       "6              0.212845          0.773257  \n",
       "7              0.212845          0.773257  \n",
       "8              0.212845          0.773257  \n",
       "9              0.197603          0.814365  \n",
       "10             0.197603          0.814365  \n",
       "11             0.197603          0.814365  \n",
       "12             0.203626          0.825262  \n",
       "13             0.203626          0.825262  \n",
       "14             0.203626          0.825262  \n",
       "15             0.207957          0.782763  \n",
       "16             0.207957          0.782763  \n",
       "17             0.207957          0.782763  "
      ]
     },
     "execution_count": 106,
     "metadata": {},
     "output_type": "execute_result"
    }
   ],
   "source": [
    "pipeline = make_pipeline((SMOTE(random_state=0)), DecisionTreeClassifier())\n",
    "kf = RepeatedStratifiedKFold(n_splits=10, n_repeats=3, random_state=1)\n",
    "\n",
    "#model\n",
    "params = {'decisiontreeclassifier__criterion':['gini','entropy'],\n",
    "          'decisiontreeclassifier__max_depth': [1,3,5],\n",
    "          'decisiontreeclassifier__min_samples_split':[2,5,10]}\n",
    "\n",
    "grid = GridSearchCV(estimator=pipeline,\n",
    "                    param_grid=params,\n",
    "                    cv=kf,\n",
    "                    return_train_score=True,\n",
    "                    scoring= ['accuracy', 'precision', 'recall'],\n",
    "                    refit = 'accuracy',\n",
    "                    iid = True)\n",
    "\n",
    "grid.fit(train_NORM.loc[:, features], train_NORM[outcome].values.ravel())\n",
    "dt_tree_results = pd.DataFrame(grid.cv_results_)\n",
    "best_model_d_dtree = grid.best_estimator_.get_params()['steps'][1][1]\n",
    "dt_tree_results[['params', 'mean_test_accuracy', 'mean_test_precision', 'mean_test_recall']]"
   ]
  },
  {
   "cell_type": "code",
   "execution_count": 110,
   "metadata": {},
   "outputs": [
    {
     "name": "stdout",
     "output_type": "stream",
     "text": [
      "Accuracy: 0.6512435890365632\n",
      "Precision: 0.20686406460296097\n",
      "Recall: 0.7809959349593496\n",
      "F1 Score: 0.32709087039795703\n"
     ]
    }
   ],
   "source": [
    "y_predicted = best_model_d_dtree.predict(X_test_NORM)\n",
    "print('''Accuracy: {}\n",
    "Precision: {}\n",
    "Recall: {}\n",
    "F1 Score: {}'''.format(sklearn.metrics.accuracy_score(y_test, y_predicted),\n",
    "                       sklearn.metrics.precision_score(y_test, y_predicted), \n",
    "                       sklearn.metrics.recall_score(y_test, y_predicted),\n",
    "                       sklearn.metrics.f1_score(y_test, y_predicted)))"
   ]
  },
  {
   "cell_type": "markdown",
   "metadata": {},
   "source": [
    "Predicting hospitalizations"
   ]
  },
  {
   "cell_type": "code",
   "execution_count": 108,
   "metadata": {
    "scrolled": false
   },
   "outputs": [
    {
     "data": {
      "text/html": [
       "<div>\n",
       "<style scoped>\n",
       "    .dataframe tbody tr th:only-of-type {\n",
       "        vertical-align: middle;\n",
       "    }\n",
       "\n",
       "    .dataframe tbody tr th {\n",
       "        vertical-align: top;\n",
       "    }\n",
       "\n",
       "    .dataframe thead th {\n",
       "        text-align: right;\n",
       "    }\n",
       "</style>\n",
       "<table border=\"1\" class=\"dataframe\">\n",
       "  <thead>\n",
       "    <tr style=\"text-align: right;\">\n",
       "      <th></th>\n",
       "      <th>params</th>\n",
       "      <th>mean_test_accuracy</th>\n",
       "      <th>mean_test_precision</th>\n",
       "      <th>mean_test_recall</th>\n",
       "    </tr>\n",
       "  </thead>\n",
       "  <tbody>\n",
       "    <tr>\n",
       "      <td>0</td>\n",
       "      <td>{'decisiontreeclassifier__criterion': 'gini', ...</td>\n",
       "      <td>0.680541</td>\n",
       "      <td>0.534546</td>\n",
       "      <td>0.674891</td>\n",
       "    </tr>\n",
       "    <tr>\n",
       "      <td>1</td>\n",
       "      <td>{'decisiontreeclassifier__criterion': 'gini', ...</td>\n",
       "      <td>0.680541</td>\n",
       "      <td>0.534546</td>\n",
       "      <td>0.674891</td>\n",
       "    </tr>\n",
       "    <tr>\n",
       "      <td>2</td>\n",
       "      <td>{'decisiontreeclassifier__criterion': 'gini', ...</td>\n",
       "      <td>0.680541</td>\n",
       "      <td>0.534546</td>\n",
       "      <td>0.674891</td>\n",
       "    </tr>\n",
       "    <tr>\n",
       "      <td>3</td>\n",
       "      <td>{'decisiontreeclassifier__criterion': 'gini', ...</td>\n",
       "      <td>0.677402</td>\n",
       "      <td>0.528433</td>\n",
       "      <td>0.726087</td>\n",
       "    </tr>\n",
       "    <tr>\n",
       "      <td>4</td>\n",
       "      <td>{'decisiontreeclassifier__criterion': 'gini', ...</td>\n",
       "      <td>0.677402</td>\n",
       "      <td>0.528433</td>\n",
       "      <td>0.726087</td>\n",
       "    </tr>\n",
       "    <tr>\n",
       "      <td>5</td>\n",
       "      <td>{'decisiontreeclassifier__criterion': 'gini', ...</td>\n",
       "      <td>0.677402</td>\n",
       "      <td>0.528433</td>\n",
       "      <td>0.726087</td>\n",
       "    </tr>\n",
       "    <tr>\n",
       "      <td>6</td>\n",
       "      <td>{'decisiontreeclassifier__criterion': 'gini', ...</td>\n",
       "      <td>0.690303</td>\n",
       "      <td>0.548456</td>\n",
       "      <td>0.692983</td>\n",
       "    </tr>\n",
       "    <tr>\n",
       "      <td>7</td>\n",
       "      <td>{'decisiontreeclassifier__criterion': 'gini', ...</td>\n",
       "      <td>0.690303</td>\n",
       "      <td>0.548456</td>\n",
       "      <td>0.692983</td>\n",
       "    </tr>\n",
       "    <tr>\n",
       "      <td>8</td>\n",
       "      <td>{'decisiontreeclassifier__criterion': 'gini', ...</td>\n",
       "      <td>0.690303</td>\n",
       "      <td>0.548456</td>\n",
       "      <td>0.692983</td>\n",
       "    </tr>\n",
       "    <tr>\n",
       "      <td>9</td>\n",
       "      <td>{'decisiontreeclassifier__criterion': 'entropy...</td>\n",
       "      <td>0.680674</td>\n",
       "      <td>0.534776</td>\n",
       "      <td>0.673906</td>\n",
       "    </tr>\n",
       "    <tr>\n",
       "      <td>10</td>\n",
       "      <td>{'decisiontreeclassifier__criterion': 'entropy...</td>\n",
       "      <td>0.680674</td>\n",
       "      <td>0.534776</td>\n",
       "      <td>0.673906</td>\n",
       "    </tr>\n",
       "    <tr>\n",
       "      <td>11</td>\n",
       "      <td>{'decisiontreeclassifier__criterion': 'entropy...</td>\n",
       "      <td>0.680674</td>\n",
       "      <td>0.534776</td>\n",
       "      <td>0.673906</td>\n",
       "    </tr>\n",
       "    <tr>\n",
       "      <td>12</td>\n",
       "      <td>{'decisiontreeclassifier__criterion': 'entropy...</td>\n",
       "      <td>0.677627</td>\n",
       "      <td>0.528975</td>\n",
       "      <td>0.718481</td>\n",
       "    </tr>\n",
       "    <tr>\n",
       "      <td>13</td>\n",
       "      <td>{'decisiontreeclassifier__criterion': 'entropy...</td>\n",
       "      <td>0.677627</td>\n",
       "      <td>0.528975</td>\n",
       "      <td>0.718481</td>\n",
       "    </tr>\n",
       "    <tr>\n",
       "      <td>14</td>\n",
       "      <td>{'decisiontreeclassifier__criterion': 'entropy...</td>\n",
       "      <td>0.677627</td>\n",
       "      <td>0.528975</td>\n",
       "      <td>0.718481</td>\n",
       "    </tr>\n",
       "    <tr>\n",
       "      <td>15</td>\n",
       "      <td>{'decisiontreeclassifier__criterion': 'entropy...</td>\n",
       "      <td>0.683519</td>\n",
       "      <td>0.538180</td>\n",
       "      <td>0.707435</td>\n",
       "    </tr>\n",
       "    <tr>\n",
       "      <td>16</td>\n",
       "      <td>{'decisiontreeclassifier__criterion': 'entropy...</td>\n",
       "      <td>0.683519</td>\n",
       "      <td>0.538180</td>\n",
       "      <td>0.707435</td>\n",
       "    </tr>\n",
       "    <tr>\n",
       "      <td>17</td>\n",
       "      <td>{'decisiontreeclassifier__criterion': 'entropy...</td>\n",
       "      <td>0.683519</td>\n",
       "      <td>0.538180</td>\n",
       "      <td>0.707435</td>\n",
       "    </tr>\n",
       "  </tbody>\n",
       "</table>\n",
       "</div>"
      ],
      "text/plain": [
       "                                               params  mean_test_accuracy  \\\n",
       "0   {'decisiontreeclassifier__criterion': 'gini', ...            0.680541   \n",
       "1   {'decisiontreeclassifier__criterion': 'gini', ...            0.680541   \n",
       "2   {'decisiontreeclassifier__criterion': 'gini', ...            0.680541   \n",
       "3   {'decisiontreeclassifier__criterion': 'gini', ...            0.677402   \n",
       "4   {'decisiontreeclassifier__criterion': 'gini', ...            0.677402   \n",
       "5   {'decisiontreeclassifier__criterion': 'gini', ...            0.677402   \n",
       "6   {'decisiontreeclassifier__criterion': 'gini', ...            0.690303   \n",
       "7   {'decisiontreeclassifier__criterion': 'gini', ...            0.690303   \n",
       "8   {'decisiontreeclassifier__criterion': 'gini', ...            0.690303   \n",
       "9   {'decisiontreeclassifier__criterion': 'entropy...            0.680674   \n",
       "10  {'decisiontreeclassifier__criterion': 'entropy...            0.680674   \n",
       "11  {'decisiontreeclassifier__criterion': 'entropy...            0.680674   \n",
       "12  {'decisiontreeclassifier__criterion': 'entropy...            0.677627   \n",
       "13  {'decisiontreeclassifier__criterion': 'entropy...            0.677627   \n",
       "14  {'decisiontreeclassifier__criterion': 'entropy...            0.677627   \n",
       "15  {'decisiontreeclassifier__criterion': 'entropy...            0.683519   \n",
       "16  {'decisiontreeclassifier__criterion': 'entropy...            0.683519   \n",
       "17  {'decisiontreeclassifier__criterion': 'entropy...            0.683519   \n",
       "\n",
       "    mean_test_precision  mean_test_recall  \n",
       "0              0.534546          0.674891  \n",
       "1              0.534546          0.674891  \n",
       "2              0.534546          0.674891  \n",
       "3              0.528433          0.726087  \n",
       "4              0.528433          0.726087  \n",
       "5              0.528433          0.726087  \n",
       "6              0.548456          0.692983  \n",
       "7              0.548456          0.692983  \n",
       "8              0.548456          0.692983  \n",
       "9              0.534776          0.673906  \n",
       "10             0.534776          0.673906  \n",
       "11             0.534776          0.673906  \n",
       "12             0.528975          0.718481  \n",
       "13             0.528975          0.718481  \n",
       "14             0.528975          0.718481  \n",
       "15             0.538180          0.707435  \n",
       "16             0.538180          0.707435  \n",
       "17             0.538180          0.707435  "
      ]
     },
     "execution_count": 108,
     "metadata": {},
     "output_type": "execute_result"
    }
   ],
   "source": [
    "grid = GridSearchCV(estimator=pipeline,\n",
    "                    param_grid=params,\n",
    "                    cv=kf,\n",
    "                    return_train_score=True,\n",
    "                    scoring= ['accuracy', 'precision', 'recall'],\n",
    "                    refit = 'accuracy',\n",
    "                    iid = True)\n",
    "\n",
    "grid.fit(train_NORM.loc[:, features], train_NORM['hospitalizado'].values.ravel())\n",
    "dt_tree_results = pd.DataFrame(grid.cv_results_)\n",
    "best_model_hosp_dtree = grid.best_estimator_.get_params()['steps'][1][1]\n",
    "dt_tree_results[['params', 'mean_test_accuracy', 'mean_test_precision', 'mean_test_recall']]"
   ]
  },
  {
   "cell_type": "code",
   "execution_count": 126,
   "metadata": {},
   "outputs": [
    {
     "data": {
      "image/png": "[encoded data removed]",
      "text/plain": [
       "<Figure size 1296x576 with 2 Axes>"
      ]
     },
     "metadata": {},
     "output_type": "display_data"
    }
   ],
   "source": [
    "sns.set(style=\"whitegrid\") \n",
    "fig, ax = plt.subplots(1,2)\n",
    "fig.set_size_inches(18, 8)\n",
    "plt.suptitle('''Feature importance for COVID19 deaths and hospitalizations prediction using\n",
    "                Decision tree classifier\n",
    "                generating synthetic data (SMOTE) per eack fold in CV''')\n",
    "importance = pd.DataFrame.from_dict({'predictor':features,\n",
    "                                     'importance':best_model_d_dtree.feature_importances_.flatten()})\n",
    "plt.sca(ax[0])\n",
    "sns.barplot(x='importance', y='predictor', data=importance.sort_values(by=\"importance\", ascending=False)[0:10],\n",
    "            palette=\"cubehelix\")\n",
    "ax[0].set_xlabel('Importance')\n",
    "ax[0].set_title('Outcome: Deaths');\n",
    "\n",
    "importance = pd.DataFrame.from_dict({'predictor':features,\n",
    "                                     'importance':best_model_hosp_dtree.feature_importances_.flatten()})\n",
    "plt.sca(ax[1])\n",
    "sns.barplot(x='importance', y='predictor', data=importance.sort_values(by=\"importance\", ascending=False)[0:10],\n",
    "            palette=\"cubehelix\")\n",
    "ax[1].set_xlabel('Importance')\n",
    "ax[1].set_title('Outcome: Hospitalization');"
   ]
  }
 ],
 "metadata": {
  "kernelspec": {
   "display_name": "Python 3.7.4 64-bit ('base': conda)",
   "language": "python",
   "name": "python37464bitbaseconda0da0b65ad1424efa9b02111640aba016"
  },
  "language_info": {
   "codemirror_mode": {
    "name": "ipython",
    "version": 3
   },
   "file_extension": ".py",
   "mimetype": "text/x-python",
   "name": "python",
   "nbconvert_exporter": "python",
   "pygments_lexer": "ipython3",
   "version": "3.7.4"
  }
 },
 "nbformat": 4,
 "nbformat_minor": 2
}
